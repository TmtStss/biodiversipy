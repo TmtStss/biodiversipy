{
 "cells": [
  {
   "cell_type": "code",
   "execution_count": 1,
   "id": "e837d02e",
   "metadata": {},
   "outputs": [
    {
     "name": "stdout",
     "output_type": "stream",
     "text": [
      "Requirement already satisfied: icrawler in /Users/samueldrewes/.pyenv/versions/3.8.13/envs/lewagon/envs/the_best/lib/python3.8/site-packages (0.6.6)\n",
      "Requirement already satisfied: beautifulsoup4>=4.4.1 in /Users/samueldrewes/.pyenv/versions/3.8.13/envs/lewagon/envs/the_best/lib/python3.8/site-packages (from icrawler) (4.10.0)\n",
      "Requirement already satisfied: Pillow in /Users/samueldrewes/.pyenv/versions/3.8.13/envs/lewagon/envs/the_best/lib/python3.8/site-packages (from icrawler) (9.0.0)\n",
      "Requirement already satisfied: lxml in /Users/samueldrewes/.pyenv/versions/3.8.13/envs/lewagon/envs/the_best/lib/python3.8/site-packages (from icrawler) (4.7.1)\n",
      "Requirement already satisfied: requests>=2.9.1 in /Users/samueldrewes/.pyenv/versions/3.8.13/envs/lewagon/envs/the_best/lib/python3.8/site-packages (from icrawler) (2.27.1)\n",
      "Requirement already satisfied: six>=1.10.0 in /Users/samueldrewes/.pyenv/versions/3.8.13/envs/lewagon/envs/the_best/lib/python3.8/site-packages (from icrawler) (1.15.0)\n",
      "Requirement already satisfied: soupsieve>1.2 in /Users/samueldrewes/.pyenv/versions/3.8.13/envs/lewagon/envs/the_best/lib/python3.8/site-packages (from beautifulsoup4>=4.4.1->icrawler) (2.3.1)\n",
      "Requirement already satisfied: certifi>=2017.4.17 in /Users/samueldrewes/.pyenv/versions/3.8.13/envs/lewagon/envs/the_best/lib/python3.8/site-packages (from requests>=2.9.1->icrawler) (2021.10.8)\n",
      "Requirement already satisfied: charset-normalizer~=2.0.0 in /Users/samueldrewes/.pyenv/versions/3.8.13/envs/lewagon/envs/the_best/lib/python3.8/site-packages (from requests>=2.9.1->icrawler) (2.0.10)\n",
      "Requirement already satisfied: urllib3<1.27,>=1.21.1 in /Users/samueldrewes/.pyenv/versions/3.8.13/envs/lewagon/envs/the_best/lib/python3.8/site-packages (from requests>=2.9.1->icrawler) (1.26.7)\n",
      "Requirement already satisfied: idna<4,>=2.5 in /Users/samueldrewes/.pyenv/versions/3.8.13/envs/lewagon/envs/the_best/lib/python3.8/site-packages (from requests>=2.9.1->icrawler) (3.3)\n",
      "\u001b[33mWARNING: You are using pip version 22.0.4; however, version 22.1.2 is available.\n",
      "You should consider upgrading via the '/Users/samueldrewes/.pyenv/versions/lewagon/envs/the_best/bin/python3 -m pip install --upgrade pip' command.\u001b[0m\u001b[33m\n",
      "\u001b[0m"
     ]
    }
   ],
   "source": [
    "!pip install icrawler\n"
   ]
  },
  {
   "cell_type": "code",
   "execution_count": 2,
   "id": "d1d9bd28",
   "metadata": {},
   "outputs": [],
   "source": [
    "from icrawler.builtin import GoogleImageCrawler\n"
   ]
  },
  {
   "cell_type": "code",
   "execution_count": 3,
   "id": "7b260d01",
   "metadata": {},
   "outputs": [],
   "source": [
    "import requests"
   ]
  },
  {
   "cell_type": "code",
   "execution_count": 4,
   "id": "bb769cc4",
   "metadata": {},
   "outputs": [],
   "source": [
    "\n",
    "# number stuff\n",
    "import pandas as pd\n",
    "import numpy as np\n",
    "\n",
    "# visualization\n",
    "import matplotlib.pyplot as plt\n",
    "import seaborn as sns"
   ]
  },
  {
   "cell_type": "code",
   "execution_count": 5,
   "id": "52b3fa07",
   "metadata": {},
   "outputs": [
    {
     "name": "stdout",
     "output_type": "stream",
     "text": [
      "/Users/samueldrewes/code/ElCheckler/biodiversipy/notebooks\r\n"
     ]
    }
   ],
   "source": [
    "!pwd"
   ]
  },
  {
   "cell_type": "code",
   "execution_count": 6,
   "id": "830de863",
   "metadata": {},
   "outputs": [],
   "source": [
    "sample_taxonKey = 3091677"
   ]
  },
  {
   "cell_type": "code",
   "execution_count": 7,
   "id": "5d80a94e",
   "metadata": {},
   "outputs": [],
   "source": [
    "metadata = pd.read_csv('../raw_data/Experiment_data/metadata_1000.csv')"
   ]
  },
  {
   "cell_type": "code",
   "execution_count": 8,
   "id": "55a23736",
   "metadata": {},
   "outputs": [
    {
     "data": {
      "text/html": [
       "<div>\n",
       "<style scoped>\n",
       "    .dataframe tbody tr th:only-of-type {\n",
       "        vertical-align: middle;\n",
       "    }\n",
       "\n",
       "    .dataframe tbody tr th {\n",
       "        vertical-align: top;\n",
       "    }\n",
       "\n",
       "    .dataframe thead th {\n",
       "        text-align: right;\n",
       "    }\n",
       "</style>\n",
       "<table border=\"1\" class=\"dataframe\">\n",
       "  <thead>\n",
       "    <tr style=\"text-align: right;\">\n",
       "      <th></th>\n",
       "      <th>gbifID</th>\n",
       "      <th>datasetKey</th>\n",
       "      <th>kingdom</th>\n",
       "      <th>phylum</th>\n",
       "      <th>class</th>\n",
       "      <th>order</th>\n",
       "      <th>family</th>\n",
       "      <th>genus</th>\n",
       "      <th>species</th>\n",
       "      <th>scientificName</th>\n",
       "      <th>day</th>\n",
       "      <th>month</th>\n",
       "      <th>year</th>\n",
       "      <th>taxonKey</th>\n",
       "      <th>license</th>\n",
       "    </tr>\n",
       "  </thead>\n",
       "  <tbody>\n",
       "    <tr>\n",
       "      <th>995</th>\n",
       "      <td>2974393296</td>\n",
       "      <td>7a3679ef-5582-4aaa-81f0-8c2545cafc81</td>\n",
       "      <td>Plantae</td>\n",
       "      <td>Tracheophyta</td>\n",
       "      <td>Magnoliopsida</td>\n",
       "      <td>Asterales</td>\n",
       "      <td>Asteraceae</td>\n",
       "      <td>Cichorium</td>\n",
       "      <td>Cichorium intybus</td>\n",
       "      <td>Cichorium intybus L.</td>\n",
       "      <td>11.0</td>\n",
       "      <td>7.0</td>\n",
       "      <td>2020.0</td>\n",
       "      <td>5392252</td>\n",
       "      <td>CC_BY_4_0</td>\n",
       "    </tr>\n",
       "    <tr>\n",
       "      <th>996</th>\n",
       "      <td>2330444745</td>\n",
       "      <td>6ac3f774-d9fb-4796-b3e9-92bf6c81c084</td>\n",
       "      <td>Plantae</td>\n",
       "      <td>Tracheophyta</td>\n",
       "      <td>Magnoliopsida</td>\n",
       "      <td>Caryophyllales</td>\n",
       "      <td>Amaranthaceae</td>\n",
       "      <td>Suaeda</td>\n",
       "      <td>Suaeda maritima</td>\n",
       "      <td>Suaeda maritima (L.) Dumort.</td>\n",
       "      <td>16.0</td>\n",
       "      <td>6.0</td>\n",
       "      <td>2018.0</td>\n",
       "      <td>3083541</td>\n",
       "      <td>CC_BY_4_0</td>\n",
       "    </tr>\n",
       "    <tr>\n",
       "      <th>997</th>\n",
       "      <td>2645522615</td>\n",
       "      <td>14d5676a-2c54-4f94-9023-1e8dcd822aa0</td>\n",
       "      <td>Plantae</td>\n",
       "      <td>Tracheophyta</td>\n",
       "      <td>Magnoliopsida</td>\n",
       "      <td>Boraginales</td>\n",
       "      <td>Boraginaceae</td>\n",
       "      <td>Echium</td>\n",
       "      <td>Echium vulgare</td>\n",
       "      <td>Echium vulgare L.</td>\n",
       "      <td>12.0</td>\n",
       "      <td>6.0</td>\n",
       "      <td>2019.0</td>\n",
       "      <td>2925892</td>\n",
       "      <td>CC_BY_4_0</td>\n",
       "    </tr>\n",
       "    <tr>\n",
       "      <th>998</th>\n",
       "      <td>2978323541</td>\n",
       "      <td>14d5676a-2c54-4f94-9023-1e8dcd822aa0</td>\n",
       "      <td>Plantae</td>\n",
       "      <td>Tracheophyta</td>\n",
       "      <td>Magnoliopsida</td>\n",
       "      <td>Ericales</td>\n",
       "      <td>Balsaminaceae</td>\n",
       "      <td>Impatiens</td>\n",
       "      <td>Impatiens glandulifera</td>\n",
       "      <td>Impatiens glandulifera Royle</td>\n",
       "      <td>4.0</td>\n",
       "      <td>9.0</td>\n",
       "      <td>2020.0</td>\n",
       "      <td>2891770</td>\n",
       "      <td>CC_BY_4_0</td>\n",
       "    </tr>\n",
       "    <tr>\n",
       "      <th>999</th>\n",
       "      <td>2329828502</td>\n",
       "      <td>6ac3f774-d9fb-4796-b3e9-92bf6c81c084</td>\n",
       "      <td>Plantae</td>\n",
       "      <td>Tracheophyta</td>\n",
       "      <td>Magnoliopsida</td>\n",
       "      <td>Fabales</td>\n",
       "      <td>Fabaceae</td>\n",
       "      <td>Robinia</td>\n",
       "      <td>Robinia pseudoacacia</td>\n",
       "      <td>Robinia pseudoacacia L.</td>\n",
       "      <td>30.0</td>\n",
       "      <td>6.0</td>\n",
       "      <td>2001.0</td>\n",
       "      <td>5352251</td>\n",
       "      <td>CC_BY_4_0</td>\n",
       "    </tr>\n",
       "  </tbody>\n",
       "</table>\n",
       "</div>"
      ],
      "text/plain": [
       "         gbifID                            datasetKey  kingdom        phylum  \\\n",
       "995  2974393296  7a3679ef-5582-4aaa-81f0-8c2545cafc81  Plantae  Tracheophyta   \n",
       "996  2330444745  6ac3f774-d9fb-4796-b3e9-92bf6c81c084  Plantae  Tracheophyta   \n",
       "997  2645522615  14d5676a-2c54-4f94-9023-1e8dcd822aa0  Plantae  Tracheophyta   \n",
       "998  2978323541  14d5676a-2c54-4f94-9023-1e8dcd822aa0  Plantae  Tracheophyta   \n",
       "999  2329828502  6ac3f774-d9fb-4796-b3e9-92bf6c81c084  Plantae  Tracheophyta   \n",
       "\n",
       "             class           order         family      genus  \\\n",
       "995  Magnoliopsida       Asterales     Asteraceae  Cichorium   \n",
       "996  Magnoliopsida  Caryophyllales  Amaranthaceae     Suaeda   \n",
       "997  Magnoliopsida     Boraginales   Boraginaceae     Echium   \n",
       "998  Magnoliopsida        Ericales  Balsaminaceae  Impatiens   \n",
       "999  Magnoliopsida         Fabales       Fabaceae    Robinia   \n",
       "\n",
       "                    species                scientificName   day  month  \\\n",
       "995       Cichorium intybus          Cichorium intybus L.  11.0    7.0   \n",
       "996         Suaeda maritima  Suaeda maritima (L.) Dumort.  16.0    6.0   \n",
       "997          Echium vulgare             Echium vulgare L.  12.0    6.0   \n",
       "998  Impatiens glandulifera  Impatiens glandulifera Royle   4.0    9.0   \n",
       "999    Robinia pseudoacacia       Robinia pseudoacacia L.  30.0    6.0   \n",
       "\n",
       "       year  taxonKey    license  \n",
       "995  2020.0   5392252  CC_BY_4_0  \n",
       "996  2018.0   3083541  CC_BY_4_0  \n",
       "997  2019.0   2925892  CC_BY_4_0  \n",
       "998  2020.0   2891770  CC_BY_4_0  \n",
       "999  2001.0   5352251  CC_BY_4_0  "
      ]
     },
     "execution_count": 8,
     "metadata": {},
     "output_type": "execute_result"
    }
   ],
   "source": [
    "metadata.tail(5)"
   ]
  },
  {
   "cell_type": "code",
   "execution_count": null,
   "id": "03a6e068",
   "metadata": {},
   "outputs": [],
   "source": []
  },
  {
   "cell_type": "code",
   "execution_count": 9,
   "id": "d8f26872",
   "metadata": {},
   "outputs": [
    {
     "data": {
      "text/plain": [
       "0      3091677\n",
       "1      5392252\n",
       "2      4118973\n",
       "3      5384676\n",
       "4      7960979\n",
       "        ...   \n",
       "995    5392252\n",
       "996    3083541\n",
       "997    2925892\n",
       "998    2891770\n",
       "999    5352251\n",
       "Name: taxonKey, Length: 1000, dtype: int64"
      ]
     },
     "execution_count": 9,
     "metadata": {},
     "output_type": "execute_result"
    }
   ],
   "source": [
    "metadata['taxonKey']"
   ]
  },
  {
   "cell_type": "markdown",
   "id": "6a5d7634",
   "metadata": {},
   "source": [
    "# Image from taxonKey"
   ]
  },
  {
   "cell_type": "code",
   "execution_count": 10,
   "id": "c394fdf8",
   "metadata": {},
   "outputs": [
    {
     "data": {
      "text/html": [
       "<div>\n",
       "<style scoped>\n",
       "    .dataframe tbody tr th:only-of-type {\n",
       "        vertical-align: middle;\n",
       "    }\n",
       "\n",
       "    .dataframe tbody tr th {\n",
       "        vertical-align: top;\n",
       "    }\n",
       "\n",
       "    .dataframe thead th {\n",
       "        text-align: right;\n",
       "    }\n",
       "</style>\n",
       "<table border=\"1\" class=\"dataframe\">\n",
       "  <thead>\n",
       "    <tr style=\"text-align: right;\">\n",
       "      <th></th>\n",
       "      <th>gbifID</th>\n",
       "      <th>datasetKey</th>\n",
       "      <th>kingdom</th>\n",
       "      <th>phylum</th>\n",
       "      <th>class</th>\n",
       "      <th>order</th>\n",
       "      <th>family</th>\n",
       "      <th>genus</th>\n",
       "      <th>species</th>\n",
       "      <th>scientificName</th>\n",
       "      <th>day</th>\n",
       "      <th>month</th>\n",
       "      <th>year</th>\n",
       "      <th>taxonKey</th>\n",
       "      <th>license</th>\n",
       "    </tr>\n",
       "  </thead>\n",
       "  <tbody>\n",
       "    <tr>\n",
       "      <th>0</th>\n",
       "      <td>1668760846</td>\n",
       "      <td>6ac3f774-d9fb-4796-b3e9-92bf6c81c084</td>\n",
       "      <td>Plantae</td>\n",
       "      <td>Tracheophyta</td>\n",
       "      <td>Magnoliopsida</td>\n",
       "      <td>Asterales</td>\n",
       "      <td>Asteraceae</td>\n",
       "      <td>Galatella</td>\n",
       "      <td>Galatella linosyris</td>\n",
       "      <td>Galatella linosyris (L.) Rchb.fil.</td>\n",
       "      <td>25.0</td>\n",
       "      <td>9.0</td>\n",
       "      <td>2017.0</td>\n",
       "      <td>3091677</td>\n",
       "      <td>CC_BY_4_0</td>\n",
       "    </tr>\n",
       "  </tbody>\n",
       "</table>\n",
       "</div>"
      ],
      "text/plain": [
       "       gbifID                            datasetKey  kingdom        phylum  \\\n",
       "0  1668760846  6ac3f774-d9fb-4796-b3e9-92bf6c81c084  Plantae  Tracheophyta   \n",
       "\n",
       "           class      order      family      genus              species  \\\n",
       "0  Magnoliopsida  Asterales  Asteraceae  Galatella  Galatella linosyris   \n",
       "\n",
       "                       scientificName   day  month    year  taxonKey  \\\n",
       "0  Galatella linosyris (L.) Rchb.fil.  25.0    9.0  2017.0   3091677   \n",
       "\n",
       "     license  \n",
       "0  CC_BY_4_0  "
      ]
     },
     "execution_count": 10,
     "metadata": {},
     "output_type": "execute_result"
    }
   ],
   "source": [
    "metadata.loc[metadata['taxonKey'] == 3091677]"
   ]
  },
  {
   "cell_type": "code",
   "execution_count": 37,
   "id": "aa465b8b",
   "metadata": {},
   "outputs": [],
   "source": [
    "def species_name_from_taxonKey(taxonKey, metadata_df):\n",
    "    \n",
    "    pdseries = metadata_df.loc[metadata_df['taxonKey'] == taxonKey]['scientificName']\n",
    "    \n",
    "    return pdseries.iloc[0]\n",
    "    \n",
    "\n",
    "def image_from_taxonKey(taxonKey, metadata_df):\n",
    "    \n",
    "    species_name = species_name_from_taxonKey(taxonKey, metadata_df)\n",
    "    \n",
    "    google_Crawler = GoogleImageCrawler(storage = {'root_dir': r'output_image'})\n",
    "\n",
    "    google_Crawler.crawl(keyword = species_name, max_num = 20)"
   ]
  },
  {
   "cell_type": "code",
   "execution_count": 38,
   "id": "88560da0",
   "metadata": {},
   "outputs": [
    {
     "name": "stderr",
     "output_type": "stream",
     "text": [
      "2022-06-03 12:44:37,327 - INFO - icrawler.crawler - start crawling...\n",
      "2022-06-03 12:44:37,331 - INFO - icrawler.crawler - starting 1 feeder threads...\n",
      "2022-06-03 12:44:37,337 - INFO - feeder - thread feeder-001 exit\n",
      "2022-06-03 12:44:37,338 - INFO - icrawler.crawler - starting 1 parser threads...\n",
      "2022-06-03 12:44:37,344 - INFO - icrawler.crawler - starting 1 downloader threads...\n",
      "2022-06-03 12:44:38,064 - INFO - parser - parsing result page https://www.google.com/search?q=Echium+vulgare+L.&ijn=0&start=0&tbs=&tbm=isch\n",
      "2022-06-03 12:44:38,160 - INFO - downloader - skip downloading file 000001.jpg\n",
      "2022-06-03 12:44:38,160 - INFO - downloader - skip downloading file 000002.jpg\n",
      "2022-06-03 12:44:38,161 - INFO - downloader - skip downloading file 000003.jpg\n",
      "2022-06-03 12:44:38,162 - INFO - downloader - skip downloading file 000004.jpg\n",
      "2022-06-03 12:44:38,162 - INFO - downloader - skip downloading file 000005.jpg\n",
      "2022-06-03 12:44:38,393 - INFO - downloader - image #6\thttps://www.infoflora.ch/assets/db_doc/taxa_images/2015/12/30/20151230161845-ca526612.jpg\n",
      "2022-06-03 12:44:38,445 - INFO - downloader - image #7\thttps://www.infoflora.ch/assets/db_doc/taxa_images/2012/06/20/20120620230627-51b8551b.jpg\n",
      "2022-06-03 12:44:38,586 - INFO - downloader - image #8\thttps://d2seqvvyy3b8p2.cloudfront.net/3123ad0d337bea6358158d9710b17ba5.jpg\n",
      "2022-06-03 12:44:38,871 - INFO - downloader - image #9\thttps://cdn.pflanzmich.de/produkt/63704/00-63704-gewoehnlicher-natternkopf-06-2021-ls-BHH-5-2_c_medium.jpg\n",
      "2022-06-03 12:44:40,627 - INFO - downloader - image #10\thttps://www.mein-schoener-garten.de/sites/default/files/natternkopf-echium-vulgare-4254157-blp-alamy.jpg\n",
      "2022-06-03 12:44:40,879 - INFO - downloader - image #11\thttps://www.i-flora.com/fileadmin/website/daten/tax_fotos/Echium_vulgare_8.jpg\n",
      "2022-06-03 12:44:41,251 - INFO - downloader - image #12\thttps://cdn.pixabay.com/photo/2013/06/24/22/02/echium-vulgare-l-141010_1280.jpg\n",
      "2022-06-03 12:44:41,485 - INFO - downloader - image #13\thttps://www.naturadb.de/images/pflanzen/1826/2234-840sq.jpg\n",
      "2022-06-03 12:44:41,741 - ERROR - downloader - Response status code 404, file https://upload.wikimedia.org/wikipedia/commons/thumb/3/3d/Echium_vulgare_bl%C3%A5eld.jpg\n",
      "2022-06-03 12:44:42,982 - INFO - downloader - image #14\thttps://c8.alamy.com/comp/J3BHMD/echium-vulgare-l-ag1-J3BHMD.jpg\n",
      "2022-06-03 12:44:43,148 - INFO - downloader - image #15\thttps://upload.wikimedia.org/wikipedia/commons/f/f8/Echium_vulgare_flowers_close_up.jpg\n",
      "2022-06-03 12:44:44,856 - ERROR - downloader - Response status code 403, file https://img.fotocommunity.com/gewoehnlicher-natternkopf-echium-vulgare-l-c426983e-274a-437c-9079-352dc501a697.jpg\n",
      "2022-06-03 12:44:45,112 - INFO - downloader - image #16\thttps://www.nature-guide.info/images/records/large/346aaa0b-7fcb-4de8-b837-307c082f0e84.jpg\n",
      "2022-06-03 12:44:45,346 - INFO - downloader - image #17\thttp://www.tropengarten.de/Bilder/B-Echium-vulgare-1.jpg\n",
      "2022-06-03 12:44:45,608 - INFO - downloader - image #18\thttps://upload.wikimedia.org/wikipedia/commons/4/46/Echium_vulgare_%28flowers%29.jpg\n",
      "2022-06-03 12:44:46,036 - INFO - downloader - image #19\thttps://c8.alamy.com/compde/p5f534/na-englisch-echium-vulgare-l-in-der-ursprunglichen-beschreibung-gemeiner-natternkopf-echium-vulgare-1796-johann-georg-sturm-maler-jakob-sturm-492-echium-vulgare-sturm-11021-p5f534.jpg\n",
      "2022-06-03 12:44:46,369 - INFO - downloader - image #20\thttps://as1.ftcdn.net/v2/jpg/01/13/20/36/1000_F_113203687_bKd9srMi8p630iAWoZFqBJO4VEuIqXwI.jpg\n",
      "2022-06-03 12:44:46,489 - INFO - downloader - downloaded images reach max num, thread downloader-001 is ready to exit\n",
      "2022-06-03 12:44:46,490 - INFO - downloader - thread downloader-001 exit\n",
      "2022-06-03 12:44:47,392 - INFO - icrawler.crawler - Crawling task done!\n"
     ]
    }
   ],
   "source": [
    "image_from_taxonKey(2925892 ,metadata)"
   ]
  },
  {
   "cell_type": "code",
   "execution_count": null,
   "id": "7d4651d5",
   "metadata": {},
   "outputs": [],
   "source": []
  },
  {
   "cell_type": "code",
   "execution_count": null,
   "id": "281383ea",
   "metadata": {},
   "outputs": [],
   "source": []
  },
  {
   "cell_type": "code",
   "execution_count": 13,
   "id": "58ed8069",
   "metadata": {},
   "outputs": [],
   "source": [
    "#Standard\n",
    "\n",
    "import numpy as np\n",
    "import pandas as pd\n",
    "\n",
    "#API\n",
    "\n",
    "from icrawler.builtin import GoogleImageCrawler\n",
    "import requests\n",
    "\n",
    "\n",
    "\n",
    "# Returns species name from a taxonKey and metadata dataframe\n",
    "def species_name_from_taxonKey(taxonKey, metadata_df):\n",
    "\n",
    "    pdseries = metadata_df.loc[metadata_df['taxonKey'] == taxonKey]['scientificName']\n",
    "\n",
    "    return pdseries.iloc[0]\n",
    "\n",
    "# Returns image of species from a taxonKey and metadata dataframe\n",
    "def image_from_taxonKey(taxonKey, metadata_df):\n",
    "\n",
    "    species_name = species_name_from_taxonKey(taxonKey, metadata_df)\n",
    "\n",
    "    google_Crawler = GoogleImageCrawler(storage = {'root_dir': r'output_image'})\n",
    "\n",
    "    google_Crawler.crawl(keyword = species_name, max_num = 1)\n"
   ]
  },
  {
   "cell_type": "markdown",
   "id": "2c87d8b9",
   "metadata": {},
   "source": [
    "# API"
   ]
  },
  {
   "cell_type": "code",
   "execution_count": 14,
   "id": "e656a72a",
   "metadata": {},
   "outputs": [],
   "source": [
    "url = 'https://nominatim.openstreetmap.org/search?'\n",
    "params = {\"q\": 'Weserstrasse 18, 12045', \"format\": 'json'}\n",
    "response = requests.get(url, params= params).json()\n"
   ]
  },
  {
   "cell_type": "code",
   "execution_count": 15,
   "id": "32a9b767",
   "metadata": {},
   "outputs": [
    {
     "data": {
      "text/plain": [
       "[{'place_id': 40779572,\n",
       "  'licence': 'Data © OpenStreetMap contributors, ODbL 1.0. https://osm.org/copyright',\n",
       "  'osm_type': 'node',\n",
       "  'osm_id': 3167656567,\n",
       "  'boundingbox': ['52.4870931', '52.4871931', '13.4319591', '13.4320591'],\n",
       "  'lat': '52.4871431',\n",
       "  'lon': '13.4320091',\n",
       "  'display_name': '18, Weserstraße, Reuterkiez, Neukölln, Berlin, 12045, Deutschland',\n",
       "  'class': 'place',\n",
       "  'type': 'house',\n",
       "  'importance': 0.22100000000000003}]"
      ]
     },
     "execution_count": 15,
     "metadata": {},
     "output_type": "execute_result"
    }
   ],
   "source": [
    "response"
   ]
  },
  {
   "cell_type": "code",
   "execution_count": null,
   "id": "947f977e",
   "metadata": {},
   "outputs": [],
   "source": []
  },
  {
   "cell_type": "markdown",
   "id": "3f233974",
   "metadata": {},
   "source": [
    "# Import Model"
   ]
  },
  {
   "cell_type": "code",
   "execution_count": 44,
   "id": "09a15b53",
   "metadata": {},
   "outputs": [],
   "source": [
    "def get_features_for_coordinates(latitude, longitude):\n",
    "    \n",
    "    occurrences = pd.DataFrame({\"latitude\": latitude, \"longitude\": longitude}, index = [0])\n",
    "    \n",
    "    for collection in data_sources:\n",
    "        \n",
    "        source_path = '../raw_data/output/feature' + data_sources[collection][\"id\"] + '_germany.csv'\n",
    "        \n",
    "        features = pd.read_csv(source_path)\n",
    "        \n",
    "        occurrences = occurrences.conditional_join(features,\n",
    "                                    ('latitude', 'lat_lower', '>='),\n",
    "                                    ('latitude', 'lat_upper', '<'),\n",
    "                                    ('longitude', 'lon_lower', '>='),\n",
    "                                    ('longitude', 'lon_upper', '<'),\n",
    "                                    how='inner')\n",
    "        \n",
    "        occurrences = occurrences.drop(columns=['lon_lower', 'lon_upper', 'lat_lower', 'lat_upper'])\n",
    "        \n",
    "    return occurrences"
   ]
  },
  {
   "cell_type": "code",
   "execution_count": 45,
   "id": "46cfa3f3",
   "metadata": {},
   "outputs": [
    {
     "ename": "NameError",
     "evalue": "name 'data_sources' is not defined",
     "output_type": "error",
     "traceback": [
      "\u001b[0;31m---------------------------------------------------------------------------\u001b[0m",
      "\u001b[0;31mNameError\u001b[0m                                 Traceback (most recent call last)",
      "\u001b[0;32m/var/folders/hk/rdjdftyd0877r286qh4d189c0000gn/T/ipykernel_13465/1316069378.py\u001b[0m in \u001b[0;36m<module>\u001b[0;34m\u001b[0m\n\u001b[0;32m----> 1\u001b[0;31m \u001b[0mget_features_for_coordinates\u001b[0m\u001b[0;34m(\u001b[0m\u001b[0;36m52.521980\u001b[0m\u001b[0;34m,\u001b[0m \u001b[0;36m13.522353\u001b[0m\u001b[0;34m)\u001b[0m\u001b[0;34m\u001b[0m\u001b[0;34m\u001b[0m\u001b[0m\n\u001b[0m",
      "\u001b[0;32m/var/folders/hk/rdjdftyd0877r286qh4d189c0000gn/T/ipykernel_13465/1969370820.py\u001b[0m in \u001b[0;36mget_features_for_coordinates\u001b[0;34m(latitude, longitude)\u001b[0m\n\u001b[1;32m      3\u001b[0m     \u001b[0moccurrences\u001b[0m \u001b[0;34m=\u001b[0m \u001b[0mpd\u001b[0m\u001b[0;34m.\u001b[0m\u001b[0mDataFrame\u001b[0m\u001b[0;34m(\u001b[0m\u001b[0;34m{\u001b[0m\u001b[0;34m\"latitude\"\u001b[0m\u001b[0;34m:\u001b[0m \u001b[0mlatitude\u001b[0m\u001b[0;34m,\u001b[0m \u001b[0;34m\"longitude\"\u001b[0m\u001b[0;34m:\u001b[0m \u001b[0mlongitude\u001b[0m\u001b[0;34m}\u001b[0m\u001b[0;34m,\u001b[0m \u001b[0mindex\u001b[0m \u001b[0;34m=\u001b[0m \u001b[0;34m[\u001b[0m\u001b[0;36m0\u001b[0m\u001b[0;34m]\u001b[0m\u001b[0;34m)\u001b[0m\u001b[0;34m\u001b[0m\u001b[0;34m\u001b[0m\u001b[0m\n\u001b[1;32m      4\u001b[0m \u001b[0;34m\u001b[0m\u001b[0m\n\u001b[0;32m----> 5\u001b[0;31m     \u001b[0;32mfor\u001b[0m \u001b[0mcollection\u001b[0m \u001b[0;32min\u001b[0m \u001b[0mdata_sources\u001b[0m\u001b[0;34m:\u001b[0m\u001b[0;34m\u001b[0m\u001b[0;34m\u001b[0m\u001b[0m\n\u001b[0m\u001b[1;32m      6\u001b[0m \u001b[0;34m\u001b[0m\u001b[0m\n\u001b[1;32m      7\u001b[0m         \u001b[0msource_path\u001b[0m \u001b[0;34m=\u001b[0m \u001b[0;34m'../raw_data/output/feature'\u001b[0m \u001b[0;34m+\u001b[0m \u001b[0mdata_sources\u001b[0m\u001b[0;34m[\u001b[0m\u001b[0mcollection\u001b[0m\u001b[0;34m]\u001b[0m\u001b[0;34m[\u001b[0m\u001b[0;34m\"id\"\u001b[0m\u001b[0;34m]\u001b[0m \u001b[0;34m+\u001b[0m \u001b[0;34m'_germany.csv'\u001b[0m\u001b[0;34m\u001b[0m\u001b[0;34m\u001b[0m\u001b[0m\n",
      "\u001b[0;31mNameError\u001b[0m: name 'data_sources' is not defined"
     ]
    }
   ],
   "source": [
    "get_features_for_coordinates(52.521980, 13.522353, index)"
   ]
  }
 ],
 "metadata": {
  "kernelspec": {
   "display_name": "Python 3 (ipykernel)",
   "language": "python",
   "name": "python3"
  },
  "language_info": {
   "codemirror_mode": {
    "name": "ipython",
    "version": 3
   },
   "file_extension": ".py",
   "mimetype": "text/x-python",
   "name": "python",
   "nbconvert_exporter": "python",
   "pygments_lexer": "ipython3",
   "version": "3.8.13"
  },
  "toc": {
   "base_numbering": 1,
   "nav_menu": {},
   "number_sections": true,
   "sideBar": true,
   "skip_h1_title": false,
   "title_cell": "Table of Contents",
   "title_sidebar": "Contents",
   "toc_cell": false,
   "toc_position": {},
   "toc_section_display": true,
   "toc_window_display": false
  },
  "varInspector": {
   "cols": {
    "lenName": 16,
    "lenType": 16,
    "lenVar": 40
   },
   "kernels_config": {
    "python": {
     "delete_cmd_postfix": "",
     "delete_cmd_prefix": "del ",
     "library": "var_list.py",
     "varRefreshCmd": "print(var_dic_list())"
    },
    "r": {
     "delete_cmd_postfix": ") ",
     "delete_cmd_prefix": "rm(",
     "library": "var_list.r",
     "varRefreshCmd": "cat(var_dic_list()) "
    }
   },
   "types_to_exclude": [
    "module",
    "function",
    "builtin_function_or_method",
    "instance",
    "_Feature"
   ],
   "window_display": false
  }
 },
 "nbformat": 4,
 "nbformat_minor": 5
}
