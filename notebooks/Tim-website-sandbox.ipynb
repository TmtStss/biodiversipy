{
 "cells": [
  {
   "cell_type": "code",
   "execution_count": 1,
   "id": "0043df87",
   "metadata": {},
   "outputs": [],
   "source": [
    "import requests"
   ]
  },
  {
   "cell_type": "code",
   "execution_count": 5,
   "id": "d85a334f",
   "metadata": {},
   "outputs": [
    {
     "data": {
      "text/plain": [
       "('50.6613053', '4.555403')"
      ]
     },
     "execution_count": 5,
     "metadata": {},
     "output_type": "execute_result"
    }
   ],
   "source": [
    "location = 'Rue du Culot, 2 1341 Ottignies'\n",
    "url = \"https://nominatim.openstreetmap.org/search?\"\n",
    "params = {\"q\": location, \"format\": \"json\"}\n",
    "response = requests.get(url, params=params).json()[0]\n",
    "latitude = response[\"lat\"]\n",
    "longitude = response[\"lon\"]\n",
    "latitude, longitude"
   ]
  },
  {
   "cell_type": "code",
   "execution_count": null,
   "id": "2fbf6bb5",
   "metadata": {},
   "outputs": [],
   "source": []
  }
 ],
 "metadata": {
  "kernelspec": {
   "display_name": "Python 3 (ipykernel)",
   "language": "python",
   "name": "python3"
  },
  "language_info": {
   "codemirror_mode": {
    "name": "ipython",
    "version": 3
   },
   "file_extension": ".py",
   "mimetype": "text/x-python",
   "name": "python",
   "nbconvert_exporter": "python",
   "pygments_lexer": "ipython3",
   "version": "3.8.12"
  },
  "toc": {
   "base_numbering": 1,
   "nav_menu": {},
   "number_sections": true,
   "sideBar": true,
   "skip_h1_title": false,
   "title_cell": "Table of Contents",
   "title_sidebar": "Contents",
   "toc_cell": false,
   "toc_position": {},
   "toc_section_display": true,
   "toc_window_display": false
  }
 },
 "nbformat": 4,
 "nbformat_minor": 5
}
