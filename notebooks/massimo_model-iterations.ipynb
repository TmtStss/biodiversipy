{
 "cells": [
  {
   "cell_type": "code",
   "execution_count": 1,
   "id": "1858b330",
   "metadata": {},
   "outputs": [],
   "source": [
    "from biodiversipy.data import get_data\n",
    "from biodiversipy.trainer import Trainer\n",
    "\n",
    "from sklearn.model_selection import train_test_split"
   ]
  },
  {
   "cell_type": "code",
   "execution_count": 2,
   "id": "76efdab1",
   "metadata": {},
   "outputs": [],
   "source": [
    "_, (X, y) = get_data()"
   ]
  },
  {
   "cell_type": "code",
   "execution_count": 3,
   "id": "74c346be",
   "metadata": {},
   "outputs": [
    {
     "name": "stdout",
     "output_type": "stream",
     "text": [
      "X shape: (54791, 84)\n",
      "y shape: (54791, 3613)\n"
     ]
    }
   ],
   "source": [
    "X_train, X_test, y_train, y_test = train_test_split(X, y, test_size=0.3)\n",
    "print(f\"X shape: {X_train.shape}\")\n",
    "print(f\"y shape: {y_train.shape}\")"
   ]
  },
  {
   "cell_type": "code",
   "execution_count": 27,
   "id": "06bbfc0f",
   "metadata": {},
   "outputs": [],
   "source": [
    "size = 11\n",
    "\n",
    "X_small = X_train[:size]\n",
    "y_small = y_train[:size]"
   ]
  },
  {
   "cell_type": "code",
   "execution_count": 30,
   "id": "0fb81b94",
   "metadata": {},
   "outputs": [
    {
     "name": "stdout",
     "output_type": "stream",
     "text": [
      "Epoch 1/1000\n",
      "1/1 [==============================] - 1s 859ms/step - loss: nan - accuracy: 0.0000e+00 - val_loss: nan - val_accuracy: 0.0000e+00\n",
      "Epoch 2/1000\n",
      "1/1 [==============================] - 0s 64ms/step - loss: nan - accuracy: 0.0000e+00 - val_loss: nan - val_accuracy: 0.0000e+00\n",
      "Epoch 3/1000\n",
      "1/1 [==============================] - 0s 108ms/step - loss: nan - accuracy: 0.0000e+00 - val_loss: nan - val_accuracy: 0.0000e+00\n",
      "Epoch 4/1000\n",
      "1/1 [==============================] - 0s 165ms/step - loss: nan - accuracy: 0.0000e+00 - val_loss: nan - val_accuracy: 0.0000e+00\n",
      "train 1.47\n"
     ]
    }
   ],
   "source": [
    "t_small = Trainer(X_small, y_small)\n",
    "t_small.train()"
   ]
  },
  {
   "cell_type": "code",
   "execution_count": null,
   "id": "e2203ced",
   "metadata": {},
   "outputs": [],
   "source": []
  }
 ],
 "metadata": {
  "kernelspec": {
   "display_name": "Python 3 (ipykernel)",
   "language": "python",
   "name": "python3"
  },
  "language_info": {
   "codemirror_mode": {
    "name": "ipython",
    "version": 3
   },
   "file_extension": ".py",
   "mimetype": "text/x-python",
   "name": "python",
   "nbconvert_exporter": "python",
   "pygments_lexer": "ipython3",
   "version": "3.8.12"
  },
  "toc": {
   "base_numbering": 1,
   "nav_menu": {},
   "number_sections": true,
   "sideBar": true,
   "skip_h1_title": false,
   "title_cell": "Table of Contents",
   "title_sidebar": "Contents",
   "toc_cell": false,
   "toc_position": {},
   "toc_section_display": true,
   "toc_window_display": false
  }
 },
 "nbformat": 4,
 "nbformat_minor": 5
}
