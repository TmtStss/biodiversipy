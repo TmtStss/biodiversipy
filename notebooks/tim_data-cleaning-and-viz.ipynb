{
 "cells": [
  {
   "cell_type": "code",
   "execution_count": 19,
   "id": "0fee6c60",
   "metadata": {},
   "outputs": [],
   "source": [
    "import pandas as pd\n",
    "pd.set_option('display.max_columns', None)\n",
    "import numpy as np\n",
    "import matplotlib.pyplot as plt\n",
    "import seaborn as sns"
   ]
  },
  {
   "cell_type": "markdown",
   "id": "dc2445a7",
   "metadata": {},
   "source": [
    "# Data cleaning"
   ]
  },
  {
   "cell_type": "markdown",
   "id": "25af613e",
   "metadata": {},
   "source": [
    "### Load data"
   ]
  },
  {
   "cell_type": "code",
   "execution_count": 16,
   "id": "458f5bbe",
   "metadata": {},
   "outputs": [],
   "source": [
    "data = pd.read_csv('../raw_data/gbif/germany.csv', sep = '\\t', low_memory = False)"
   ]
  },
  {
   "cell_type": "code",
   "execution_count": 21,
   "id": "8ac31bbf",
   "metadata": {},
   "outputs": [
    {
     "data": {
      "text/html": [
       "<div>\n",
       "<style scoped>\n",
       "    .dataframe tbody tr th:only-of-type {\n",
       "        vertical-align: middle;\n",
       "    }\n",
       "\n",
       "    .dataframe tbody tr th {\n",
       "        vertical-align: top;\n",
       "    }\n",
       "\n",
       "    .dataframe thead th {\n",
       "        text-align: right;\n",
       "    }\n",
       "</style>\n",
       "<table border=\"1\" class=\"dataframe\">\n",
       "  <thead>\n",
       "    <tr style=\"text-align: right;\">\n",
       "      <th></th>\n",
       "      <th>gbifID</th>\n",
       "      <th>datasetKey</th>\n",
       "      <th>occurrenceID</th>\n",
       "      <th>kingdom</th>\n",
       "      <th>phylum</th>\n",
       "      <th>class</th>\n",
       "      <th>order</th>\n",
       "      <th>family</th>\n",
       "      <th>genus</th>\n",
       "      <th>species</th>\n",
       "      <th>infraspecificEpithet</th>\n",
       "      <th>taxonRank</th>\n",
       "      <th>scientificName</th>\n",
       "      <th>verbatimScientificName</th>\n",
       "      <th>verbatimScientificNameAuthorship</th>\n",
       "      <th>countryCode</th>\n",
       "      <th>locality</th>\n",
       "      <th>stateProvince</th>\n",
       "      <th>occurrenceStatus</th>\n",
       "      <th>individualCount</th>\n",
       "      <th>publishingOrgKey</th>\n",
       "      <th>decimalLatitude</th>\n",
       "      <th>decimalLongitude</th>\n",
       "      <th>coordinateUncertaintyInMeters</th>\n",
       "      <th>coordinatePrecision</th>\n",
       "      <th>elevation</th>\n",
       "      <th>elevationAccuracy</th>\n",
       "      <th>depth</th>\n",
       "      <th>depthAccuracy</th>\n",
       "      <th>eventDate</th>\n",
       "      <th>day</th>\n",
       "      <th>month</th>\n",
       "      <th>year</th>\n",
       "      <th>taxonKey</th>\n",
       "      <th>speciesKey</th>\n",
       "      <th>basisOfRecord</th>\n",
       "      <th>institutionCode</th>\n",
       "      <th>collectionCode</th>\n",
       "      <th>catalogNumber</th>\n",
       "      <th>recordNumber</th>\n",
       "      <th>identifiedBy</th>\n",
       "      <th>dateIdentified</th>\n",
       "      <th>license</th>\n",
       "      <th>rightsHolder</th>\n",
       "      <th>recordedBy</th>\n",
       "      <th>typeStatus</th>\n",
       "      <th>establishmentMeans</th>\n",
       "      <th>lastInterpreted</th>\n",
       "      <th>mediaType</th>\n",
       "      <th>issue</th>\n",
       "    </tr>\n",
       "  </thead>\n",
       "  <tbody>\n",
       "    <tr>\n",
       "      <th>0</th>\n",
       "      <td>3746955493</td>\n",
       "      <td>50c9509d-22c7-4a22-a47d-8c48425ef4a7</td>\n",
       "      <td>https://www.inaturalist.org/observations/10536...</td>\n",
       "      <td>Plantae</td>\n",
       "      <td>Tracheophyta</td>\n",
       "      <td>Magnoliopsida</td>\n",
       "      <td>Oxalidales</td>\n",
       "      <td>Oxalidaceae</td>\n",
       "      <td>Oxalis</td>\n",
       "      <td>Oxalis corniculata</td>\n",
       "      <td>NaN</td>\n",
       "      <td>SPECIES</td>\n",
       "      <td>Oxalis corniculata L.</td>\n",
       "      <td>Oxalis corniculata</td>\n",
       "      <td>NaN</td>\n",
       "      <td>DE</td>\n",
       "      <td>NaN</td>\n",
       "      <td>Berlin</td>\n",
       "      <td>PRESENT</td>\n",
       "      <td>NaN</td>\n",
       "      <td>28eb1a3f-1c15-4a95-931a-4af90ecb574d</td>\n",
       "      <td>52.490407</td>\n",
       "      <td>13.321256</td>\n",
       "      <td>13.0</td>\n",
       "      <td>NaN</td>\n",
       "      <td>NaN</td>\n",
       "      <td>NaN</td>\n",
       "      <td>NaN</td>\n",
       "      <td>NaN</td>\n",
       "      <td>2022-01-22T15:02:56</td>\n",
       "      <td>22.0</td>\n",
       "      <td>1.0</td>\n",
       "      <td>2022.0</td>\n",
       "      <td>8427624</td>\n",
       "      <td>8427624.0</td>\n",
       "      <td>HUMAN_OBSERVATION</td>\n",
       "      <td>iNaturalist</td>\n",
       "      <td>Observations</td>\n",
       "      <td>105368931</td>\n",
       "      <td>NaN</td>\n",
       "      <td>Alexis</td>\n",
       "      <td>2022-01-22T16:35:16</td>\n",
       "      <td>CC_BY_4_0</td>\n",
       "      <td>Alexis</td>\n",
       "      <td>Alexis</td>\n",
       "      <td>NaN</td>\n",
       "      <td>NaN</td>\n",
       "      <td>2022-05-19T00:35:30.942Z</td>\n",
       "      <td>StillImage</td>\n",
       "      <td>COORDINATE_ROUNDED</td>\n",
       "    </tr>\n",
       "    <tr>\n",
       "      <th>1</th>\n",
       "      <td>1913684610</td>\n",
       "      <td>50c9509d-22c7-4a22-a47d-8c48425ef4a7</td>\n",
       "      <td>https://www.inaturalist.org/observations/16601473</td>\n",
       "      <td>Plantae</td>\n",
       "      <td>Tracheophyta</td>\n",
       "      <td>Magnoliopsida</td>\n",
       "      <td>Asterales</td>\n",
       "      <td>Asteraceae</td>\n",
       "      <td>Erigeron</td>\n",
       "      <td>Erigeron annuus</td>\n",
       "      <td>NaN</td>\n",
       "      <td>SPECIES</td>\n",
       "      <td>Erigeron annuus (L.) Pers.</td>\n",
       "      <td>Erigeron annuus</td>\n",
       "      <td>NaN</td>\n",
       "      <td>DE</td>\n",
       "      <td>NaN</td>\n",
       "      <td>Bayern</td>\n",
       "      <td>PRESENT</td>\n",
       "      <td>NaN</td>\n",
       "      <td>28eb1a3f-1c15-4a95-931a-4af90ecb574d</td>\n",
       "      <td>49.308560</td>\n",
       "      <td>11.357783</td>\n",
       "      <td>4.0</td>\n",
       "      <td>NaN</td>\n",
       "      <td>NaN</td>\n",
       "      <td>NaN</td>\n",
       "      <td>NaN</td>\n",
       "      <td>NaN</td>\n",
       "      <td>2018-09-16T12:08:00</td>\n",
       "      <td>16.0</td>\n",
       "      <td>9.0</td>\n",
       "      <td>2018.0</td>\n",
       "      <td>3117449</td>\n",
       "      <td>3117449.0</td>\n",
       "      <td>HUMAN_OBSERVATION</td>\n",
       "      <td>iNaturalist</td>\n",
       "      <td>Observations</td>\n",
       "      <td>16601473</td>\n",
       "      <td>NaN</td>\n",
       "      <td>Werner Lauckner</td>\n",
       "      <td>2018-09-16T20:16:46</td>\n",
       "      <td>CC_BY_NC_4_0</td>\n",
       "      <td>Werner Lauckner</td>\n",
       "      <td>Werner Lauckner</td>\n",
       "      <td>NaN</td>\n",
       "      <td>NaN</td>\n",
       "      <td>2022-05-19T00:31:18.631Z</td>\n",
       "      <td>StillImage</td>\n",
       "      <td>COORDINATE_ROUNDED</td>\n",
       "    </tr>\n",
       "    <tr>\n",
       "      <th>2</th>\n",
       "      <td>2238782236</td>\n",
       "      <td>50c9509d-22c7-4a22-a47d-8c48425ef4a7</td>\n",
       "      <td>https://www.inaturalist.org/observations/20383075</td>\n",
       "      <td>Plantae</td>\n",
       "      <td>Tracheophyta</td>\n",
       "      <td>Polypodiopsida</td>\n",
       "      <td>Polypodiales</td>\n",
       "      <td>Aspleniaceae</td>\n",
       "      <td>Asplenium</td>\n",
       "      <td>Asplenium ruta-muraria</td>\n",
       "      <td>NaN</td>\n",
       "      <td>SPECIES</td>\n",
       "      <td>Asplenium ruta-muraria L.</td>\n",
       "      <td>Asplenium ruta-muraria</td>\n",
       "      <td>NaN</td>\n",
       "      <td>DE</td>\n",
       "      <td>NaN</td>\n",
       "      <td>Berlin</td>\n",
       "      <td>PRESENT</td>\n",
       "      <td>NaN</td>\n",
       "      <td>28eb1a3f-1c15-4a95-931a-4af90ecb574d</td>\n",
       "      <td>52.506927</td>\n",
       "      <td>13.267875</td>\n",
       "      <td>31.0</td>\n",
       "      <td>NaN</td>\n",
       "      <td>NaN</td>\n",
       "      <td>NaN</td>\n",
       "      <td>NaN</td>\n",
       "      <td>NaN</td>\n",
       "      <td>2019-02-14T13:15:00</td>\n",
       "      <td>14.0</td>\n",
       "      <td>2.0</td>\n",
       "      <td>2019.0</td>\n",
       "      <td>2650625</td>\n",
       "      <td>2650625.0</td>\n",
       "      <td>HUMAN_OBSERVATION</td>\n",
       "      <td>iNaturalist</td>\n",
       "      <td>Observations</td>\n",
       "      <td>20383075</td>\n",
       "      <td>NaN</td>\n",
       "      <td>Alexis</td>\n",
       "      <td>2019-02-16T08:32:07</td>\n",
       "      <td>CC_BY_4_0</td>\n",
       "      <td>Alexis</td>\n",
       "      <td>Alexis</td>\n",
       "      <td>NaN</td>\n",
       "      <td>NaN</td>\n",
       "      <td>2022-05-19T00:08:16.238Z</td>\n",
       "      <td>StillImage</td>\n",
       "      <td>COORDINATE_ROUNDED</td>\n",
       "    </tr>\n",
       "  </tbody>\n",
       "</table>\n",
       "</div>"
      ],
      "text/plain": [
       "       gbifID                            datasetKey  \\\n",
       "0  3746955493  50c9509d-22c7-4a22-a47d-8c48425ef4a7   \n",
       "1  1913684610  50c9509d-22c7-4a22-a47d-8c48425ef4a7   \n",
       "2  2238782236  50c9509d-22c7-4a22-a47d-8c48425ef4a7   \n",
       "\n",
       "                                        occurrenceID  kingdom        phylum  \\\n",
       "0  https://www.inaturalist.org/observations/10536...  Plantae  Tracheophyta   \n",
       "1  https://www.inaturalist.org/observations/16601473  Plantae  Tracheophyta   \n",
       "2  https://www.inaturalist.org/observations/20383075  Plantae  Tracheophyta   \n",
       "\n",
       "            class         order        family      genus  \\\n",
       "0   Magnoliopsida    Oxalidales   Oxalidaceae     Oxalis   \n",
       "1   Magnoliopsida     Asterales    Asteraceae   Erigeron   \n",
       "2  Polypodiopsida  Polypodiales  Aspleniaceae  Asplenium   \n",
       "\n",
       "                  species infraspecificEpithet taxonRank  \\\n",
       "0      Oxalis corniculata                  NaN   SPECIES   \n",
       "1         Erigeron annuus                  NaN   SPECIES   \n",
       "2  Asplenium ruta-muraria                  NaN   SPECIES   \n",
       "\n",
       "               scientificName  verbatimScientificName  \\\n",
       "0       Oxalis corniculata L.      Oxalis corniculata   \n",
       "1  Erigeron annuus (L.) Pers.         Erigeron annuus   \n",
       "2   Asplenium ruta-muraria L.  Asplenium ruta-muraria   \n",
       "\n",
       "  verbatimScientificNameAuthorship countryCode locality stateProvince  \\\n",
       "0                              NaN          DE      NaN        Berlin   \n",
       "1                              NaN          DE      NaN        Bayern   \n",
       "2                              NaN          DE      NaN        Berlin   \n",
       "\n",
       "  occurrenceStatus  individualCount                      publishingOrgKey  \\\n",
       "0          PRESENT              NaN  28eb1a3f-1c15-4a95-931a-4af90ecb574d   \n",
       "1          PRESENT              NaN  28eb1a3f-1c15-4a95-931a-4af90ecb574d   \n",
       "2          PRESENT              NaN  28eb1a3f-1c15-4a95-931a-4af90ecb574d   \n",
       "\n",
       "   decimalLatitude  decimalLongitude  coordinateUncertaintyInMeters  \\\n",
       "0        52.490407         13.321256                           13.0   \n",
       "1        49.308560         11.357783                            4.0   \n",
       "2        52.506927         13.267875                           31.0   \n",
       "\n",
       "   coordinatePrecision  elevation  elevationAccuracy  depth  depthAccuracy  \\\n",
       "0                  NaN        NaN                NaN    NaN            NaN   \n",
       "1                  NaN        NaN                NaN    NaN            NaN   \n",
       "2                  NaN        NaN                NaN    NaN            NaN   \n",
       "\n",
       "             eventDate   day  month    year  taxonKey  speciesKey  \\\n",
       "0  2022-01-22T15:02:56  22.0    1.0  2022.0   8427624   8427624.0   \n",
       "1  2018-09-16T12:08:00  16.0    9.0  2018.0   3117449   3117449.0   \n",
       "2  2019-02-14T13:15:00  14.0    2.0  2019.0   2650625   2650625.0   \n",
       "\n",
       "       basisOfRecord institutionCode collectionCode catalogNumber  \\\n",
       "0  HUMAN_OBSERVATION     iNaturalist   Observations     105368931   \n",
       "1  HUMAN_OBSERVATION     iNaturalist   Observations      16601473   \n",
       "2  HUMAN_OBSERVATION     iNaturalist   Observations      20383075   \n",
       "\n",
       "  recordNumber     identifiedBy       dateIdentified       license  \\\n",
       "0          NaN           Alexis  2022-01-22T16:35:16     CC_BY_4_0   \n",
       "1          NaN  Werner Lauckner  2018-09-16T20:16:46  CC_BY_NC_4_0   \n",
       "2          NaN           Alexis  2019-02-16T08:32:07     CC_BY_4_0   \n",
       "\n",
       "      rightsHolder       recordedBy  typeStatus  establishmentMeans  \\\n",
       "0           Alexis           Alexis         NaN                 NaN   \n",
       "1  Werner Lauckner  Werner Lauckner         NaN                 NaN   \n",
       "2           Alexis           Alexis         NaN                 NaN   \n",
       "\n",
       "            lastInterpreted   mediaType               issue  \n",
       "0  2022-05-19T00:35:30.942Z  StillImage  COORDINATE_ROUNDED  \n",
       "1  2022-05-19T00:31:18.631Z  StillImage  COORDINATE_ROUNDED  \n",
       "2  2022-05-19T00:08:16.238Z  StillImage  COORDINATE_ROUNDED  "
      ]
     },
     "execution_count": 21,
     "metadata": {},
     "output_type": "execute_result"
    }
   ],
   "source": [
    "data.head(3)"
   ]
  },
  {
   "cell_type": "markdown",
   "id": "feaed071",
   "metadata": {},
   "source": [
    "- **gbifID** is the unique identifier for an occurrence record in GBIF\n",
    "\n",
    "- **taxonKey**: A taxonKey is the primary id number used in GBIF to id a species (or some higher group). These are the id numbers found in the GBIF backbone taxonomy. Often you will see them in the URL of an occurrence search: https://www.gbif.org/occurrence/search?taxon_key=7412043 46. These are the most important keys and usually what other keys map back to (rule of thumb: **“all keys lead to taxonKeys”**.\n",
    "\n",
    "- **usageKey**: Using rgbif or GBIF API, you might encounter a usageKey. This key can be treated as equivalent to a GBIF taxonkey in the context of the GBIF Backbone. I have never found a usageKey in the wild that was not equivalent to a GBIF taxonKey, but it might exist.\n",
    "\n",
    "- **speciesKey**: Sometimes you might find a speciesKey in a download or somewhere else. This key is the key for the species and is often equivalent to the GBIF taxonKey in the context of the GBIF Backbone. If the record is not of rank SPECIES, it won’t have a speciesKey. The same goes for the other GBIF ranked keys: genusKey, familyKey, classKey, orderKey, phylumKey, kingdomKey. These are also equivalent to their corresponding GBIF taxonKeys when the taxa is that rank."
   ]
  },
  {
   "cell_type": "code",
   "execution_count": 22,
   "id": "cdbb3a0a",
   "metadata": {},
   "outputs": [
    {
     "data": {
      "text/plain": [
       "Index(['gbifID', 'datasetKey', 'occurrenceID', 'kingdom', 'phylum', 'class',\n",
       "       'order', 'family', 'genus', 'species', 'infraspecificEpithet',\n",
       "       'taxonRank', 'scientificName', 'verbatimScientificName',\n",
       "       'verbatimScientificNameAuthorship', 'countryCode', 'locality',\n",
       "       'stateProvince', 'occurrenceStatus', 'individualCount',\n",
       "       'publishingOrgKey', 'decimalLatitude', 'decimalLongitude',\n",
       "       'coordinateUncertaintyInMeters', 'coordinatePrecision', 'elevation',\n",
       "       'elevationAccuracy', 'depth', 'depthAccuracy', 'eventDate', 'day',\n",
       "       'month', 'year', 'taxonKey', 'speciesKey', 'basisOfRecord',\n",
       "       'institutionCode', 'collectionCode', 'catalogNumber', 'recordNumber',\n",
       "       'identifiedBy', 'dateIdentified', 'license', 'rightsHolder',\n",
       "       'recordedBy', 'typeStatus', 'establishmentMeans', 'lastInterpreted',\n",
       "       'mediaType', 'issue'],\n",
       "      dtype='object')"
      ]
     },
     "execution_count": 22,
     "metadata": {},
     "output_type": "execute_result"
    }
   ],
   "source": [
    "data.columns"
   ]
  },
  {
   "cell_type": "code",
   "execution_count": 27,
   "id": "e20f26b1",
   "metadata": {},
   "outputs": [
    {
     "data": {
      "text/plain": [
       "gbifID                              2633206\n",
       "datasetKey                               32\n",
       "occurrenceID                        1303541\n",
       "kingdom                                   1\n",
       "phylum                                    7\n",
       "class                                    25\n",
       "order                                   127\n",
       "family                                  369\n",
       "genus                                  1887\n",
       "species                                6395\n",
       "infraspecificEpithet                    874\n",
       "taxonRank                                 8\n",
       "scientificName                         8824\n",
       "verbatimScientificName                12535\n",
       "verbatimScientificNameAuthorship        490\n",
       "countryCode                               1\n",
       "locality                              37623\n",
       "stateProvince                            39\n",
       "occurrenceStatus                          1\n",
       "individualCount                         159\n",
       "publishingOrgKey                         22\n",
       "decimalLatitude                     1175275\n",
       "decimalLongitude                    1219607\n",
       "coordinateUncertaintyInMeters         12834\n",
       "coordinatePrecision                       0\n",
       "elevation                               193\n",
       "elevationAccuracy                         6\n",
       "depth                                     5\n",
       "depthAccuracy                             1\n",
       "eventDate                           1152587\n",
       "day                                      31\n",
       "month                                    12\n",
       "year                                     88\n",
       "taxonKey                               8824\n",
       "speciesKey                             6436\n",
       "basisOfRecord                             4\n",
       "institutionCode                          21\n",
       "collectionCode                           39\n",
       "catalogNumber                       1665829\n",
       "recordNumber                             19\n",
       "identifiedBy                           6636\n",
       "dateIdentified                       189876\n",
       "license                                   3\n",
       "rightsHolder                           7497\n",
       "recordedBy                            10955\n",
       "typeStatus                                0\n",
       "establishmentMeans                        0\n",
       "lastInterpreted                      807290\n",
       "mediaType                                25\n",
       "issue                                    51\n",
       "dtype: int64"
      ]
     },
     "execution_count": 27,
     "metadata": {},
     "output_type": "execute_result"
    }
   ],
   "source": [
    "data.nunique()"
   ]
  },
  {
   "cell_type": "code",
   "execution_count": 65,
   "id": "a194c175",
   "metadata": {},
   "outputs": [
    {
     "data": {
      "text/plain": [
       "gbifID                                    0\n",
       "datasetKey                                0\n",
       "occurrenceID                        1329665\n",
       "kingdom                                   0\n",
       "phylum                                  439\n",
       "class                                   561\n",
       "order                                   630\n",
       "family                                  630\n",
       "genus                                  1264\n",
       "species                               69742\n",
       "infraspecificEpithet                2595598\n",
       "taxonRank                                 0\n",
       "scientificName                            0\n",
       "verbatimScientificName                    0\n",
       "verbatimScientificNameAuthorship    1666538\n",
       "countryCode                               0\n",
       "locality                            1169383\n",
       "stateProvince                       2430579\n",
       "occurrenceStatus                          0\n",
       "individualCount                     1537743\n",
       "publishingOrgKey                          0\n",
       "decimalLatitude                           4\n",
       "decimalLongitude                          4\n",
       "coordinateUncertaintyInMeters             0\n",
       "coordinatePrecision                 2633206\n",
       "elevation                           2621663\n",
       "elevationAccuracy                   2632907\n",
       "depth                               2632850\n",
       "depthAccuracy                       2633205\n",
       "eventDate                                30\n",
       "day                                      41\n",
       "month                                    31\n",
       "year                                     30\n",
       "taxonKey                                  0\n",
       "speciesKey                            69742\n",
       "basisOfRecord                             0\n",
       "institutionCode                     1095230\n",
       "collectionCode                       966884\n",
       "catalogNumber                        966864\n",
       "recordNumber                        2633163\n",
       "identifiedBy                        2423988\n",
       "dateIdentified                      2431268\n",
       "license                                   0\n",
       "rightsHolder                        2302102\n",
       "recordedBy                          1095469\n",
       "typeStatus                          2633206\n",
       "establishmentMeans                  2633206\n",
       "lastInterpreted                           0\n",
       "mediaType                           2328389\n",
       "issue                                     0\n",
       "dtype: int64"
      ]
     },
     "execution_count": 65,
     "metadata": {},
     "output_type": "execute_result"
    }
   ],
   "source": [
    "data.isna().sum()"
   ]
  },
  {
   "cell_type": "code",
   "execution_count": 63,
   "id": "d3b8de91",
   "metadata": {},
   "outputs": [],
   "source": [
    "selected_columns = ['gbifID', 'datasetKey', 'kingdom', 'phylum', 'class',\n",
    "       'order', 'family', 'genus', 'species', 'scientificName', 'decimalLatitude', 'decimalLongitude', 'day',\n",
    "       'month', 'year', 'taxonKey', 'license']"
   ]
  },
  {
   "cell_type": "markdown",
   "id": "b0da3587",
   "metadata": {},
   "source": [
    "### Select columns"
   ]
  },
  {
   "cell_type": "code",
   "execution_count": 66,
   "id": "3dfe001e",
   "metadata": {},
   "outputs": [
    {
     "data": {
      "text/html": [
       "<div>\n",
       "<style scoped>\n",
       "    .dataframe tbody tr th:only-of-type {\n",
       "        vertical-align: middle;\n",
       "    }\n",
       "\n",
       "    .dataframe tbody tr th {\n",
       "        vertical-align: top;\n",
       "    }\n",
       "\n",
       "    .dataframe thead th {\n",
       "        text-align: right;\n",
       "    }\n",
       "</style>\n",
       "<table border=\"1\" class=\"dataframe\">\n",
       "  <thead>\n",
       "    <tr style=\"text-align: right;\">\n",
       "      <th></th>\n",
       "      <th>gbifID</th>\n",
       "      <th>datasetKey</th>\n",
       "      <th>kingdom</th>\n",
       "      <th>phylum</th>\n",
       "      <th>class</th>\n",
       "      <th>order</th>\n",
       "      <th>family</th>\n",
       "      <th>genus</th>\n",
       "      <th>species</th>\n",
       "      <th>scientificName</th>\n",
       "      <th>decimalLatitude</th>\n",
       "      <th>decimalLongitude</th>\n",
       "      <th>day</th>\n",
       "      <th>month</th>\n",
       "      <th>year</th>\n",
       "      <th>taxonKey</th>\n",
       "      <th>license</th>\n",
       "    </tr>\n",
       "  </thead>\n",
       "  <tbody>\n",
       "    <tr>\n",
       "      <th>0</th>\n",
       "      <td>3746955493</td>\n",
       "      <td>50c9509d-22c7-4a22-a47d-8c48425ef4a7</td>\n",
       "      <td>Plantae</td>\n",
       "      <td>Tracheophyta</td>\n",
       "      <td>Magnoliopsida</td>\n",
       "      <td>Oxalidales</td>\n",
       "      <td>Oxalidaceae</td>\n",
       "      <td>Oxalis</td>\n",
       "      <td>Oxalis corniculata</td>\n",
       "      <td>Oxalis corniculata L.</td>\n",
       "      <td>52.490407</td>\n",
       "      <td>13.321256</td>\n",
       "      <td>22.0</td>\n",
       "      <td>1.0</td>\n",
       "      <td>2022.0</td>\n",
       "      <td>8427624</td>\n",
       "      <td>CC_BY_4_0</td>\n",
       "    </tr>\n",
       "    <tr>\n",
       "      <th>1</th>\n",
       "      <td>1913684610</td>\n",
       "      <td>50c9509d-22c7-4a22-a47d-8c48425ef4a7</td>\n",
       "      <td>Plantae</td>\n",
       "      <td>Tracheophyta</td>\n",
       "      <td>Magnoliopsida</td>\n",
       "      <td>Asterales</td>\n",
       "      <td>Asteraceae</td>\n",
       "      <td>Erigeron</td>\n",
       "      <td>Erigeron annuus</td>\n",
       "      <td>Erigeron annuus (L.) Pers.</td>\n",
       "      <td>49.308560</td>\n",
       "      <td>11.357783</td>\n",
       "      <td>16.0</td>\n",
       "      <td>9.0</td>\n",
       "      <td>2018.0</td>\n",
       "      <td>3117449</td>\n",
       "      <td>CC_BY_NC_4_0</td>\n",
       "    </tr>\n",
       "    <tr>\n",
       "      <th>2</th>\n",
       "      <td>2238782236</td>\n",
       "      <td>50c9509d-22c7-4a22-a47d-8c48425ef4a7</td>\n",
       "      <td>Plantae</td>\n",
       "      <td>Tracheophyta</td>\n",
       "      <td>Polypodiopsida</td>\n",
       "      <td>Polypodiales</td>\n",
       "      <td>Aspleniaceae</td>\n",
       "      <td>Asplenium</td>\n",
       "      <td>Asplenium ruta-muraria</td>\n",
       "      <td>Asplenium ruta-muraria L.</td>\n",
       "      <td>52.506927</td>\n",
       "      <td>13.267875</td>\n",
       "      <td>14.0</td>\n",
       "      <td>2.0</td>\n",
       "      <td>2019.0</td>\n",
       "      <td>2650625</td>\n",
       "      <td>CC_BY_4_0</td>\n",
       "    </tr>\n",
       "  </tbody>\n",
       "</table>\n",
       "</div>"
      ],
      "text/plain": [
       "       gbifID                            datasetKey  kingdom        phylum  \\\n",
       "0  3746955493  50c9509d-22c7-4a22-a47d-8c48425ef4a7  Plantae  Tracheophyta   \n",
       "1  1913684610  50c9509d-22c7-4a22-a47d-8c48425ef4a7  Plantae  Tracheophyta   \n",
       "2  2238782236  50c9509d-22c7-4a22-a47d-8c48425ef4a7  Plantae  Tracheophyta   \n",
       "\n",
       "            class         order        family      genus  \\\n",
       "0   Magnoliopsida    Oxalidales   Oxalidaceae     Oxalis   \n",
       "1   Magnoliopsida     Asterales    Asteraceae   Erigeron   \n",
       "2  Polypodiopsida  Polypodiales  Aspleniaceae  Asplenium   \n",
       "\n",
       "                  species              scientificName  decimalLatitude  \\\n",
       "0      Oxalis corniculata       Oxalis corniculata L.        52.490407   \n",
       "1         Erigeron annuus  Erigeron annuus (L.) Pers.        49.308560   \n",
       "2  Asplenium ruta-muraria   Asplenium ruta-muraria L.        52.506927   \n",
       "\n",
       "   decimalLongitude   day  month    year  taxonKey       license  \n",
       "0         13.321256  22.0    1.0  2022.0   8427624     CC_BY_4_0  \n",
       "1         11.357783  16.0    9.0  2018.0   3117449  CC_BY_NC_4_0  \n",
       "2         13.267875  14.0    2.0  2019.0   2650625     CC_BY_4_0  "
      ]
     },
     "execution_count": 66,
     "metadata": {},
     "output_type": "execute_result"
    }
   ],
   "source": [
    "data_selected = data[selected_columns]\n",
    "data_selected.head(3)"
   ]
  },
  {
   "cell_type": "markdown",
   "id": "fd685fa6",
   "metadata": {},
   "source": [
    "### Drop NaNs and Duplicates"
   ]
  },
  {
   "cell_type": "code",
   "execution_count": 67,
   "id": "e2b35eac",
   "metadata": {},
   "outputs": [
    {
     "data": {
      "text/plain": [
       "2633206"
      ]
     },
     "execution_count": 67,
     "metadata": {},
     "output_type": "execute_result"
    }
   ],
   "source": [
    "len(data_selected)"
   ]
  },
  {
   "cell_type": "code",
   "execution_count": 69,
   "id": "01ef3af3",
   "metadata": {},
   "outputs": [
    {
     "data": {
      "text/plain": [
       "0"
      ]
     },
     "execution_count": 69,
     "metadata": {},
     "output_type": "execute_result"
    }
   ],
   "source": [
    "data_selected.duplicated().sum()"
   ]
  },
  {
   "cell_type": "code",
   "execution_count": 70,
   "id": "237c7391",
   "metadata": {},
   "outputs": [],
   "source": [
    "data_cleaned = data_selected.dropna()"
   ]
  },
  {
   "cell_type": "code",
   "execution_count": 71,
   "id": "94d8d244",
   "metadata": {},
   "outputs": [
    {
     "data": {
      "text/plain": [
       "2563358"
      ]
     },
     "execution_count": 71,
     "metadata": {},
     "output_type": "execute_result"
    }
   ],
   "source": [
    "len(data_cleaned)"
   ]
  },
  {
   "cell_type": "code",
   "execution_count": 73,
   "id": "381330cc",
   "metadata": {},
   "outputs": [
    {
     "data": {
      "text/plain": [
       "97.34741603961103"
      ]
     },
     "execution_count": 73,
     "metadata": {},
     "output_type": "execute_result"
    }
   ],
   "source": [
    "100 * len(data_cleaned) / len(data_selected) "
   ]
  },
  {
   "cell_type": "code",
   "execution_count": 75,
   "id": "ea8c48d6",
   "metadata": {},
   "outputs": [
    {
     "data": {
      "text/plain": [
       "gbifID              0\n",
       "datasetKey          0\n",
       "kingdom             0\n",
       "phylum              0\n",
       "class               0\n",
       "order               0\n",
       "family              0\n",
       "genus               0\n",
       "species             0\n",
       "scientificName      0\n",
       "decimalLatitude     0\n",
       "decimalLongitude    0\n",
       "day                 0\n",
       "month               0\n",
       "year                0\n",
       "taxonKey            0\n",
       "license             0\n",
       "dtype: int64"
      ]
     },
     "execution_count": 75,
     "metadata": {},
     "output_type": "execute_result"
    }
   ],
   "source": [
    "data_cleaned.isna().sum()"
   ]
  },
  {
   "cell_type": "code",
   "execution_count": 80,
   "id": "d7934922",
   "metadata": {},
   "outputs": [
    {
     "data": {
      "text/plain": [
       "True"
      ]
     },
     "execution_count": 80,
     "metadata": {},
     "output_type": "execute_result"
    }
   ],
   "source": [
    "len(data_cleaned['taxonKey'].unique()) == len(data_cleaned['scientificName'].unique())"
   ]
  },
  {
   "cell_type": "markdown",
   "id": "262a7082",
   "metadata": {},
   "source": [
    "### Rename columns"
   ]
  },
  {
   "cell_type": "code",
   "execution_count": 88,
   "id": "3625f533",
   "metadata": {},
   "outputs": [],
   "source": [
    "data_renamed = data_cleaned.rename(columns = {'decimalLatitude': 'latitude', 'decimalLongitude': 'longitude'})"
   ]
  },
  {
   "cell_type": "code",
   "execution_count": 95,
   "id": "a5fe136b",
   "metadata": {},
   "outputs": [
    {
     "data": {
      "text/html": [
       "<div>\n",
       "<style scoped>\n",
       "    .dataframe tbody tr th:only-of-type {\n",
       "        vertical-align: middle;\n",
       "    }\n",
       "\n",
       "    .dataframe tbody tr th {\n",
       "        vertical-align: top;\n",
       "    }\n",
       "\n",
       "    .dataframe thead th {\n",
       "        text-align: right;\n",
       "    }\n",
       "</style>\n",
       "<table border=\"1\" class=\"dataframe\">\n",
       "  <thead>\n",
       "    <tr style=\"text-align: right;\">\n",
       "      <th></th>\n",
       "      <th>gbifID</th>\n",
       "      <th>datasetKey</th>\n",
       "      <th>kingdom</th>\n",
       "      <th>phylum</th>\n",
       "      <th>class</th>\n",
       "      <th>order</th>\n",
       "      <th>family</th>\n",
       "      <th>genus</th>\n",
       "      <th>species</th>\n",
       "      <th>scientificName</th>\n",
       "      <th>latitude</th>\n",
       "      <th>longitude</th>\n",
       "      <th>day</th>\n",
       "      <th>month</th>\n",
       "      <th>year</th>\n",
       "      <th>taxonKey</th>\n",
       "      <th>license</th>\n",
       "    </tr>\n",
       "  </thead>\n",
       "  <tbody>\n",
       "    <tr>\n",
       "      <th>0</th>\n",
       "      <td>3746955493</td>\n",
       "      <td>50c9509d-22c7-4a22-a47d-8c48425ef4a7</td>\n",
       "      <td>Plantae</td>\n",
       "      <td>Tracheophyta</td>\n",
       "      <td>Magnoliopsida</td>\n",
       "      <td>Oxalidales</td>\n",
       "      <td>Oxalidaceae</td>\n",
       "      <td>Oxalis</td>\n",
       "      <td>Oxalis corniculata</td>\n",
       "      <td>Oxalis corniculata L.</td>\n",
       "      <td>52.490407</td>\n",
       "      <td>13.321256</td>\n",
       "      <td>22.0</td>\n",
       "      <td>1.0</td>\n",
       "      <td>2022.0</td>\n",
       "      <td>8427624</td>\n",
       "      <td>CC_BY_4_0</td>\n",
       "    </tr>\n",
       "    <tr>\n",
       "      <th>1</th>\n",
       "      <td>1913684610</td>\n",
       "      <td>50c9509d-22c7-4a22-a47d-8c48425ef4a7</td>\n",
       "      <td>Plantae</td>\n",
       "      <td>Tracheophyta</td>\n",
       "      <td>Magnoliopsida</td>\n",
       "      <td>Asterales</td>\n",
       "      <td>Asteraceae</td>\n",
       "      <td>Erigeron</td>\n",
       "      <td>Erigeron annuus</td>\n",
       "      <td>Erigeron annuus (L.) Pers.</td>\n",
       "      <td>49.308560</td>\n",
       "      <td>11.357783</td>\n",
       "      <td>16.0</td>\n",
       "      <td>9.0</td>\n",
       "      <td>2018.0</td>\n",
       "      <td>3117449</td>\n",
       "      <td>CC_BY_NC_4_0</td>\n",
       "    </tr>\n",
       "    <tr>\n",
       "      <th>2</th>\n",
       "      <td>2238782236</td>\n",
       "      <td>50c9509d-22c7-4a22-a47d-8c48425ef4a7</td>\n",
       "      <td>Plantae</td>\n",
       "      <td>Tracheophyta</td>\n",
       "      <td>Polypodiopsida</td>\n",
       "      <td>Polypodiales</td>\n",
       "      <td>Aspleniaceae</td>\n",
       "      <td>Asplenium</td>\n",
       "      <td>Asplenium ruta-muraria</td>\n",
       "      <td>Asplenium ruta-muraria L.</td>\n",
       "      <td>52.506927</td>\n",
       "      <td>13.267875</td>\n",
       "      <td>14.0</td>\n",
       "      <td>2.0</td>\n",
       "      <td>2019.0</td>\n",
       "      <td>2650625</td>\n",
       "      <td>CC_BY_4_0</td>\n",
       "    </tr>\n",
       "  </tbody>\n",
       "</table>\n",
       "</div>"
      ],
      "text/plain": [
       "       gbifID                            datasetKey  kingdom        phylum  \\\n",
       "0  3746955493  50c9509d-22c7-4a22-a47d-8c48425ef4a7  Plantae  Tracheophyta   \n",
       "1  1913684610  50c9509d-22c7-4a22-a47d-8c48425ef4a7  Plantae  Tracheophyta   \n",
       "2  2238782236  50c9509d-22c7-4a22-a47d-8c48425ef4a7  Plantae  Tracheophyta   \n",
       "\n",
       "            class         order        family      genus  \\\n",
       "0   Magnoliopsida    Oxalidales   Oxalidaceae     Oxalis   \n",
       "1   Magnoliopsida     Asterales    Asteraceae   Erigeron   \n",
       "2  Polypodiopsida  Polypodiales  Aspleniaceae  Asplenium   \n",
       "\n",
       "                  species              scientificName   latitude  longitude  \\\n",
       "0      Oxalis corniculata       Oxalis corniculata L.  52.490407  13.321256   \n",
       "1         Erigeron annuus  Erigeron annuus (L.) Pers.  49.308560  11.357783   \n",
       "2  Asplenium ruta-muraria   Asplenium ruta-muraria L.  52.506927  13.267875   \n",
       "\n",
       "    day  month    year  taxonKey       license  \n",
       "0  22.0    1.0  2022.0   8427624     CC_BY_4_0  \n",
       "1  16.0    9.0  2018.0   3117449  CC_BY_NC_4_0  \n",
       "2  14.0    2.0  2019.0   2650625     CC_BY_4_0  "
      ]
     },
     "execution_count": 95,
     "metadata": {},
     "output_type": "execute_result"
    }
   ],
   "source": [
    "data_renamed.head(3)"
   ]
  },
  {
   "cell_type": "code",
   "execution_count": 96,
   "id": "c479b908",
   "metadata": {},
   "outputs": [],
   "source": [
    "gbifID = ['gbifID']\n",
    "col = ['latitude', 'longitude', 'scientificName']\n",
    "data_final = data_renamed[gbifID + col]\n",
    "metadata = data_renamed.drop(columns = col)"
   ]
  },
  {
   "cell_type": "code",
   "execution_count": 97,
   "id": "2b36c144",
   "metadata": {},
   "outputs": [
    {
     "data": {
      "text/html": [
       "<div>\n",
       "<style scoped>\n",
       "    .dataframe tbody tr th:only-of-type {\n",
       "        vertical-align: middle;\n",
       "    }\n",
       "\n",
       "    .dataframe tbody tr th {\n",
       "        vertical-align: top;\n",
       "    }\n",
       "\n",
       "    .dataframe thead th {\n",
       "        text-align: right;\n",
       "    }\n",
       "</style>\n",
       "<table border=\"1\" class=\"dataframe\">\n",
       "  <thead>\n",
       "    <tr style=\"text-align: right;\">\n",
       "      <th></th>\n",
       "      <th>gbifID</th>\n",
       "      <th>latitude</th>\n",
       "      <th>longitude</th>\n",
       "      <th>scientificName</th>\n",
       "    </tr>\n",
       "  </thead>\n",
       "  <tbody>\n",
       "    <tr>\n",
       "      <th>0</th>\n",
       "      <td>3746955493</td>\n",
       "      <td>52.490407</td>\n",
       "      <td>13.321256</td>\n",
       "      <td>Oxalis corniculata L.</td>\n",
       "    </tr>\n",
       "    <tr>\n",
       "      <th>1</th>\n",
       "      <td>1913684610</td>\n",
       "      <td>49.308560</td>\n",
       "      <td>11.357783</td>\n",
       "      <td>Erigeron annuus (L.) Pers.</td>\n",
       "    </tr>\n",
       "    <tr>\n",
       "      <th>2</th>\n",
       "      <td>2238782236</td>\n",
       "      <td>52.506927</td>\n",
       "      <td>13.267875</td>\n",
       "      <td>Asplenium ruta-muraria L.</td>\n",
       "    </tr>\n",
       "  </tbody>\n",
       "</table>\n",
       "</div>"
      ],
      "text/plain": [
       "       gbifID   latitude  longitude              scientificName\n",
       "0  3746955493  52.490407  13.321256       Oxalis corniculata L.\n",
       "1  1913684610  49.308560  11.357783  Erigeron annuus (L.) Pers.\n",
       "2  2238782236  52.506927  13.267875   Asplenium ruta-muraria L."
      ]
     },
     "execution_count": 97,
     "metadata": {},
     "output_type": "execute_result"
    }
   ],
   "source": [
    "data_final.head(3)"
   ]
  },
  {
   "cell_type": "code",
   "execution_count": 98,
   "id": "8b432735",
   "metadata": {},
   "outputs": [
    {
     "data": {
      "text/html": [
       "<div>\n",
       "<style scoped>\n",
       "    .dataframe tbody tr th:only-of-type {\n",
       "        vertical-align: middle;\n",
       "    }\n",
       "\n",
       "    .dataframe tbody tr th {\n",
       "        vertical-align: top;\n",
       "    }\n",
       "\n",
       "    .dataframe thead th {\n",
       "        text-align: right;\n",
       "    }\n",
       "</style>\n",
       "<table border=\"1\" class=\"dataframe\">\n",
       "  <thead>\n",
       "    <tr style=\"text-align: right;\">\n",
       "      <th></th>\n",
       "      <th>gbifID</th>\n",
       "      <th>datasetKey</th>\n",
       "      <th>kingdom</th>\n",
       "      <th>phylum</th>\n",
       "      <th>class</th>\n",
       "      <th>order</th>\n",
       "      <th>family</th>\n",
       "      <th>genus</th>\n",
       "      <th>species</th>\n",
       "      <th>day</th>\n",
       "      <th>month</th>\n",
       "      <th>year</th>\n",
       "      <th>taxonKey</th>\n",
       "      <th>license</th>\n",
       "    </tr>\n",
       "  </thead>\n",
       "  <tbody>\n",
       "    <tr>\n",
       "      <th>0</th>\n",
       "      <td>3746955493</td>\n",
       "      <td>50c9509d-22c7-4a22-a47d-8c48425ef4a7</td>\n",
       "      <td>Plantae</td>\n",
       "      <td>Tracheophyta</td>\n",
       "      <td>Magnoliopsida</td>\n",
       "      <td>Oxalidales</td>\n",
       "      <td>Oxalidaceae</td>\n",
       "      <td>Oxalis</td>\n",
       "      <td>Oxalis corniculata</td>\n",
       "      <td>22.0</td>\n",
       "      <td>1.0</td>\n",
       "      <td>2022.0</td>\n",
       "      <td>8427624</td>\n",
       "      <td>CC_BY_4_0</td>\n",
       "    </tr>\n",
       "    <tr>\n",
       "      <th>1</th>\n",
       "      <td>1913684610</td>\n",
       "      <td>50c9509d-22c7-4a22-a47d-8c48425ef4a7</td>\n",
       "      <td>Plantae</td>\n",
       "      <td>Tracheophyta</td>\n",
       "      <td>Magnoliopsida</td>\n",
       "      <td>Asterales</td>\n",
       "      <td>Asteraceae</td>\n",
       "      <td>Erigeron</td>\n",
       "      <td>Erigeron annuus</td>\n",
       "      <td>16.0</td>\n",
       "      <td>9.0</td>\n",
       "      <td>2018.0</td>\n",
       "      <td>3117449</td>\n",
       "      <td>CC_BY_NC_4_0</td>\n",
       "    </tr>\n",
       "    <tr>\n",
       "      <th>2</th>\n",
       "      <td>2238782236</td>\n",
       "      <td>50c9509d-22c7-4a22-a47d-8c48425ef4a7</td>\n",
       "      <td>Plantae</td>\n",
       "      <td>Tracheophyta</td>\n",
       "      <td>Polypodiopsida</td>\n",
       "      <td>Polypodiales</td>\n",
       "      <td>Aspleniaceae</td>\n",
       "      <td>Asplenium</td>\n",
       "      <td>Asplenium ruta-muraria</td>\n",
       "      <td>14.0</td>\n",
       "      <td>2.0</td>\n",
       "      <td>2019.0</td>\n",
       "      <td>2650625</td>\n",
       "      <td>CC_BY_4_0</td>\n",
       "    </tr>\n",
       "  </tbody>\n",
       "</table>\n",
       "</div>"
      ],
      "text/plain": [
       "       gbifID                            datasetKey  kingdom        phylum  \\\n",
       "0  3746955493  50c9509d-22c7-4a22-a47d-8c48425ef4a7  Plantae  Tracheophyta   \n",
       "1  1913684610  50c9509d-22c7-4a22-a47d-8c48425ef4a7  Plantae  Tracheophyta   \n",
       "2  2238782236  50c9509d-22c7-4a22-a47d-8c48425ef4a7  Plantae  Tracheophyta   \n",
       "\n",
       "            class         order        family      genus  \\\n",
       "0   Magnoliopsida    Oxalidales   Oxalidaceae     Oxalis   \n",
       "1   Magnoliopsida     Asterales    Asteraceae   Erigeron   \n",
       "2  Polypodiopsida  Polypodiales  Aspleniaceae  Asplenium   \n",
       "\n",
       "                  species   day  month    year  taxonKey       license  \n",
       "0      Oxalis corniculata  22.0    1.0  2022.0   8427624     CC_BY_4_0  \n",
       "1         Erigeron annuus  16.0    9.0  2018.0   3117449  CC_BY_NC_4_0  \n",
       "2  Asplenium ruta-muraria  14.0    2.0  2019.0   2650625     CC_BY_4_0  "
      ]
     },
     "execution_count": 98,
     "metadata": {},
     "output_type": "execute_result"
    }
   ],
   "source": [
    "metadata.head(3)"
   ]
  },
  {
   "cell_type": "markdown",
   "id": "a83493ae",
   "metadata": {},
   "source": [
    "### Writing csv's"
   ]
  },
  {
   "cell_type": "markdown",
   "id": "b8198b09",
   "metadata": {},
   "source": [
    "occurences.csv"
   ]
  },
  {
   "cell_type": "code",
   "execution_count": 155,
   "id": "dbd5f92d",
   "metadata": {},
   "outputs": [],
   "source": [
    "data_final.to_csv('../raw_data/gbif/occurences.csv', index=False)"
   ]
  },
  {
   "cell_type": "markdown",
   "id": "73b0afbd",
   "metadata": {},
   "source": [
    "metadata.csv"
   ]
  },
  {
   "cell_type": "code",
   "execution_count": 156,
   "id": "17d089e1",
   "metadata": {},
   "outputs": [],
   "source": [
    "metadata.to_csv('../raw_data/gbif/metadata.csv', index=False)"
   ]
  },
  {
   "cell_type": "markdown",
   "id": "c320ad85",
   "metadata": {},
   "source": [
    "10, 100, 1k and 10k subsets"
   ]
  },
  {
   "cell_type": "code",
   "execution_count": 148,
   "id": "a5c4b9ca",
   "metadata": {},
   "outputs": [],
   "source": [
    "data_final.sample(10).to_csv('../biodiversipy/data/gbif/occurences_10.csv', index=False)\n",
    "data_final.sample(100).to_csv('../biodiversipy/data/gbif/occurences_100.csv', index=False)\n",
    "data_final.sample(1000).to_csv('../biodiversipy/data/gbif/occurences_1k.csv', index=False)\n",
    "data_final.sample(10000).to_csv('../biodiversipy/data/gbif/occurences_10k.csv', index=False)"
   ]
  },
  {
   "cell_type": "markdown",
   "id": "925bcd78",
   "metadata": {},
   "source": [
    "#### Check for correct csv writing"
   ]
  },
  {
   "cell_type": "code",
   "execution_count": 157,
   "id": "167bcf21",
   "metadata": {},
   "outputs": [],
   "source": [
    "occurences = pd.read_csv('../raw_data/gbif/occurences.csv')"
   ]
  },
  {
   "cell_type": "code",
   "execution_count": 158,
   "id": "6c49543e",
   "metadata": {},
   "outputs": [
    {
     "data": {
      "text/plain": [
       "(2563358, 4)"
      ]
     },
     "execution_count": 158,
     "metadata": {},
     "output_type": "execute_result"
    }
   ],
   "source": [
    "occurences.shape"
   ]
  },
  {
   "cell_type": "code",
   "execution_count": 159,
   "id": "af715edc",
   "metadata": {},
   "outputs": [],
   "source": [
    "metadata = pd.read_csv('../raw_data/gbif/metadata.csv')"
   ]
  },
  {
   "cell_type": "code",
   "execution_count": 160,
   "id": "21e38d4d",
   "metadata": {},
   "outputs": [
    {
     "data": {
      "text/plain": [
       "(2563358, 14)"
      ]
     },
     "execution_count": 160,
     "metadata": {},
     "output_type": "execute_result"
    }
   ],
   "source": [
    "metadata.shape"
   ]
  },
  {
   "cell_type": "code",
   "execution_count": 150,
   "id": "d6bf4b8e",
   "metadata": {},
   "outputs": [],
   "source": [
    "occurences_10 = pd.read_csv('../biodiversipy/data/gbif/occurences_10.csv')\n",
    "occurences_100 = pd.read_csv('../biodiversipy/data/gbif/occurences_100.csv')\n",
    "occurences_1k = pd.read_csv('../biodiversipy/data/gbif/occurences_1k.csv')\n",
    "occurences_10k = pd.read_csv('../biodiversipy/data/gbif/occurences_10k.csv')"
   ]
  },
  {
   "cell_type": "code",
   "execution_count": 151,
   "id": "d8125b54",
   "metadata": {},
   "outputs": [
    {
     "data": {
      "text/plain": [
       "((10, 4), (100, 4), (1000, 4), (10000, 4))"
      ]
     },
     "execution_count": 151,
     "metadata": {},
     "output_type": "execute_result"
    }
   ],
   "source": [
    "occurences_10.shape, occurences_100.shape, occurences_1k.shape, occurences_10k.shape"
   ]
  },
  {
   "cell_type": "markdown",
   "id": "a4ef32c1",
   "metadata": {},
   "source": [
    "# Check for coordinates outside of Germany with reverse Nominatim [takes too long]"
   ]
  },
  {
   "cell_type": "markdown",
   "id": "07a9502d",
   "metadata": {},
   "source": [
    "Install geopy-2.2.0"
   ]
  },
  {
   "cell_type": "code",
   "execution_count": 103,
   "id": "3b22d49f",
   "metadata": {
    "collapsed": true
   },
   "outputs": [
    {
     "name": "stdout",
     "output_type": "stream",
     "text": [
      "Collecting geopy\n",
      "  Downloading geopy-2.2.0-py3-none-any.whl (118 kB)\n",
      "\u001b[2K     \u001b[90m━━━━━━━━━━━━━━━━━━━━━━━━━━━━━━━━━━━━━━━\u001b[0m \u001b[32m118.9/118.9 kB\u001b[0m \u001b[31m1.0 MB/s\u001b[0m eta \u001b[36m0:00:00\u001b[0ma \u001b[36m0:00:01\u001b[0m\n",
      "\u001b[?25hCollecting geographiclib<2,>=1.49\n",
      "  Downloading geographiclib-1.52-py3-none-any.whl (38 kB)\n",
      "Installing collected packages: geographiclib, geopy\n",
      "Successfully installed geographiclib-1.52 geopy-2.2.0\n"
     ]
    }
   ],
   "source": [
    "#!pip install geopy"
   ]
  },
  {
   "cell_type": "code",
   "execution_count": 104,
   "id": "73863f35",
   "metadata": {},
   "outputs": [],
   "source": [
    "from geopy.geocoders import Nominatim"
   ]
  },
  {
   "cell_type": "code",
   "execution_count": 105,
   "id": "8124ff12",
   "metadata": {},
   "outputs": [],
   "source": [
    "# initialize Nominatim API \n",
    "geolocator = Nominatim(user_agent=\"geoapiExercises\")"
   ]
  },
  {
   "cell_type": "code",
   "execution_count": 137,
   "id": "785a3de9",
   "metadata": {},
   "outputs": [
    {
     "data": {
      "text/plain": [
       "'Deutschland'"
      ]
     },
     "execution_count": 137,
     "metadata": {},
     "output_type": "execute_result"
    }
   ],
   "source": [
    "# Latitude & Longitude input\n",
    "Latitude = '52.49925782450705'\n",
    "Longitude = '13.401844897821519'\n",
    "  \n",
    "location = geolocator.reverse(Latitude+\",\"+Longitude)\n",
    "  \n",
    "# Display\n",
    "location[0][-11:]"
   ]
  },
  {
   "cell_type": "code",
   "execution_count": 131,
   "id": "5b14d675",
   "metadata": {
    "scrolled": false
   },
   "outputs": [
    {
     "name": "stdout",
     "output_type": "stream",
     "text": [
      "Collecting tqdm\n",
      "  Downloading tqdm-4.64.0-py2.py3-none-any.whl (78 kB)\n",
      "\u001b[2K     \u001b[90m━━━━━━━━━━━━━━━━━━━━━━━━━━━━━━━━━━━━━━━\u001b[0m \u001b[32m78.4/78.4 kB\u001b[0m \u001b[31m443.2 kB/s\u001b[0m eta \u001b[36m0:00:00\u001b[0ma \u001b[36m0:00:01\u001b[0m\n",
      "\u001b[?25hInstalling collected packages: tqdm\n",
      "Successfully installed tqdm-4.64.0\n"
     ]
    }
   ],
   "source": [
    "#!pip install tqdm"
   ]
  },
  {
   "cell_type": "code",
   "execution_count": null,
   "id": "074437ae",
   "metadata": {},
   "outputs": [],
   "source": []
  }
 ],
 "metadata": {
  "kernelspec": {
   "display_name": "Python 3 (ipykernel)",
   "language": "python",
   "name": "python3"
  },
  "language_info": {
   "codemirror_mode": {
    "name": "ipython",
    "version": 3
   },
   "file_extension": ".py",
   "mimetype": "text/x-python",
   "name": "python",
   "nbconvert_exporter": "python",
   "pygments_lexer": "ipython3",
   "version": "3.8.12"
  },
  "toc": {
   "base_numbering": 1,
   "nav_menu": {},
   "number_sections": false,
   "sideBar": true,
   "skip_h1_title": false,
   "title_cell": "Table of Contents",
   "title_sidebar": "Contents",
   "toc_cell": false,
   "toc_position": {
    "height": "calc(100% - 180px)",
    "left": "10px",
    "top": "150px",
    "width": "307.2px"
   },
   "toc_section_display": true,
   "toc_window_display": true
  }
 },
 "nbformat": 4,
 "nbformat_minor": 5
}
