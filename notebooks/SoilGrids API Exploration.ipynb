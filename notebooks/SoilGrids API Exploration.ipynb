{
 "cells": [
  {
   "cell_type": "markdown",
   "id": "493dfbf0",
   "metadata": {},
   "source": [
    "To run this notebook, pip install OWSLib"
   ]
  },
  {
   "cell_type": "markdown",
   "id": "397f05c8",
   "metadata": {
    "heading_collapsed": true
   },
   "source": [
    "## Imports"
   ]
  },
  {
   "cell_type": "code",
   "execution_count": 93,
   "id": "91b7cdf8",
   "metadata": {
    "hidden": true
   },
   "outputs": [],
   "source": [
    "\n",
    "# number stuff\n",
    "import pandas as pd\n",
    "import numpy as np\n",
    "\n",
    "# visualization\n",
    "import matplotlib.pyplot as plt\n",
    "import seaborn as sns\n",
    "\n",
    "#WCS\n",
    "\n",
    "from owslib.wcs import WebCoverageService\n",
    "\n",
    "# API\n",
    "\n",
    "import requests\n",
    "\n",
    "import rasterio\n"
   ]
  },
  {
   "cell_type": "code",
   "execution_count": 108,
   "id": "3090635c",
   "metadata": {
    "hidden": true
   },
   "outputs": [],
   "source": [
    "def get_worldclim_data(file_path, plot=False):\n",
    "    dataarray = rxr.open_rasterio(file_path)\n",
    "    df = dataarray[0].to_pandas()\n",
    "    \n",
    "    if plot:\n",
    "        fig, ax = plt.subplots(figsize=(16, 5))\n",
    "        \n",
    "        # masking values\n",
    "        df_masked = np.ma.masked_where((-273 > df), df)\n",
    "\n",
    "        # use imshow so that we have something to map the colorbar to\n",
    "        image = ax.imshow(df_masked,\n",
    "                          extent=[-180, 180, -90, 90])\n",
    "        # add colorbar using the now hidden image\n",
    "        fig.colorbar(image, ax=ax)\n",
    "        plt.show()\n",
    "    \n",
    "    df = df.unstack(level=-1)\n",
    "    df = df.reset_index()\n",
    "    df.columns = ['longtitude', 'latitude', 'val']\n",
    "    return df"
   ]
  },
  {
   "cell_type": "markdown",
   "id": "9dfb62f5",
   "metadata": {},
   "source": [
    "# SoilGrids WCS Exploration\n"
   ]
  },
  {
   "cell_type": "markdown",
   "id": "2c14ed6a",
   "metadata": {},
   "source": [
    "## Exploring WCS"
   ]
  },
  {
   "cell_type": "code",
   "execution_count": 5,
   "id": "cec70e26",
   "metadata": {},
   "outputs": [],
   "source": [
    "wcs = WebCoverageService('http://maps.isric.org/mapserv?map=/map/bdod.map', version='1.0.0')"
   ]
  },
  {
   "cell_type": "code",
   "execution_count": 6,
   "id": "9166b970",
   "metadata": {},
   "outputs": [
    {
     "name": "stdout",
     "output_type": "stream",
     "text": [
      "['GetCapabilities', 'DescribeCoverage', 'GetCoverage']\n"
     ]
    }
   ],
   "source": [
    "print([op.name for op in wcs.operations])"
   ]
  },
  {
   "cell_type": "code",
   "execution_count": 8,
   "id": "4bfd6be6",
   "metadata": {},
   "outputs": [
    {
     "name": "stdout",
     "output_type": "stream",
     "text": [
      "30\n"
     ]
    }
   ],
   "source": [
    "print(len(list(wcs.contents)))"
   ]
  },
  {
   "cell_type": "code",
   "execution_count": 9,
   "id": "3be53ea6",
   "metadata": {},
   "outputs": [
    {
     "name": "stdout",
     "output_type": "stream",
     "text": [
      "['bdod_0-5cm_Q0.5', 'bdod_0-5cm_Q0.05', 'bdod_0-5cm_Q0.95', 'bdod_0-5cm_mean', 'bdod_0-5cm_uncertainty', 'bdod_5-15cm_Q0.5', 'bdod_5-15cm_Q0.05', 'bdod_5-15cm_Q0.95', 'bdod_5-15cm_mean', 'bdod_5-15cm_uncertainty', 'bdod_15-30cm_Q0.5', 'bdod_15-30cm_Q0.05', 'bdod_15-30cm_Q0.95', 'bdod_15-30cm_mean', 'bdod_15-30cm_uncertainty', 'bdod_30-60cm_Q0.05', 'bdod_30-60cm_Q0.5', 'bdod_30-60cm_Q0.95', 'bdod_30-60cm_mean', 'bdod_30-60cm_uncertainty', 'bdod_60-100cm_Q0.05', 'bdod_60-100cm_Q0.5', 'bdod_60-100cm_Q0.95', 'bdod_60-100cm_mean', 'bdod_60-100cm_uncertainty', 'bdod_100-200cm_Q0.05', 'bdod_100-200cm_Q0.5', 'bdod_100-200cm_Q0.95', 'bdod_100-200cm_mean', 'bdod_100-200cm_uncertainty']\n"
     ]
    }
   ],
   "source": [
    "print(list(wcs.contents))"
   ]
  },
  {
   "cell_type": "code",
   "execution_count": 10,
   "id": "8201c2fc",
   "metadata": {},
   "outputs": [
    {
     "name": "stdout",
     "output_type": "stream",
     "text": [
      "['bdod_0-5cm_Q0.5', 'bdod_0-5cm_Q0.05', 'bdod_0-5cm_Q0.95', 'bdod_0-5cm_mean', 'bdod_0-5cm_uncertainty']\n"
     ]
    }
   ],
   "source": [
    "names = [k for k in wcs.contents.keys() if k.startswith(\"bdod_0-5cm\")]\n",
    "print(names)"
   ]
  },
  {
   "cell_type": "code",
   "execution_count": 11,
   "id": "0fa073d2",
   "metadata": {},
   "outputs": [
    {
     "name": "stdout",
     "output_type": "stream",
     "text": [
      "['bdod_0-5cm_Q0.5', 'bdod_5-15cm_Q0.5', 'bdod_15-30cm_Q0.5', 'bdod_30-60cm_Q0.5', 'bdod_60-100cm_Q0.5', 'bdod_100-200cm_Q0.5']\n"
     ]
    }
   ],
   "source": [
    "q0_5_covs = [k for k in wcs.contents.keys() if k.find(\"Q0.5\") != -1]\n",
    "print(q0_5_covs)"
   ]
  },
  {
   "cell_type": "code",
   "execution_count": 12,
   "id": "0b6c3aa6",
   "metadata": {},
   "outputs": [
    {
     "data": {
      "text/plain": [
       "[urn:ogc:def:crs:EPSG::152160,\n",
       " urn:ogc:def:crs:EPSG::4326,\n",
       " urn:ogc:def:crs:EPSG::3857,\n",
       " urn:ogc:def:crs:EPSG::54009,\n",
       " urn:ogc:def:crs:EPSG::54012,\n",
       " urn:ogc:def:crs:EPSG::152160]"
      ]
     },
     "execution_count": 12,
     "metadata": {},
     "output_type": "execute_result"
    }
   ],
   "source": [
    "bdod_5_15_median = wcs.contents['bdod_5-15cm_Q0.5']\n",
    "bdod_5_15_median.supportedCRS"
   ]
  },
  {
   "cell_type": "code",
   "execution_count": 13,
   "id": "53b6adc8",
   "metadata": {},
   "outputs": [
    {
     "data": {
      "text/plain": [
       "['GEOTIFF_INT16']"
      ]
     },
     "execution_count": 13,
     "metadata": {},
     "output_type": "execute_result"
    }
   ],
   "source": [
    "bdod_5_15_median.supportedFormats"
   ]
  },
  {
   "cell_type": "code",
   "execution_count": 14,
   "id": "0147ba73",
   "metadata": {},
   "outputs": [
    {
     "data": {
      "text/plain": [
       "[{'nativeSrs': 'EPSG:4326',\n",
       "  'bbox': (-179.991347553068,\n",
       "   -55.9773009202418,\n",
       "   179.994461880094,\n",
       "   82.7192840534453)},\n",
       " {'nativeSrs': 'EPSG:152160',\n",
       "  'bbox': (-19949000.0, -6147500.0, 19861750.0, 8361000.0)}]"
      ]
     },
     "execution_count": 14,
     "metadata": {},
     "output_type": "execute_result"
    }
   ],
   "source": [
    "bdod_5_15_median.boundingboxes"
   ]
  },
  {
   "cell_type": "markdown",
   "id": "05e8dc4f",
   "metadata": {},
   "source": [
    "## Obtaining a Map Segment"
   ]
  },
  {
   "cell_type": "code",
   "execution_count": 84,
   "id": "077fb2a2",
   "metadata": {},
   "outputs": [],
   "source": [
    "wcs = WebCoverageService('http://maps.isric.org/mapserv?map=/map/phh2o.map', version='1.0.0')"
   ]
  },
  {
   "cell_type": "code",
   "execution_count": 168,
   "id": "fb5c2d23",
   "metadata": {},
   "outputs": [],
   "source": [
    "phh2o_0_5cm = wcs.contents['phh2o_0-5cm_Q0.05']"
   ]
  },
  {
   "cell_type": "code",
   "execution_count": 169,
   "id": "69ca531f",
   "metadata": {},
   "outputs": [
    {
     "data": {
      "text/plain": [
       "[urn:ogc:def:crs:EPSG::152160,\n",
       " urn:ogc:def:crs:EPSG::4326,\n",
       " urn:ogc:def:crs:EPSG::3857,\n",
       " urn:ogc:def:crs:EPSG::54009,\n",
       " urn:ogc:def:crs:EPSG::54012,\n",
       " urn:ogc:def:crs:EPSG::152160]"
      ]
     },
     "execution_count": 169,
     "metadata": {},
     "output_type": "execute_result"
    }
   ],
   "source": [
    "phh2o_0_5cm.supportedCRS "
   ]
  },
  {
   "cell_type": "code",
   "execution_count": 171,
   "id": "b1f1418c",
   "metadata": {},
   "outputs": [
    {
     "data": {
      "text/plain": [
       "[{'nativeSrs': 'EPSG:4326',\n",
       "  'bbox': (-179.998360809347,\n",
       "   -55.9773009202418,\n",
       "   179.994461880094,\n",
       "   82.7192840534453)},\n",
       " {'nativeSrs': 'EPSG:152160',\n",
       "  'bbox': (-19949750.0, -6147500.0, 19861750.0, 8361000.0)}]"
      ]
     },
     "execution_count": 171,
     "metadata": {},
     "output_type": "execute_result"
    }
   ],
   "source": [
    "phh2o_0_5cm.boundingboxes"
   ]
  },
  {
   "cell_type": "markdown",
   "id": "90c9fd88",
   "metadata": {},
   "source": [
    "Germany"
   ]
  },
  {
   "cell_type": "code",
   "execution_count": 156,
   "id": "511534e7",
   "metadata": {},
   "outputs": [],
   "source": [
    "bbox = (5988658, 4730248, 1501699, 5498310)"
   ]
  },
  {
   "cell_type": "markdown",
   "id": "e77b99c9",
   "metadata": {},
   "source": [
    "Madagascar"
   ]
  },
  {
   "cell_type": "code",
   "execution_count": 163,
   "id": "5534ea07",
   "metadata": {},
   "outputs": [],
   "source": [
    "bbox = (4154338,-2735639,5258518,-1082666)"
   ]
  },
  {
   "cell_type": "markdown",
   "id": "ad9af449",
   "metadata": {},
   "source": [
    "France"
   ]
  },
  {
   "cell_type": "code",
   "execution_count": 158,
   "id": "83aba00e",
   "metadata": {},
   "outputs": [],
   "source": [
    "bbox = (-5452475, 2053389, 9560016, 5114850)"
   ]
  },
  {
   "cell_type": "markdown",
   "id": "42c9783e",
   "metadata": {},
   "source": [
    "Senegal"
   ]
  },
  {
   "cell_type": "code",
   "execution_count": 151,
   "id": "014ae012",
   "metadata": {},
   "outputs": [],
   "source": [
    " bbox = (-1762504, 1233208, -1146789, 1659826)"
   ]
  },
  {
   "cell_type": "markdown",
   "id": "9178ecab",
   "metadata": {},
   "source": [
    "Nigeria"
   ]
  },
  {
   "cell_type": "code",
   "execution_count": 133,
   "id": "49d67cd5",
   "metadata": {},
   "outputs": [],
   "source": [
    "bbox = (2691701, 4240594, 1457717, 1386592)"
   ]
  },
  {
   "cell_type": "markdown",
   "id": "68175d18",
   "metadata": {},
   "source": [
    "The Gambia"
   ]
  },
  {
   "cell_type": "code",
   "execution_count": 139,
   "id": "6d7e47ef",
   "metadata": {},
   "outputs": [],
   "source": [
    "bbox = (-1684152, 1313028, -1384496, 1387649)"
   ]
  },
  {
   "cell_type": "markdown",
   "id": "dee9116c",
   "metadata": {},
   "source": [
    "Belgium"
   ]
  },
  {
   "cell_type": "code",
   "execution_count": 147,
   "id": "229f2c6b",
   "metadata": {},
   "outputs": [],
   "source": [
    "bbox = (2513573, 4952948, 6156658, 5147502)"
   ]
  },
  {
   "cell_type": "code",
   "execution_count": 164,
   "id": "bb6c1f1f",
   "metadata": {},
   "outputs": [],
   "source": [
    "response = wcs.getCoverage(\n",
    "    identifier='phh2o_0-5cm_mean', \n",
    "    crs='urn:ogc:def:crs:EPSG::152160',\n",
    "    bbox=bbox, \n",
    "    resx=250, resy=250, \n",
    "    format='GEOTIFF_INT16')"
   ]
  },
  {
   "cell_type": "code",
   "execution_count": 165,
   "id": "22c8e61f",
   "metadata": {},
   "outputs": [],
   "source": [
    "with open('../raw_data/Madagascar_pH_0-5_mean.tif', 'wb') as file:\n",
    "    file.write(response.read())"
   ]
  },
  {
   "cell_type": "code",
   "execution_count": 166,
   "id": "a6d10e8b",
   "metadata": {},
   "outputs": [
    {
     "data": {
      "image/png": "[encoded data removed]",
      "text/plain": [
       "<Figure size 1152x360 with 2 Axes>"
      ]
     },
     "metadata": {
      "needs_background": "light"
     },
     "output_type": "display_data"
    },
    {
     "data": {
      "text/html": [
       "<div>\n",
       "<style scoped>\n",
       "    .dataframe tbody tr th:only-of-type {\n",
       "        vertical-align: middle;\n",
       "    }\n",
       "\n",
       "    .dataframe tbody tr th {\n",
       "        vertical-align: top;\n",
       "    }\n",
       "\n",
       "    .dataframe thead th {\n",
       "        text-align: right;\n",
       "    }\n",
       "</style>\n",
       "<table border=\"1\" class=\"dataframe\">\n",
       "  <thead>\n",
       "    <tr style=\"text-align: right;\">\n",
       "      <th></th>\n",
       "      <th>longtitude</th>\n",
       "      <th>latitude</th>\n",
       "      <th>val</th>\n",
       "    </tr>\n",
       "  </thead>\n",
       "  <tbody>\n",
       "    <tr>\n",
       "      <th>0</th>\n",
       "      <td>4154463.0</td>\n",
       "      <td>-1.082791e+06</td>\n",
       "      <td>61</td>\n",
       "    </tr>\n",
       "    <tr>\n",
       "      <th>1</th>\n",
       "      <td>4154463.0</td>\n",
       "      <td>-1.083041e+06</td>\n",
       "      <td>61</td>\n",
       "    </tr>\n",
       "    <tr>\n",
       "      <th>2</th>\n",
       "      <td>4154463.0</td>\n",
       "      <td>-1.083291e+06</td>\n",
       "      <td>61</td>\n",
       "    </tr>\n",
       "    <tr>\n",
       "      <th>3</th>\n",
       "      <td>4154463.0</td>\n",
       "      <td>-1.083541e+06</td>\n",
       "      <td>61</td>\n",
       "    </tr>\n",
       "    <tr>\n",
       "      <th>4</th>\n",
       "      <td>4154463.0</td>\n",
       "      <td>-1.083791e+06</td>\n",
       "      <td>61</td>\n",
       "    </tr>\n",
       "    <tr>\n",
       "      <th>...</th>\n",
       "      <td>...</td>\n",
       "      <td>...</td>\n",
       "      <td>...</td>\n",
       "    </tr>\n",
       "    <tr>\n",
       "      <th>29205199</th>\n",
       "      <td>5258393.0</td>\n",
       "      <td>-2.734514e+06</td>\n",
       "      <td>0</td>\n",
       "    </tr>\n",
       "    <tr>\n",
       "      <th>29205200</th>\n",
       "      <td>5258393.0</td>\n",
       "      <td>-2.734764e+06</td>\n",
       "      <td>0</td>\n",
       "    </tr>\n",
       "    <tr>\n",
       "      <th>29205201</th>\n",
       "      <td>5258393.0</td>\n",
       "      <td>-2.735014e+06</td>\n",
       "      <td>0</td>\n",
       "    </tr>\n",
       "    <tr>\n",
       "      <th>29205202</th>\n",
       "      <td>5258393.0</td>\n",
       "      <td>-2.735264e+06</td>\n",
       "      <td>0</td>\n",
       "    </tr>\n",
       "    <tr>\n",
       "      <th>29205203</th>\n",
       "      <td>5258393.0</td>\n",
       "      <td>-2.735514e+06</td>\n",
       "      <td>0</td>\n",
       "    </tr>\n",
       "  </tbody>\n",
       "</table>\n",
       "<p>29205204 rows × 3 columns</p>\n",
       "</div>"
      ],
      "text/plain": [
       "          longtitude      latitude  val\n",
       "0          4154463.0 -1.082791e+06   61\n",
       "1          4154463.0 -1.083041e+06   61\n",
       "2          4154463.0 -1.083291e+06   61\n",
       "3          4154463.0 -1.083541e+06   61\n",
       "4          4154463.0 -1.083791e+06   61\n",
       "...              ...           ...  ...\n",
       "29205199   5258393.0 -2.734514e+06    0\n",
       "29205200   5258393.0 -2.734764e+06    0\n",
       "29205201   5258393.0 -2.735014e+06    0\n",
       "29205202   5258393.0 -2.735264e+06    0\n",
       "29205203   5258393.0 -2.735514e+06    0\n",
       "\n",
       "[29205204 rows x 3 columns]"
      ]
     },
     "execution_count": 166,
     "metadata": {},
     "output_type": "execute_result"
    }
   ],
   "source": [
    "get_worldclim_data(\"../raw_data/Madagascar_pH_0-5_mean.tif\", True)"
   ]
  },
  {
   "cell_type": "code",
   "execution_count": null,
   "id": "6b8d73e6",
   "metadata": {},
   "outputs": [],
   "source": []
  },
  {
   "cell_type": "code",
   "execution_count": 77,
   "id": "c5737b3a",
   "metadata": {},
   "outputs": [],
   "source": [
    "from PIL import Image\n",
    "import rioxarray as rxr"
   ]
  },
  {
   "cell_type": "code",
   "execution_count": 86,
   "id": "274e8289",
   "metadata": {},
   "outputs": [],
   "source": [
    "#im = Image.open('Germany_pH_0-5_mean.tif')"
   ]
  },
  {
   "cell_type": "code",
   "execution_count": null,
   "id": "41af3438",
   "metadata": {},
   "outputs": [],
   "source": []
  },
  {
   "cell_type": "code",
   "execution_count": 87,
   "id": "9a1f33db",
   "metadata": {},
   "outputs": [],
   "source": [
    "#get_worldclim_data('Germany_pH_0-5_mean.tif')"
   ]
  },
  {
   "cell_type": "markdown",
   "id": "f86276a8",
   "metadata": {},
   "source": [
    "# SoilGrids API"
   ]
  },
  {
   "cell_type": "markdown",
   "id": "34ffdaf3",
   "metadata": {},
   "source": [
    "## Query a single pixel point on the soilgrids stack\n",
    "\n",
    "layer: soilgrids layer name to be queried\n",
    "\n",
    "depth: specific depth to be queried\n",
    "\n",
    "values: statistical values"
   ]
  },
  {
   "cell_type": "code",
   "execution_count": 42,
   "id": "095fc9af",
   "metadata": {},
   "outputs": [],
   "source": [
    "url = 'https://rest.isric.org/soilgrids/v2.0/properties/query'"
   ]
  },
  {
   "cell_type": "code",
   "execution_count": 56,
   "id": "60f1c1c4",
   "metadata": {},
   "outputs": [],
   "source": [
    "longitude = 48.570066"
   ]
  },
  {
   "cell_type": "code",
   "execution_count": 57,
   "id": "b421612c",
   "metadata": {},
   "outputs": [],
   "source": [
    "latitude = 8.278059"
   ]
  },
  {
   "cell_type": "code",
   "execution_count": 58,
   "id": "92c7d040",
   "metadata": {},
   "outputs": [],
   "source": [
    "params = {\n",
    "    'lon': longitude,\n",
    "    'lat': latitude,\n",
    "    # options: https://www.isric.org/explore/soilgrids/faq-soilgrids -> 'Properties'\n",
    "    'property': ['bdod', 'nitrogen', 'sand'],\n",
    "    # six standard depth intervals\n",
    "    'depth': ['0-5cm', '5-15cm'],\n",
    "    'value': ['mean']\n",
    "}"
   ]
  },
  {
   "cell_type": "code",
   "execution_count": 59,
   "id": "5ef5e205",
   "metadata": {},
   "outputs": [],
   "source": [
    "response = requests.get(url = url, params=params).json()"
   ]
  },
  {
   "cell_type": "code",
   "execution_count": 60,
   "id": "0c06f331",
   "metadata": {},
   "outputs": [
    {
     "data": {
      "text/plain": [
       "{'name': 'nitrogen',\n",
       " 'unit_measure': {'d_factor': 100,\n",
       "  'mapped_units': 'cg/kg',\n",
       "  'target_units': 'g/kg',\n",
       "  'uncertainty_unit': ''},\n",
       " 'depths': [{'range': {'top_depth': 0, 'bottom_depth': 5, 'unit_depth': 'cm'},\n",
       "   'label': '0-5cm',\n",
       "   'values': {'mean': 123}},\n",
       "  {'range': {'top_depth': 5, 'bottom_depth': 15, 'unit_depth': 'cm'},\n",
       "   'label': '5-15cm',\n",
       "   'values': {'mean': 107}}]}"
      ]
     },
     "execution_count": 60,
     "metadata": {},
     "output_type": "execute_result"
    }
   ],
   "source": [
    "response['properties']['layers'][1]"
   ]
  },
  {
   "cell_type": "markdown",
   "id": "5cc6622b",
   "metadata": {},
   "source": [
    "## Queries the WRB MostProbable vrt layer and the specific WRB class layers to extract probablity values\n",
    "\n",
    "number_classes: Number of probability classes to return"
   ]
  },
  {
   "cell_type": "code",
   "execution_count": 63,
   "id": "a2caaf53",
   "metadata": {},
   "outputs": [],
   "source": [
    "url = 'https://rest.isric.org/soilgrids/v2.0/classification/query'"
   ]
  },
  {
   "cell_type": "code",
   "execution_count": 64,
   "id": "339b3ff9",
   "metadata": {},
   "outputs": [],
   "source": [
    "longitude = 48.570066"
   ]
  },
  {
   "cell_type": "code",
   "execution_count": 65,
   "id": "f466dabf",
   "metadata": {},
   "outputs": [],
   "source": [
    "latitude = 8.278059"
   ]
  },
  {
   "cell_type": "code",
   "execution_count": 70,
   "id": "12ab9061",
   "metadata": {},
   "outputs": [],
   "source": [
    "params = {\n",
    "    'lon': longitude,\n",
    "    'lat': latitude,\n",
    "    'number_classes': 8\n",
    "}"
   ]
  },
  {
   "cell_type": "code",
   "execution_count": 71,
   "id": "e80735fc",
   "metadata": {},
   "outputs": [],
   "source": [
    "response = requests.get(url = url, params=params).json()"
   ]
  },
  {
   "cell_type": "code",
   "execution_count": 72,
   "id": "39a4af06",
   "metadata": {},
   "outputs": [
    {
     "data": {
      "text/plain": [
       "{'type': 'Point',\n",
       " 'coordinates': [48.570066, 8.278059],\n",
       " 'query_time_s': 0.3176867961883545,\n",
       " 'wrb_class_name': 'Arenosols',\n",
       " 'wrb_class_value': 4,\n",
       " 'wrb_class_probability': [['Arenosols', 21],\n",
       "  ['Leptosols', 19],\n",
       "  ['Calcisols', 18],\n",
       "  ['Fluvisols', 9],\n",
       "  ['Cambisols', 6],\n",
       "  ['Luvisols', 5],\n",
       "  ['Vertisols', 5],\n",
       "  ['Regosols', 4]]}"
      ]
     },
     "execution_count": 72,
     "metadata": {},
     "output_type": "execute_result"
    }
   ],
   "source": [
    "response"
   ]
  },
  {
   "cell_type": "code",
   "execution_count": null,
   "id": "19816a00",
   "metadata": {},
   "outputs": [],
   "source": []
  }
 ],
 "metadata": {
  "kernelspec": {
   "display_name": "Python 3 (ipykernel)",
   "language": "python",
   "name": "python3"
  },
  "language_info": {
   "codemirror_mode": {
    "name": "ipython",
    "version": 3
   },
   "file_extension": ".py",
   "mimetype": "text/x-python",
   "name": "python",
   "nbconvert_exporter": "python",
   "pygments_lexer": "ipython3",
   "version": "3.8.13"
  },
  "toc": {
   "base_numbering": 1,
   "nav_menu": {},
   "number_sections": true,
   "sideBar": true,
   "skip_h1_title": false,
   "title_cell": "Table of Contents",
   "title_sidebar": "Contents",
   "toc_cell": false,
   "toc_position": {},
   "toc_section_display": true,
   "toc_window_display": false
  },
  "varInspector": {
   "cols": {
    "lenName": 16,
    "lenType": 16,
    "lenVar": 40
   },
   "kernels_config": {
    "python": {
     "delete_cmd_postfix": "",
     "delete_cmd_prefix": "del ",
     "library": "var_list.py",
     "varRefreshCmd": "print(var_dic_list())"
    },
    "r": {
     "delete_cmd_postfix": ") ",
     "delete_cmd_prefix": "rm(",
     "library": "var_list.r",
     "varRefreshCmd": "cat(var_dic_list()) "
    }
   },
   "types_to_exclude": [
    "module",
    "function",
    "builtin_function_or_method",
    "instance",
    "_Feature"
   ],
   "window_display": false
  }
 },
 "nbformat": 4,
 "nbformat_minor": 5
}
