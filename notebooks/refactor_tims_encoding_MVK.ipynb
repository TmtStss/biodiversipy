{
 "cells": [
  {
   "cell_type": "code",
   "execution_count": 17,
   "id": "94d93c26",
   "metadata": {},
   "outputs": [],
   "source": [
    "import pandas as pd \n",
    "import numpy as np\n",
    "from os import path\n",
    "from sklearn.feature_extraction.text import CountVectorizer"
   ]
  },
  {
   "cell_type": "code",
   "execution_count": 2,
   "id": "c073f451",
   "metadata": {},
   "outputs": [
    {
     "name": "stdout",
     "output_type": "stream",
     "text": [
      "/Users/mikkelvaldemarkoch/code/MikkelValdemar/biodiversipy/notebooks\r\n"
     ]
    }
   ],
   "source": [
    "!pwd"
   ]
  },
  {
   "cell_type": "code",
   "execution_count": 10,
   "id": "b94b1be7",
   "metadata": {},
   "outputs": [],
   "source": [
    "raw_data_path = path.join('..', 'raw_data')\n",
    "source_path = path.join(raw_data_path, 'gbif', csv)"
   ]
  },
  {
   "cell_type": "code",
   "execution_count": 36,
   "id": "53912cc6",
   "metadata": {},
   "outputs": [],
   "source": [
    "coords_germany = {\n",
    "    'lon_lower': 5.7,\n",
    "    'lat_lower': 47.1,\n",
    "    'lon_upper': 15.4,\n",
    "    'lat_upper': 55.1}"
   ]
  },
  {
   "cell_type": "code",
   "execution_count": 33,
   "id": "56544106",
   "metadata": {},
   "outputs": [],
   "source": [
    "def clean_occurences(csv='germany.csv', n = 0, coords=False):\n",
    "    \"\"\"Cleans a csv as downloaded from GBIF. Samples n rows. Outputs 2 csv files (occurences and metadata).\"\"\"\n",
    "    source_path = path.join(raw_data_path, 'gbif', csv)\n",
    "\n",
    "    print('Hi')\n",
    "    # Load data into pd.DataFrame\n",
    "    data = pd.read_csv(source_path, sep = '\\t', low_memory = False)\n",
    "\n",
    "    # Keep useful columns\n",
    "    selected_columns = ['gbifID', 'datasetKey', 'kingdom', 'phylum', 'class','order', 'family', \n",
    "                        'genus', 'species', 'scientificName', 'decimalLatitude', 'decimalLongitude', \n",
    "                        'day', 'month', 'year', 'taxonKey', 'license']\n",
    "    \n",
    "    data_cleaned = data[selected_columns]\n",
    "\n",
    "    # Drop duplicates based on lat, lon, taxonKey\n",
    "    data_cleaned = data_cleaned.drop_duplicates(subset = ['decimalLatitude', 'decimalLongitude', 'taxonKey'], keep = 'first')\n",
    "\n",
    "    # Rename coordinates column\n",
    "    data_cleaned = data_cleaned.rename(columns = {'decimalLatitude': 'latitude', 'decimalLongitude': 'longitude'})\n",
    "\n",
    "    print('Hi')\n",
    "    # Drop observations outside the bounding box coordinates of Germany\n",
    "    if coords:\n",
    "        mask = (data_cleaned['latitude'] >= coords['lat_lower']) & \\\n",
    "               (data_cleaned['latitude'] <= coords['lat_upper']) & \\\n",
    "               (data_cleaned['longitude'] >= coords['lon_lower']) & \\\n",
    "               (data_cleaned['longitude'] <= coords['lon_upper'])\n",
    "\n",
    "        data_cleaned = data_cleaned[mask]\n",
    "    \n",
    "    print('Hi')\n",
    "    # Sample n rows\n",
    "    suffix = ''\n",
    "    if n:\n",
    "        data_cleaned = data_cleaned.sample(n)\n",
    "        suffix = '_' + str(n)\n",
    "\n",
    "    # Splitting occurences data and metadata\n",
    "    gbifID = ['gbifID']\n",
    "    taxonKey = ['taxonKey']\n",
    "    coordinates = ['latitude', 'longitude']\n",
    "    data_final = data_cleaned[gbifID + coordinates + taxonKey]\n",
    "    metadata = data_cleaned.drop(columns = coordinates)\n",
    "    print('Hi')\n",
    "    # Create output directory\n",
    "    output_path = path.join(raw_data_path,'gbif', 'occurrences' + suffix)\n",
    "    if not path.isdir(output_path):\n",
    "        os.mkdir(output_path)\n",
    "    \n",
    "    # Write occurences csv\n",
    "    filename = 'occurrences' + suffix + '.csv'\n",
    "    destination_path = path.join(output_path, filename)\n",
    "    data_final.to_csv(destination_path, index=False)\n",
    "\n",
    "    # Write metadata csv\n",
    "    filename = 'metadata' + suffix + '.csv'\n",
    "    destination_path = path.join(output_path, filename)\n",
    "    metadata.to_csv(destination_path, index=False)\n",
    "    return data_final, metadata\n"
   ]
  },
  {
   "cell_type": "code",
   "execution_count": 37,
   "id": "ca7d7a6a",
   "metadata": {
    "collapsed": true
   },
   "outputs": [
    {
     "name": "stdout",
     "output_type": "stream",
     "text": [
      "Hi\n"
     ]
    },
    {
     "ename": "KeyboardInterrupt",
     "evalue": "",
     "output_type": "error",
     "traceback": [
      "\u001b[0;31m---------------------------------------------------------------------------\u001b[0m",
      "\u001b[0;31mKeyboardInterrupt\u001b[0m                         Traceback (most recent call last)",
      "Input \u001b[0;32mIn [37]\u001b[0m, in \u001b[0;36m<cell line: 1>\u001b[0;34m()\u001b[0m\n\u001b[0;32m----> 1\u001b[0m final, meta \u001b[38;5;241m=\u001b[39m \u001b[43mclean_occurences\u001b[49m\u001b[43m(\u001b[49m\u001b[43mcsv\u001b[49m\u001b[38;5;241;43m=\u001b[39;49m\u001b[38;5;124;43m'\u001b[39;49m\u001b[38;5;124;43mgermany.csv\u001b[39;49m\u001b[38;5;124;43m'\u001b[39;49m\u001b[43m,\u001b[49m\u001b[43m \u001b[49m\u001b[43mn\u001b[49m\u001b[43m \u001b[49m\u001b[38;5;241;43m=\u001b[39;49m\u001b[43m \u001b[49m\u001b[38;5;241;43m1000\u001b[39;49m\u001b[43m,\u001b[49m\u001b[43m \u001b[49m\u001b[43mcoords\u001b[49m\u001b[38;5;241;43m=\u001b[39;49m\u001b[43mcoords_germany\u001b[49m\u001b[43m)\u001b[49m\n\u001b[1;32m      2\u001b[0m final\n",
      "Input \u001b[0;32mIn [33]\u001b[0m, in \u001b[0;36mclean_occurences\u001b[0;34m(csv, n, coords)\u001b[0m\n\u001b[1;32m      5\u001b[0m \u001b[38;5;28mprint\u001b[39m(\u001b[38;5;124m'\u001b[39m\u001b[38;5;124mHi\u001b[39m\u001b[38;5;124m'\u001b[39m)\n\u001b[1;32m      6\u001b[0m \u001b[38;5;66;03m# Load data into pd.DataFrame\u001b[39;00m\n\u001b[0;32m----> 7\u001b[0m data \u001b[38;5;241m=\u001b[39m \u001b[43mpd\u001b[49m\u001b[38;5;241;43m.\u001b[39;49m\u001b[43mread_csv\u001b[49m\u001b[43m(\u001b[49m\u001b[43msource_path\u001b[49m\u001b[43m,\u001b[49m\u001b[43m \u001b[49m\u001b[43msep\u001b[49m\u001b[43m \u001b[49m\u001b[38;5;241;43m=\u001b[39;49m\u001b[43m \u001b[49m\u001b[38;5;124;43m'\u001b[39;49m\u001b[38;5;130;43;01m\\t\u001b[39;49;00m\u001b[38;5;124;43m'\u001b[39;49m\u001b[43m,\u001b[49m\u001b[43m \u001b[49m\u001b[43mlow_memory\u001b[49m\u001b[43m \u001b[49m\u001b[38;5;241;43m=\u001b[39;49m\u001b[43m \u001b[49m\u001b[38;5;28;43;01mFalse\u001b[39;49;00m\u001b[43m)\u001b[49m\n\u001b[1;32m      9\u001b[0m \u001b[38;5;66;03m# Keep useful columns\u001b[39;00m\n\u001b[1;32m     10\u001b[0m selected_columns \u001b[38;5;241m=\u001b[39m [\u001b[38;5;124m'\u001b[39m\u001b[38;5;124mgbifID\u001b[39m\u001b[38;5;124m'\u001b[39m, \u001b[38;5;124m'\u001b[39m\u001b[38;5;124mdatasetKey\u001b[39m\u001b[38;5;124m'\u001b[39m, \u001b[38;5;124m'\u001b[39m\u001b[38;5;124mkingdom\u001b[39m\u001b[38;5;124m'\u001b[39m, \u001b[38;5;124m'\u001b[39m\u001b[38;5;124mphylum\u001b[39m\u001b[38;5;124m'\u001b[39m, \u001b[38;5;124m'\u001b[39m\u001b[38;5;124mclass\u001b[39m\u001b[38;5;124m'\u001b[39m,\u001b[38;5;124m'\u001b[39m\u001b[38;5;124morder\u001b[39m\u001b[38;5;124m'\u001b[39m, \u001b[38;5;124m'\u001b[39m\u001b[38;5;124mfamily\u001b[39m\u001b[38;5;124m'\u001b[39m, \n\u001b[1;32m     11\u001b[0m                     \u001b[38;5;124m'\u001b[39m\u001b[38;5;124mgenus\u001b[39m\u001b[38;5;124m'\u001b[39m, \u001b[38;5;124m'\u001b[39m\u001b[38;5;124mspecies\u001b[39m\u001b[38;5;124m'\u001b[39m, \u001b[38;5;124m'\u001b[39m\u001b[38;5;124mscientificName\u001b[39m\u001b[38;5;124m'\u001b[39m, \u001b[38;5;124m'\u001b[39m\u001b[38;5;124mdecimalLatitude\u001b[39m\u001b[38;5;124m'\u001b[39m, \u001b[38;5;124m'\u001b[39m\u001b[38;5;124mdecimalLongitude\u001b[39m\u001b[38;5;124m'\u001b[39m, \n\u001b[1;32m     12\u001b[0m                     \u001b[38;5;124m'\u001b[39m\u001b[38;5;124mday\u001b[39m\u001b[38;5;124m'\u001b[39m, \u001b[38;5;124m'\u001b[39m\u001b[38;5;124mmonth\u001b[39m\u001b[38;5;124m'\u001b[39m, \u001b[38;5;124m'\u001b[39m\u001b[38;5;124myear\u001b[39m\u001b[38;5;124m'\u001b[39m, \u001b[38;5;124m'\u001b[39m\u001b[38;5;124mtaxonKey\u001b[39m\u001b[38;5;124m'\u001b[39m, \u001b[38;5;124m'\u001b[39m\u001b[38;5;124mlicense\u001b[39m\u001b[38;5;124m'\u001b[39m]\n",
      "File \u001b[0;32m~/.pyenv/versions/3.8.12/envs/biodiversipy/lib/python3.8/site-packages/pandas/util/_decorators.py:311\u001b[0m, in \u001b[0;36mdeprecate_nonkeyword_arguments.<locals>.decorate.<locals>.wrapper\u001b[0;34m(*args, **kwargs)\u001b[0m\n\u001b[1;32m    305\u001b[0m \u001b[38;5;28;01mif\u001b[39;00m \u001b[38;5;28mlen\u001b[39m(args) \u001b[38;5;241m>\u001b[39m num_allow_args:\n\u001b[1;32m    306\u001b[0m     warnings\u001b[38;5;241m.\u001b[39mwarn(\n\u001b[1;32m    307\u001b[0m         msg\u001b[38;5;241m.\u001b[39mformat(arguments\u001b[38;5;241m=\u001b[39marguments),\n\u001b[1;32m    308\u001b[0m         \u001b[38;5;167;01mFutureWarning\u001b[39;00m,\n\u001b[1;32m    309\u001b[0m         stacklevel\u001b[38;5;241m=\u001b[39mstacklevel,\n\u001b[1;32m    310\u001b[0m     )\n\u001b[0;32m--> 311\u001b[0m \u001b[38;5;28;01mreturn\u001b[39;00m \u001b[43mfunc\u001b[49m\u001b[43m(\u001b[49m\u001b[38;5;241;43m*\u001b[39;49m\u001b[43margs\u001b[49m\u001b[43m,\u001b[49m\u001b[43m \u001b[49m\u001b[38;5;241;43m*\u001b[39;49m\u001b[38;5;241;43m*\u001b[39;49m\u001b[43mkwargs\u001b[49m\u001b[43m)\u001b[49m\n",
      "File \u001b[0;32m~/.pyenv/versions/3.8.12/envs/biodiversipy/lib/python3.8/site-packages/pandas/io/parsers/readers.py:680\u001b[0m, in \u001b[0;36mread_csv\u001b[0;34m(filepath_or_buffer, sep, delimiter, header, names, index_col, usecols, squeeze, prefix, mangle_dupe_cols, dtype, engine, converters, true_values, false_values, skipinitialspace, skiprows, skipfooter, nrows, na_values, keep_default_na, na_filter, verbose, skip_blank_lines, parse_dates, infer_datetime_format, keep_date_col, date_parser, dayfirst, cache_dates, iterator, chunksize, compression, thousands, decimal, lineterminator, quotechar, quoting, doublequote, escapechar, comment, encoding, encoding_errors, dialect, error_bad_lines, warn_bad_lines, on_bad_lines, delim_whitespace, low_memory, memory_map, float_precision, storage_options)\u001b[0m\n\u001b[1;32m    665\u001b[0m kwds_defaults \u001b[38;5;241m=\u001b[39m _refine_defaults_read(\n\u001b[1;32m    666\u001b[0m     dialect,\n\u001b[1;32m    667\u001b[0m     delimiter,\n\u001b[0;32m   (...)\u001b[0m\n\u001b[1;32m    676\u001b[0m     defaults\u001b[38;5;241m=\u001b[39m{\u001b[38;5;124m\"\u001b[39m\u001b[38;5;124mdelimiter\u001b[39m\u001b[38;5;124m\"\u001b[39m: \u001b[38;5;124m\"\u001b[39m\u001b[38;5;124m,\u001b[39m\u001b[38;5;124m\"\u001b[39m},\n\u001b[1;32m    677\u001b[0m )\n\u001b[1;32m    678\u001b[0m kwds\u001b[38;5;241m.\u001b[39mupdate(kwds_defaults)\n\u001b[0;32m--> 680\u001b[0m \u001b[38;5;28;01mreturn\u001b[39;00m \u001b[43m_read\u001b[49m\u001b[43m(\u001b[49m\u001b[43mfilepath_or_buffer\u001b[49m\u001b[43m,\u001b[49m\u001b[43m \u001b[49m\u001b[43mkwds\u001b[49m\u001b[43m)\u001b[49m\n",
      "File \u001b[0;32m~/.pyenv/versions/3.8.12/envs/biodiversipy/lib/python3.8/site-packages/pandas/io/parsers/readers.py:581\u001b[0m, in \u001b[0;36m_read\u001b[0;34m(filepath_or_buffer, kwds)\u001b[0m\n\u001b[1;32m    578\u001b[0m     \u001b[38;5;28;01mreturn\u001b[39;00m parser\n\u001b[1;32m    580\u001b[0m \u001b[38;5;28;01mwith\u001b[39;00m parser:\n\u001b[0;32m--> 581\u001b[0m     \u001b[38;5;28;01mreturn\u001b[39;00m \u001b[43mparser\u001b[49m\u001b[38;5;241;43m.\u001b[39;49m\u001b[43mread\u001b[49m\u001b[43m(\u001b[49m\u001b[43mnrows\u001b[49m\u001b[43m)\u001b[49m\n",
      "File \u001b[0;32m~/.pyenv/versions/3.8.12/envs/biodiversipy/lib/python3.8/site-packages/pandas/io/parsers/readers.py:1254\u001b[0m, in \u001b[0;36mTextFileReader.read\u001b[0;34m(self, nrows)\u001b[0m\n\u001b[1;32m   1252\u001b[0m nrows \u001b[38;5;241m=\u001b[39m validate_integer(\u001b[38;5;124m\"\u001b[39m\u001b[38;5;124mnrows\u001b[39m\u001b[38;5;124m\"\u001b[39m, nrows)\n\u001b[1;32m   1253\u001b[0m \u001b[38;5;28;01mtry\u001b[39;00m:\n\u001b[0;32m-> 1254\u001b[0m     index, columns, col_dict \u001b[38;5;241m=\u001b[39m \u001b[38;5;28;43mself\u001b[39;49m\u001b[38;5;241;43m.\u001b[39;49m\u001b[43m_engine\u001b[49m\u001b[38;5;241;43m.\u001b[39;49m\u001b[43mread\u001b[49m\u001b[43m(\u001b[49m\u001b[43mnrows\u001b[49m\u001b[43m)\u001b[49m\n\u001b[1;32m   1255\u001b[0m \u001b[38;5;28;01mexcept\u001b[39;00m \u001b[38;5;167;01mException\u001b[39;00m:\n\u001b[1;32m   1256\u001b[0m     \u001b[38;5;28mself\u001b[39m\u001b[38;5;241m.\u001b[39mclose()\n",
      "File \u001b[0;32m~/.pyenv/versions/3.8.12/envs/biodiversipy/lib/python3.8/site-packages/pandas/io/parsers/c_parser_wrapper.py:230\u001b[0m, in \u001b[0;36mCParserWrapper.read\u001b[0;34m(self, nrows)\u001b[0m\n\u001b[1;32m    227\u001b[0m         data \u001b[38;5;241m=\u001b[39m _concatenate_chunks(chunks)\n\u001b[1;32m    229\u001b[0m     \u001b[38;5;28;01melse\u001b[39;00m:\n\u001b[0;32m--> 230\u001b[0m         data \u001b[38;5;241m=\u001b[39m \u001b[38;5;28;43mself\u001b[39;49m\u001b[38;5;241;43m.\u001b[39;49m\u001b[43m_reader\u001b[49m\u001b[38;5;241;43m.\u001b[39;49m\u001b[43mread\u001b[49m\u001b[43m(\u001b[49m\u001b[43mnrows\u001b[49m\u001b[43m)\u001b[49m\n\u001b[1;32m    231\u001b[0m \u001b[38;5;28;01mexcept\u001b[39;00m \u001b[38;5;167;01mStopIteration\u001b[39;00m:\n\u001b[1;32m    232\u001b[0m     \u001b[38;5;28;01mif\u001b[39;00m \u001b[38;5;28mself\u001b[39m\u001b[38;5;241m.\u001b[39m_first_chunk:\n",
      "File \u001b[0;32mpandas/_libs/parsers.pyx:787\u001b[0m, in \u001b[0;36mpandas._libs.parsers.TextReader.read\u001b[0;34m()\u001b[0m\n",
      "File \u001b[0;32mpandas/_libs/parsers.pyx:883\u001b[0m, in \u001b[0;36mpandas._libs.parsers.TextReader._read_rows\u001b[0;34m()\u001b[0m\n",
      "File \u001b[0;32mpandas/_libs/parsers.pyx:1026\u001b[0m, in \u001b[0;36mpandas._libs.parsers.TextReader._convert_column_data\u001b[0;34m()\u001b[0m\n",
      "File \u001b[0;32mpandas/_libs/parsers.pyx:1072\u001b[0m, in \u001b[0;36mpandas._libs.parsers.TextReader._convert_tokens\u001b[0;34m()\u001b[0m\n",
      "File \u001b[0;32mpandas/_libs/parsers.pyx:1147\u001b[0m, in \u001b[0;36mpandas._libs.parsers.TextReader._convert_with_dtype\u001b[0;34m()\u001b[0m\n",
      "File \u001b[0;32m~/.pyenv/versions/3.8.12/envs/biodiversipy/lib/python3.8/site-packages/pandas/core/dtypes/common.py:1429\u001b[0m, in \u001b[0;36mis_extension_array_dtype\u001b[0;34m(arr_or_dtype)\u001b[0m\n\u001b[1;32m   1420\u001b[0m     \u001b[38;5;66;03m# Note: if other EA dtypes are ever held in HybridBlock, exclude those\u001b[39;00m\n\u001b[1;32m   1421\u001b[0m     \u001b[38;5;66;03m#  here too.\u001b[39;00m\n\u001b[1;32m   1422\u001b[0m     \u001b[38;5;66;03m# NB: need to check DatetimeTZDtype and not is_datetime64tz_dtype\u001b[39;00m\n\u001b[1;32m   1423\u001b[0m     \u001b[38;5;66;03m#  to exclude ArrowTimestampUSDtype\u001b[39;00m\n\u001b[1;32m   1424\u001b[0m     \u001b[38;5;28;01mreturn\u001b[39;00m \u001b[38;5;28misinstance\u001b[39m(dtype, ExtensionDtype) \u001b[38;5;129;01mand\u001b[39;00m \u001b[38;5;129;01mnot\u001b[39;00m \u001b[38;5;28misinstance\u001b[39m(\n\u001b[1;32m   1425\u001b[0m         dtype, (DatetimeTZDtype, PeriodDtype)\n\u001b[1;32m   1426\u001b[0m     )\n\u001b[0;32m-> 1429\u001b[0m \u001b[38;5;28;01mdef\u001b[39;00m \u001b[38;5;21mis_extension_array_dtype\u001b[39m(arr_or_dtype) \u001b[38;5;241m-\u001b[39m\u001b[38;5;241m>\u001b[39m \u001b[38;5;28mbool\u001b[39m:\n\u001b[1;32m   1430\u001b[0m     \u001b[38;5;124;03m\"\"\"\u001b[39;00m\n\u001b[1;32m   1431\u001b[0m \u001b[38;5;124;03m    Check if an object is a pandas extension array type.\u001b[39;00m\n\u001b[1;32m   1432\u001b[0m \n\u001b[0;32m   (...)\u001b[0m\n\u001b[1;32m   1472\u001b[0m \u001b[38;5;124;03m    False\u001b[39;00m\n\u001b[1;32m   1473\u001b[0m \u001b[38;5;124;03m    \"\"\"\u001b[39;00m\n\u001b[1;32m   1474\u001b[0m     dtype \u001b[38;5;241m=\u001b[39m \u001b[38;5;28mgetattr\u001b[39m(arr_or_dtype, \u001b[38;5;124m\"\u001b[39m\u001b[38;5;124mdtype\u001b[39m\u001b[38;5;124m\"\u001b[39m, arr_or_dtype)\n",
      "\u001b[0;31mKeyboardInterrupt\u001b[0m: "
     ]
    }
   ],
   "source": [
    "final, meta = clean_occurences(csv='germany.csv', n = 1000, coords=coords_germany)\n",
    "final"
   ]
  },
  {
   "cell_type": "code",
   "execution_count": 18,
   "id": "a9f7c1ae",
   "metadata": {},
   "outputs": [],
   "source": [
    "def get_suffix(n):\n",
    "    if n < 1_000:\n",
    "        suffix = '_' + str(n)\n",
    "    elif (n >= 1_000) and (n < 1_000_000):\n",
    "        suffix = '_' + str(n // 1_000) + 'k'\n",
    "    else:\n",
    "        suffix = '_' + str(n // 1_000_000) + 'm'\n",
    "    return suffix"
   ]
  },
  {
   "cell_type": "code",
   "execution_count": 136,
   "id": "a3421f6f",
   "metadata": {},
   "outputs": [],
   "source": [
    "def encode_taxonKey(raw_data_path, n, from_csv = True, to_csv = True):\n",
    "    \"\"\"\n",
    "    Takes an occurence DataFrame or 'occurences_n.csv' as input and outputs\n",
    "    the species encoded and the unique location coordinates as DataFrame or\n",
    "    csv ('occurences_n_encoded.csv', 'coordinates_n.csv')\n",
    "    \"\"\"\n",
    "    print('Starting')\n",
    "    filename = 'occurrences' + get_suffix(n) + '.csv'\n",
    "    source_path = path.join(raw_data_path, 'gbif', 'occurrences' + get_suffix(n), filename)\n",
    "\n",
    "    if from_csv:\n",
    "        coordinates = pd.read_csv(source_path)\n",
    "    else:\n",
    "        coordinates = pd.DataFrame(source_path)\n",
    "        \n",
    "    \n",
    "\n",
    "    print('Create coordinates')\n",
    "    # Create a DataFrame with a coordinates column (latitude, longitude)\n",
    "    coordinates['coordinates'] = coordinates[['latitude', 'longitude']].apply(tuple, axis=1)\n",
    "\n",
    "    # Convert taxonKey to string for later vectorizing\n",
    "    coordinates['taxonKey'] = coordinates['taxonKey'].astype('string')\n",
    "    \n",
    "    print('GroupBy')\n",
    "    # Group by coordinates and list the taxonKey's\n",
    "    encoded_targets = coordinates.groupby(['coordinates'])['taxonKey'].apply(list)\n",
    "    encoded_targets = pd.DataFrame(encoded_targets)\n",
    "    idx = encoded_targets.index\n",
    "\n",
    "    # Format taxonKey Pandas Series for vectorizing\n",
    "    encoded_targets['taxonKey'] = encoded_targets['taxonKey'].map(lambda x: ' '.join(x))\n",
    "    #encoded_targets = encoded_targets.to_list()\n",
    "\n",
    "    print('Tokenize')\n",
    "    # Initialize CountVectorizer and apply it to the taxonKey's\n",
    "    vectorizer = CountVectorizer(tokenizer=lambda txt: txt.split())\n",
    "    encoded_targets = vectorizer.fit_transform(encoded_targets['taxonKey']).toarray()\n",
    "    \n",
    "    print('Feature names')\n",
    "    # Get feature names out\n",
    "    encoded_targets = pd.DataFrame(encoded_targets, index=idx, columns = vectorizer.get_feature_names_out())\n",
    "    encoded_targets.reset_index(inplace=True)\n",
    "\n",
    "    print('Merging')\n",
    "    # Merging output of CountVectorizer with latitude and longitude data\n",
    "    #coordinates = coordinates.drop(columns = ['gbifID', 'taxonKey', 'coordinates'])\n",
    "    coordinates = coordinates.drop(columns=['gbifID', 'taxonKey']).drop_duplicates()\n",
    "    \n",
    "    merged = coordinates.merge(encoded_targets).drop(columns='coordinates')\n",
    "\n",
    "    if to_csv:\n",
    "        encoded_path = source_path.replace('.csv', '_encoded.csv')\n",
    "        merged.to_csv(encoded_path, index = False)\n",
    "        coordinates_path = source_path.replace('occurences', 'coordinates')\n",
    "        coordinates.to_csv(coordinates_path, index = False)\n",
    "\n",
    "    return merged, coordinates"
   ]
  },
  {
   "cell_type": "code",
   "execution_count": 20,
   "id": "8f576e30",
   "metadata": {},
   "outputs": [],
   "source": [
    "n = 1000\n",
    "raw_data_path = path.join('..', 'raw_data')"
   ]
  },
  {
   "cell_type": "code",
   "execution_count": 24,
   "id": "ca29dc26",
   "metadata": {},
   "outputs": [
    {
     "data": {
      "text/plain": [
       "'../raw_data/gbif/occurrences_1k/occurrences_1k.csv'"
      ]
     },
     "execution_count": 24,
     "metadata": {},
     "output_type": "execute_result"
    }
   ],
   "source": [
    "filename = 'occurrences' + get_suffix(n) + '.csv'\n",
    "source_path = path.join(raw_data_path, 'gbif', 'occurrences' + get_suffix(n), filename)\n",
    "source_path"
   ]
  },
  {
   "cell_type": "code",
   "execution_count": 25,
   "id": "3d30d327",
   "metadata": {},
   "outputs": [
    {
     "data": {
      "text/html": [
       "<div>\n",
       "<style scoped>\n",
       "    .dataframe tbody tr th:only-of-type {\n",
       "        vertical-align: middle;\n",
       "    }\n",
       "\n",
       "    .dataframe tbody tr th {\n",
       "        vertical-align: top;\n",
       "    }\n",
       "\n",
       "    .dataframe thead th {\n",
       "        text-align: right;\n",
       "    }\n",
       "</style>\n",
       "<table border=\"1\" class=\"dataframe\">\n",
       "  <thead>\n",
       "    <tr style=\"text-align: right;\">\n",
       "      <th></th>\n",
       "      <th>latitude</th>\n",
       "      <th>longitude</th>\n",
       "    </tr>\n",
       "  </thead>\n",
       "  <tbody>\n",
       "    <tr>\n",
       "      <th>0</th>\n",
       "      <td>48.870487</td>\n",
       "      <td>10.335366</td>\n",
       "    </tr>\n",
       "    <tr>\n",
       "      <th>1</th>\n",
       "      <td>54.651142</td>\n",
       "      <td>9.772167</td>\n",
       "    </tr>\n",
       "    <tr>\n",
       "      <th>2</th>\n",
       "      <td>53.936638</td>\n",
       "      <td>11.247078</td>\n",
       "    </tr>\n",
       "    <tr>\n",
       "      <th>3</th>\n",
       "      <td>49.667747</td>\n",
       "      <td>8.651412</td>\n",
       "    </tr>\n",
       "    <tr>\n",
       "      <th>4</th>\n",
       "      <td>48.826295</td>\n",
       "      <td>10.062125</td>\n",
       "    </tr>\n",
       "    <tr>\n",
       "      <th>...</th>\n",
       "      <td>...</td>\n",
       "      <td>...</td>\n",
       "    </tr>\n",
       "    <tr>\n",
       "      <th>995</th>\n",
       "      <td>52.047150</td>\n",
       "      <td>13.316376</td>\n",
       "    </tr>\n",
       "    <tr>\n",
       "      <th>996</th>\n",
       "      <td>48.809866</td>\n",
       "      <td>12.882002</td>\n",
       "    </tr>\n",
       "    <tr>\n",
       "      <th>997</th>\n",
       "      <td>48.238122</td>\n",
       "      <td>11.506422</td>\n",
       "    </tr>\n",
       "    <tr>\n",
       "      <th>998</th>\n",
       "      <td>47.831425</td>\n",
       "      <td>7.731156</td>\n",
       "    </tr>\n",
       "    <tr>\n",
       "      <th>999</th>\n",
       "      <td>49.245312</td>\n",
       "      <td>8.343642</td>\n",
       "    </tr>\n",
       "  </tbody>\n",
       "</table>\n",
       "<p>1000 rows × 2 columns</p>\n",
       "</div>"
      ],
      "text/plain": [
       "      latitude  longitude\n",
       "0    48.870487  10.335366\n",
       "1    54.651142   9.772167\n",
       "2    53.936638  11.247078\n",
       "3    49.667747   8.651412\n",
       "4    48.826295  10.062125\n",
       "..         ...        ...\n",
       "995  52.047150  13.316376\n",
       "996  48.809866  12.882002\n",
       "997  48.238122  11.506422\n",
       "998  47.831425   7.731156\n",
       "999  49.245312   8.343642\n",
       "\n",
       "[1000 rows x 2 columns]"
      ]
     },
     "execution_count": 25,
     "metadata": {},
     "output_type": "execute_result"
    }
   ],
   "source": [
    "coordinates = pd.read_csv(source_path)\n",
    "coordinates"
   ]
  },
  {
   "cell_type": "code",
   "execution_count": null,
   "id": "5a3d2ec2",
   "metadata": {},
   "outputs": [],
   "source": []
  }
 ],
 "metadata": {
  "kernelspec": {
   "display_name": "Python 3 (ipykernel)",
   "language": "python",
   "name": "python3"
  },
  "language_info": {
   "codemirror_mode": {
    "name": "ipython",
    "version": 3
   },
   "file_extension": ".py",
   "mimetype": "text/x-python",
   "name": "python",
   "nbconvert_exporter": "python",
   "pygments_lexer": "ipython3",
   "version": "3.8.12"
  },
  "toc": {
   "base_numbering": 1,
   "nav_menu": {},
   "number_sections": true,
   "sideBar": true,
   "skip_h1_title": false,
   "title_cell": "Table of Contents",
   "title_sidebar": "Contents",
   "toc_cell": false,
   "toc_position": {},
   "toc_section_display": true,
   "toc_window_display": false
  }
 },
 "nbformat": 4,
 "nbformat_minor": 5
}
