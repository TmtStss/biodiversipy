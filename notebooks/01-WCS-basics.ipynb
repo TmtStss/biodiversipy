{
 "cells": [
  {
   "cell_type": "markdown",
   "metadata": {},
   "source": [
    "Basic interaction with the Web Coverage Service\n",
    "===========================\n",
    "\n",
    "The interaction with a WCS is made very convinient by the [OWSLib](https://geopython.github.io/OWSLib/) pacakge. This section shows how to use OWSLib to obtain relevant information about the service and the maps it serves.\n",
    "\n",
    "First load the `WebCoverageService` class from the OWSLib and create a connection to a service, in this case the one serving the predictions for bulk density:"
   ]
  },
  {
   "cell_type": "code",
   "execution_count": null,
   "metadata": {},
   "outputs": [],
   "source": [
    "from owslib.wcs import WebCoverageService\n",
    "wcs = WebCoverageService('http://maps.isric.org/mapserv?map=/map/bdod.map', version='1.0.0')"
   ]
  },
  {
   "cell_type": "markdown",
   "metadata": {},
   "source": [
    "The absense of errors means that a connection was sucessfully established. To get more information about this service, start by identifying the operations available:"
   ]
  },
  {
   "cell_type": "code",
   "execution_count": null,
   "metadata": {
    "scrolled": true
   },
   "outputs": [],
   "source": [
    "print([op.name for op in wcs.operations])"
   ]
  },
  {
   "cell_type": "markdown",
   "metadata": {},
   "source": [
    "The full list of coverages available from this service is in the `contents` property:"
   ]
  },
  {
   "cell_type": "code",
   "execution_count": null,
   "metadata": {
    "scrolled": true
   },
   "outputs": [],
   "source": [
    "print(list(wcs.contents))"
   ]
  },
  {
   "cell_type": "markdown",
   "metadata": {},
   "source": [
    "That is a large set of coverages, but it is easy to filter the dictionary. For instance, to get the name of all  coverages for the 0 cm to 5 cm depth interval:"
   ]
  },
  {
   "cell_type": "code",
   "execution_count": null,
   "metadata": {},
   "outputs": [],
   "source": [
    "names = [k for k in wcs.contents.keys() if k.startswith(\"bdod_0-5cm\")]\n",
    "print(names)"
   ]
  },
  {
   "cell_type": "markdown",
   "metadata": {},
   "source": [
    "Or to search for all the coverages reporting the median prediction:"
   ]
  },
  {
   "cell_type": "code",
   "execution_count": null,
   "metadata": {},
   "outputs": [],
   "source": [
    "q0_5_covs = [k for k in wcs.contents.keys() if k.find(\"Q0.5\") != -1]\n",
    "print(q0_5_covs)"
   ]
  },
  {
   "cell_type": "markdown",
   "metadata": {},
   "source": [
    "These are the SoilGrids predictions for bulk density for the six standard depths defined in the [GlobalSoilMap](https://www.globalsoilmap.net) specifications.\n",
    "\n",
    "The details for one of these coverages can be inspected using the identifiers above:"
   ]
  },
  {
   "cell_type": "code",
   "execution_count": null,
   "metadata": {},
   "outputs": [],
   "source": [
    "bdod_5_15_median = wcs.contents['bdod_5-15cm_Q0.5']\n",
    "bdod_5_15_median.supportedCRS"
   ]
  },
  {
   "cell_type": "code",
   "execution_count": null,
   "metadata": {},
   "outputs": [],
   "source": [
    "bdod_5_15_median.supportedFormats"
   ]
  },
  {
   "cell_type": "code",
   "execution_count": null,
   "metadata": {},
   "outputs": [],
   "source": [
    "bdod_5_15_median.boundingboxes"
   ]
  },
  {
   "cell_type": "markdown",
   "metadata": {},
   "source": [
    "All these information bits are important to request actual data, i.e. map segments. [Section 2](02-WCS-getExtent.ipynb) provides an example."
   ]
  },
  {
   "cell_type": "markdown",
   "metadata": {},
   "source": [
    "[Index](index.ipynb) | [Next](02-WCS-getExtent.ipynb)"
   ]
  }
 ],
 "metadata": {
  "@webio": {
   "lastCommId": "24F3CE795230432DAE375840C632FD14",
   "lastKernelId": "5fbc165e-e72f-430e-b457-f7d6f4594928"
  },
  "kernelspec": {
   "display_name": "Python 3 (ipykernel)",
   "language": "python",
   "name": "python3"
  },
  "language_info": {
   "codemirror_mode": {
    "name": "ipython",
    "version": 3
   },
   "file_extension": ".py",
   "mimetype": "text/x-python",
   "name": "python",
   "nbconvert_exporter": "python",
   "pygments_lexer": "ipython3",
   "version": "3.8.13"
  },
  "toc": {
   "base_numbering": 1,
   "nav_menu": {},
   "number_sections": true,
   "sideBar": true,
   "skip_h1_title": false,
   "title_cell": "Table of Contents",
   "title_sidebar": "Contents",
   "toc_cell": false,
   "toc_position": {},
   "toc_section_display": true,
   "toc_window_display": false
  },
  "varInspector": {
   "cols": {
    "lenName": 16,
    "lenType": 16,
    "lenVar": 40
   },
   "kernels_config": {
    "python": {
     "delete_cmd_postfix": "",
     "delete_cmd_prefix": "del ",
     "library": "var_list.py",
     "varRefreshCmd": "print(var_dic_list())"
    },
    "r": {
     "delete_cmd_postfix": ") ",
     "delete_cmd_prefix": "rm(",
     "library": "var_list.r",
     "varRefreshCmd": "cat(var_dic_list()) "
    }
   },
   "types_to_exclude": [
    "module",
    "function",
    "builtin_function_or_method",
    "instance",
    "_Feature"
   ],
   "window_display": false
  }
 },
 "nbformat": 4,
 "nbformat_minor": 2
}
