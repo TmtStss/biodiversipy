{
 "cells": [
  {
   "cell_type": "markdown",
   "id": "1e98b8f3",
   "metadata": {},
   "source": [
    "\"\"\"\n",
    "Stop gninnipS My sdroW!\n",
    "Write a function that takes in a string of one or more words, and returns the same \n",
    "string, but with all five or more letter words reversed (like the title of this question). \n",
    "Spaces will be included only when more than one word is present.\n",
    "\"\"\""
   ]
  },
  {
   "cell_type": "code",
   "execution_count": 48,
   "id": "aa4f784d",
   "metadata": {},
   "outputs": [],
   "source": [
    "\n",
    "# Need to import for a list of punctuation\n",
    "import string\n",
    "\n",
    "\n",
    "def spinWords(sentence):\n",
    "    \n",
    "    output_sentence = []\n",
    "    \n",
    "    # Creates a list of words, split by spaces\n",
    "    split_words = sentence.split()\n",
    "        \n",
    "    # Loops over every word in that list\n",
    "    for word in split_words:\n",
    "        \n",
    "        added_word = ''\n",
    "        \n",
    "        # Checking if the last character in word is punctuation\n",
    "        if word[-1] in string.punctuation:\n",
    "            \n",
    "            # Creates a temporary word without the punctuation\n",
    "            temp_word = word[:-1]\n",
    "            \n",
    "            # If length of word is >= 5, reverses it\n",
    "            if len(temp_word) >= 5:\n",
    "                \n",
    "                for i in range(1, len(temp_word) + 1):\n",
    "                    \n",
    "                    added_word += temp_word[-i]\n",
    "            \n",
    "            # Otherwise, doesn't reverse it\n",
    "            else:\n",
    "                \n",
    "                added_word = temp_word\n",
    "            \n",
    "            # Adds the punctuation back to the word\n",
    "            added_word += word[-1]\n",
    "        \n",
    "        # Does the same thing as above, but without punctuation\n",
    "        else:\n",
    "            \n",
    "            if len(word) >= 5:\n",
    "                \n",
    "                for i in range(1, len(word) + 1):\n",
    "                    \n",
    "                    added_word += word[-i]\n",
    "            \n",
    "            else:\n",
    "                \n",
    "                added_word = word\n",
    "                \n",
    "        output_sentence.append(added_word)\n",
    "    \n",
    "    # Returns a rejoined sentence from the output list\n",
    "    return ' '.join(output_sentence)\n",
    "        \n",
    "                \n",
    "                \n"
   ]
  },
  {
   "cell_type": "code",
   "execution_count": 49,
   "id": "3e80aaa6",
   "metadata": {},
   "outputs": [],
   "source": [
    "sen_1 = \"Hey fellow Le Wagon alumni\"\n",
    "out_1 = \"Hey wollef Le nogaW inmula\"\n",
    "sen_2 = \"Rake it until you make it\"\n",
    "out_2 = \"Rake it litnu you make it\"\n",
    "sen_3 = \"Change your life, learn to code\"\n",
    "out_3 = \"egnahC your life, nrael to code\""
   ]
  },
  {
   "cell_type": "code",
   "execution_count": 50,
   "id": "5b780aa2",
   "metadata": {},
   "outputs": [
    {
     "data": {
      "text/plain": [
       "True"
      ]
     },
     "execution_count": 50,
     "metadata": {},
     "output_type": "execute_result"
    }
   ],
   "source": [
    "spinWords(sen_3) == out_3"
   ]
  }
 ],
 "metadata": {
  "kernelspec": {
   "display_name": "Python 3 (ipykernel)",
   "language": "python",
   "name": "python3"
  },
  "language_info": {
   "codemirror_mode": {
    "name": "ipython",
    "version": 3
   },
   "file_extension": ".py",
   "mimetype": "text/x-python",
   "name": "python",
   "nbconvert_exporter": "python",
   "pygments_lexer": "ipython3",
   "version": "3.8.13"
  },
  "toc": {
   "base_numbering": 1,
   "nav_menu": {},
   "number_sections": true,
   "sideBar": true,
   "skip_h1_title": false,
   "title_cell": "Table of Contents",
   "title_sidebar": "Contents",
   "toc_cell": false,
   "toc_position": {},
   "toc_section_display": true,
   "toc_window_display": false
  },
  "varInspector": {
   "cols": {
    "lenName": 16,
    "lenType": 16,
    "lenVar": 40
   },
   "kernels_config": {
    "python": {
     "delete_cmd_postfix": "",
     "delete_cmd_prefix": "del ",
     "library": "var_list.py",
     "varRefreshCmd": "print(var_dic_list())"
    },
    "r": {
     "delete_cmd_postfix": ") ",
     "delete_cmd_prefix": "rm(",
     "library": "var_list.r",
     "varRefreshCmd": "cat(var_dic_list()) "
    }
   },
   "types_to_exclude": [
    "module",
    "function",
    "builtin_function_or_method",
    "instance",
    "_Feature"
   ],
   "window_display": false
  }
 },
 "nbformat": 4,
 "nbformat_minor": 5
}
