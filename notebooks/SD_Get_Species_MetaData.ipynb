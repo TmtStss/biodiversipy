{
 "cells": [
  {
   "cell_type": "code",
   "execution_count": 1,
   "id": "d91613a3",
   "metadata": {},
   "outputs": [
    {
     "name": "stdout",
     "output_type": "stream",
     "text": [
      "Requirement already satisfied: icrawler in /Users/samueldrewes/.pyenv/versions/3.8.13/envs/lewagon/envs/the_best/lib/python3.8/site-packages (0.6.6)\n",
      "Requirement already satisfied: beautifulsoup4>=4.4.1 in /Users/samueldrewes/.pyenv/versions/3.8.13/envs/lewagon/envs/the_best/lib/python3.8/site-packages (from icrawler) (4.10.0)\n",
      "Requirement already satisfied: Pillow in /Users/samueldrewes/.pyenv/versions/3.8.13/envs/lewagon/envs/the_best/lib/python3.8/site-packages (from icrawler) (9.0.0)\n",
      "Requirement already satisfied: lxml in /Users/samueldrewes/.pyenv/versions/3.8.13/envs/lewagon/envs/the_best/lib/python3.8/site-packages (from icrawler) (4.7.1)\n",
      "Requirement already satisfied: requests>=2.9.1 in /Users/samueldrewes/.pyenv/versions/3.8.13/envs/lewagon/envs/the_best/lib/python3.8/site-packages (from icrawler) (2.27.1)\n",
      "Requirement already satisfied: six>=1.10.0 in /Users/samueldrewes/.pyenv/versions/3.8.13/envs/lewagon/envs/the_best/lib/python3.8/site-packages (from icrawler) (1.15.0)\n",
      "Requirement already satisfied: soupsieve>1.2 in /Users/samueldrewes/.pyenv/versions/3.8.13/envs/lewagon/envs/the_best/lib/python3.8/site-packages (from beautifulsoup4>=4.4.1->icrawler) (2.3.1)\n",
      "Requirement already satisfied: certifi>=2017.4.17 in /Users/samueldrewes/.pyenv/versions/3.8.13/envs/lewagon/envs/the_best/lib/python3.8/site-packages (from requests>=2.9.1->icrawler) (2021.10.8)\n",
      "Requirement already satisfied: charset-normalizer~=2.0.0 in /Users/samueldrewes/.pyenv/versions/3.8.13/envs/lewagon/envs/the_best/lib/python3.8/site-packages (from requests>=2.9.1->icrawler) (2.0.10)\n",
      "Requirement already satisfied: urllib3<1.27,>=1.21.1 in /Users/samueldrewes/.pyenv/versions/3.8.13/envs/lewagon/envs/the_best/lib/python3.8/site-packages (from requests>=2.9.1->icrawler) (1.26.7)\n",
      "Requirement already satisfied: idna<4,>=2.5 in /Users/samueldrewes/.pyenv/versions/3.8.13/envs/lewagon/envs/the_best/lib/python3.8/site-packages (from requests>=2.9.1->icrawler) (3.3)\n",
      "\u001b[33mWARNING: You are using pip version 22.0.4; however, version 22.1.2 is available.\n",
      "You should consider upgrading via the '/Users/samueldrewes/.pyenv/versions/lewagon/envs/the_best/bin/python3 -m pip install --upgrade pip' command.\u001b[0m\u001b[33m\n",
      "\u001b[0m"
     ]
    }
   ],
   "source": [
    "!pip install icrawler\n"
   ]
  },
  {
   "cell_type": "code",
   "execution_count": 2,
   "id": "d9a7d826",
   "metadata": {},
   "outputs": [],
   "source": [
    "from icrawler.builtin import GoogleImageCrawler\n"
   ]
  },
  {
   "cell_type": "code",
   "execution_count": 3,
   "id": "406fef8f",
   "metadata": {},
   "outputs": [],
   "source": [
    "import requests"
   ]
  },
  {
   "cell_type": "code",
   "execution_count": 4,
   "id": "01285cb9",
   "metadata": {},
   "outputs": [],
   "source": [
    "\n",
    "# number stuff\n",
    "import pandas as pd\n",
    "import numpy as np\n",
    "\n",
    "# visualization\n",
    "import matplotlib.pyplot as plt\n",
    "import seaborn as sns"
   ]
  },
  {
   "cell_type": "code",
   "execution_count": 5,
   "id": "261f2e3f",
   "metadata": {},
   "outputs": [
    {
     "name": "stdout",
     "output_type": "stream",
     "text": [
      "/Users/samueldrewes/code/ElCheckler/biodiversipy/notebooks\r\n"
     ]
    }
   ],
   "source": [
    "!pwd"
   ]
  },
  {
   "cell_type": "code",
   "execution_count": 6,
   "id": "4ce72611",
   "metadata": {},
   "outputs": [],
   "source": [
    "sample_taxonKey = 3091677"
   ]
  },
  {
   "cell_type": "code",
   "execution_count": 7,
   "id": "8b9152aa",
   "metadata": {},
   "outputs": [],
   "source": [
    "metadata = pd.read_csv('../raw_data/Experiment_data/metadata_1000.csv')"
   ]
  },
  {
   "cell_type": "code",
   "execution_count": 8,
   "id": "b0d4b57b",
   "metadata": {},
   "outputs": [
    {
     "data": {
      "text/html": [
       "<div>\n",
       "<style scoped>\n",
       "    .dataframe tbody tr th:only-of-type {\n",
       "        vertical-align: middle;\n",
       "    }\n",
       "\n",
       "    .dataframe tbody tr th {\n",
       "        vertical-align: top;\n",
       "    }\n",
       "\n",
       "    .dataframe thead th {\n",
       "        text-align: right;\n",
       "    }\n",
       "</style>\n",
       "<table border=\"1\" class=\"dataframe\">\n",
       "  <thead>\n",
       "    <tr style=\"text-align: right;\">\n",
       "      <th></th>\n",
       "      <th>gbifID</th>\n",
       "      <th>datasetKey</th>\n",
       "      <th>kingdom</th>\n",
       "      <th>phylum</th>\n",
       "      <th>class</th>\n",
       "      <th>order</th>\n",
       "      <th>family</th>\n",
       "      <th>genus</th>\n",
       "      <th>species</th>\n",
       "      <th>scientificName</th>\n",
       "      <th>day</th>\n",
       "      <th>month</th>\n",
       "      <th>year</th>\n",
       "      <th>taxonKey</th>\n",
       "      <th>license</th>\n",
       "    </tr>\n",
       "  </thead>\n",
       "  <tbody>\n",
       "    <tr>\n",
       "      <th>995</th>\n",
       "      <td>2974393296</td>\n",
       "      <td>7a3679ef-5582-4aaa-81f0-8c2545cafc81</td>\n",
       "      <td>Plantae</td>\n",
       "      <td>Tracheophyta</td>\n",
       "      <td>Magnoliopsida</td>\n",
       "      <td>Asterales</td>\n",
       "      <td>Asteraceae</td>\n",
       "      <td>Cichorium</td>\n",
       "      <td>Cichorium intybus</td>\n",
       "      <td>Cichorium intybus L.</td>\n",
       "      <td>11.0</td>\n",
       "      <td>7.0</td>\n",
       "      <td>2020.0</td>\n",
       "      <td>5392252</td>\n",
       "      <td>CC_BY_4_0</td>\n",
       "    </tr>\n",
       "    <tr>\n",
       "      <th>996</th>\n",
       "      <td>2330444745</td>\n",
       "      <td>6ac3f774-d9fb-4796-b3e9-92bf6c81c084</td>\n",
       "      <td>Plantae</td>\n",
       "      <td>Tracheophyta</td>\n",
       "      <td>Magnoliopsida</td>\n",
       "      <td>Caryophyllales</td>\n",
       "      <td>Amaranthaceae</td>\n",
       "      <td>Suaeda</td>\n",
       "      <td>Suaeda maritima</td>\n",
       "      <td>Suaeda maritima (L.) Dumort.</td>\n",
       "      <td>16.0</td>\n",
       "      <td>6.0</td>\n",
       "      <td>2018.0</td>\n",
       "      <td>3083541</td>\n",
       "      <td>CC_BY_4_0</td>\n",
       "    </tr>\n",
       "    <tr>\n",
       "      <th>997</th>\n",
       "      <td>2645522615</td>\n",
       "      <td>14d5676a-2c54-4f94-9023-1e8dcd822aa0</td>\n",
       "      <td>Plantae</td>\n",
       "      <td>Tracheophyta</td>\n",
       "      <td>Magnoliopsida</td>\n",
       "      <td>Boraginales</td>\n",
       "      <td>Boraginaceae</td>\n",
       "      <td>Echium</td>\n",
       "      <td>Echium vulgare</td>\n",
       "      <td>Echium vulgare L.</td>\n",
       "      <td>12.0</td>\n",
       "      <td>6.0</td>\n",
       "      <td>2019.0</td>\n",
       "      <td>2925892</td>\n",
       "      <td>CC_BY_4_0</td>\n",
       "    </tr>\n",
       "    <tr>\n",
       "      <th>998</th>\n",
       "      <td>2978323541</td>\n",
       "      <td>14d5676a-2c54-4f94-9023-1e8dcd822aa0</td>\n",
       "      <td>Plantae</td>\n",
       "      <td>Tracheophyta</td>\n",
       "      <td>Magnoliopsida</td>\n",
       "      <td>Ericales</td>\n",
       "      <td>Balsaminaceae</td>\n",
       "      <td>Impatiens</td>\n",
       "      <td>Impatiens glandulifera</td>\n",
       "      <td>Impatiens glandulifera Royle</td>\n",
       "      <td>4.0</td>\n",
       "      <td>9.0</td>\n",
       "      <td>2020.0</td>\n",
       "      <td>2891770</td>\n",
       "      <td>CC_BY_4_0</td>\n",
       "    </tr>\n",
       "    <tr>\n",
       "      <th>999</th>\n",
       "      <td>2329828502</td>\n",
       "      <td>6ac3f774-d9fb-4796-b3e9-92bf6c81c084</td>\n",
       "      <td>Plantae</td>\n",
       "      <td>Tracheophyta</td>\n",
       "      <td>Magnoliopsida</td>\n",
       "      <td>Fabales</td>\n",
       "      <td>Fabaceae</td>\n",
       "      <td>Robinia</td>\n",
       "      <td>Robinia pseudoacacia</td>\n",
       "      <td>Robinia pseudoacacia L.</td>\n",
       "      <td>30.0</td>\n",
       "      <td>6.0</td>\n",
       "      <td>2001.0</td>\n",
       "      <td>5352251</td>\n",
       "      <td>CC_BY_4_0</td>\n",
       "    </tr>\n",
       "  </tbody>\n",
       "</table>\n",
       "</div>"
      ],
      "text/plain": [
       "         gbifID                            datasetKey  kingdom        phylum  \\\n",
       "995  2974393296  7a3679ef-5582-4aaa-81f0-8c2545cafc81  Plantae  Tracheophyta   \n",
       "996  2330444745  6ac3f774-d9fb-4796-b3e9-92bf6c81c084  Plantae  Tracheophyta   \n",
       "997  2645522615  14d5676a-2c54-4f94-9023-1e8dcd822aa0  Plantae  Tracheophyta   \n",
       "998  2978323541  14d5676a-2c54-4f94-9023-1e8dcd822aa0  Plantae  Tracheophyta   \n",
       "999  2329828502  6ac3f774-d9fb-4796-b3e9-92bf6c81c084  Plantae  Tracheophyta   \n",
       "\n",
       "             class           order         family      genus  \\\n",
       "995  Magnoliopsida       Asterales     Asteraceae  Cichorium   \n",
       "996  Magnoliopsida  Caryophyllales  Amaranthaceae     Suaeda   \n",
       "997  Magnoliopsida     Boraginales   Boraginaceae     Echium   \n",
       "998  Magnoliopsida        Ericales  Balsaminaceae  Impatiens   \n",
       "999  Magnoliopsida         Fabales       Fabaceae    Robinia   \n",
       "\n",
       "                    species                scientificName   day  month  \\\n",
       "995       Cichorium intybus          Cichorium intybus L.  11.0    7.0   \n",
       "996         Suaeda maritima  Suaeda maritima (L.) Dumort.  16.0    6.0   \n",
       "997          Echium vulgare             Echium vulgare L.  12.0    6.0   \n",
       "998  Impatiens glandulifera  Impatiens glandulifera Royle   4.0    9.0   \n",
       "999    Robinia pseudoacacia       Robinia pseudoacacia L.  30.0    6.0   \n",
       "\n",
       "       year  taxonKey    license  \n",
       "995  2020.0   5392252  CC_BY_4_0  \n",
       "996  2018.0   3083541  CC_BY_4_0  \n",
       "997  2019.0   2925892  CC_BY_4_0  \n",
       "998  2020.0   2891770  CC_BY_4_0  \n",
       "999  2001.0   5352251  CC_BY_4_0  "
      ]
     },
     "execution_count": 8,
     "metadata": {},
     "output_type": "execute_result"
    }
   ],
   "source": [
    "metadata.tail(5)"
   ]
  },
  {
   "cell_type": "code",
   "execution_count": null,
   "id": "01fc03af",
   "metadata": {},
   "outputs": [],
   "source": []
  },
  {
   "cell_type": "code",
   "execution_count": 9,
   "id": "496e7530",
   "metadata": {},
   "outputs": [
    {
     "data": {
      "text/plain": [
       "0      3091677\n",
       "1      5392252\n",
       "2      4118973\n",
       "3      5384676\n",
       "4      7960979\n",
       "        ...   \n",
       "995    5392252\n",
       "996    3083541\n",
       "997    2925892\n",
       "998    2891770\n",
       "999    5352251\n",
       "Name: taxonKey, Length: 1000, dtype: int64"
      ]
     },
     "execution_count": 9,
     "metadata": {},
     "output_type": "execute_result"
    }
   ],
   "source": [
    "metadata['taxonKey']"
   ]
  },
  {
   "cell_type": "markdown",
   "id": "d9485fdc",
   "metadata": {},
   "source": [
    "# Image from taxonKey"
   ]
  },
  {
   "cell_type": "code",
   "execution_count": 10,
   "id": "efa53015",
   "metadata": {},
   "outputs": [
    {
     "data": {
      "text/html": [
       "<div>\n",
       "<style scoped>\n",
       "    .dataframe tbody tr th:only-of-type {\n",
       "        vertical-align: middle;\n",
       "    }\n",
       "\n",
       "    .dataframe tbody tr th {\n",
       "        vertical-align: top;\n",
       "    }\n",
       "\n",
       "    .dataframe thead th {\n",
       "        text-align: right;\n",
       "    }\n",
       "</style>\n",
       "<table border=\"1\" class=\"dataframe\">\n",
       "  <thead>\n",
       "    <tr style=\"text-align: right;\">\n",
       "      <th></th>\n",
       "      <th>gbifID</th>\n",
       "      <th>datasetKey</th>\n",
       "      <th>kingdom</th>\n",
       "      <th>phylum</th>\n",
       "      <th>class</th>\n",
       "      <th>order</th>\n",
       "      <th>family</th>\n",
       "      <th>genus</th>\n",
       "      <th>species</th>\n",
       "      <th>scientificName</th>\n",
       "      <th>day</th>\n",
       "      <th>month</th>\n",
       "      <th>year</th>\n",
       "      <th>taxonKey</th>\n",
       "      <th>license</th>\n",
       "    </tr>\n",
       "  </thead>\n",
       "  <tbody>\n",
       "    <tr>\n",
       "      <th>0</th>\n",
       "      <td>1668760846</td>\n",
       "      <td>6ac3f774-d9fb-4796-b3e9-92bf6c81c084</td>\n",
       "      <td>Plantae</td>\n",
       "      <td>Tracheophyta</td>\n",
       "      <td>Magnoliopsida</td>\n",
       "      <td>Asterales</td>\n",
       "      <td>Asteraceae</td>\n",
       "      <td>Galatella</td>\n",
       "      <td>Galatella linosyris</td>\n",
       "      <td>Galatella linosyris (L.) Rchb.fil.</td>\n",
       "      <td>25.0</td>\n",
       "      <td>9.0</td>\n",
       "      <td>2017.0</td>\n",
       "      <td>3091677</td>\n",
       "      <td>CC_BY_4_0</td>\n",
       "    </tr>\n",
       "  </tbody>\n",
       "</table>\n",
       "</div>"
      ],
      "text/plain": [
       "       gbifID                            datasetKey  kingdom        phylum  \\\n",
       "0  1668760846  6ac3f774-d9fb-4796-b3e9-92bf6c81c084  Plantae  Tracheophyta   \n",
       "\n",
       "           class      order      family      genus              species  \\\n",
       "0  Magnoliopsida  Asterales  Asteraceae  Galatella  Galatella linosyris   \n",
       "\n",
       "                       scientificName   day  month    year  taxonKey  \\\n",
       "0  Galatella linosyris (L.) Rchb.fil.  25.0    9.0  2017.0   3091677   \n",
       "\n",
       "     license  \n",
       "0  CC_BY_4_0  "
      ]
     },
     "execution_count": 10,
     "metadata": {},
     "output_type": "execute_result"
    }
   ],
   "source": [
    "metadata.loc[metadata['taxonKey'] == 3091677]"
   ]
  },
  {
   "cell_type": "code",
   "execution_count": 11,
   "id": "6a7a3407",
   "metadata": {},
   "outputs": [],
   "source": [
    "def species_name_from_taxonKey(taxonKey, metadata_df):\n",
    "    \n",
    "    pdseries = metadata_df.loc[metadata_df['taxonKey'] == taxonKey]['scientificName']\n",
    "    \n",
    "    return pdseries.iloc[0]\n",
    "    \n",
    "\n",
    "def image_from_taxonKey(taxonKey, metadata_df):\n",
    "    \n",
    "    species_name = species_name_from_taxonKey(taxonKey, metadata_df)\n",
    "    \n",
    "    google_Crawler = GoogleImageCrawler(storage = {'root_dir': r'output_image'})\n",
    "\n",
    "    google_Crawler.crawl(keyword = species_name, max_num = 1)"
   ]
  },
  {
   "cell_type": "code",
   "execution_count": 12,
   "id": "b0f0e9ef",
   "metadata": {},
   "outputs": [
    {
     "name": "stderr",
     "output_type": "stream",
     "text": [
      "2022-06-03 12:07:01,117 - INFO - icrawler.crawler - start crawling...\n",
      "2022-06-03 12:07:01,119 - INFO - icrawler.crawler - starting 1 feeder threads...\n",
      "2022-06-03 12:07:01,121 - INFO - feeder - thread feeder-001 exit\n",
      "2022-06-03 12:07:01,122 - INFO - icrawler.crawler - starting 1 parser threads...\n",
      "2022-06-03 12:07:01,125 - INFO - icrawler.crawler - starting 1 downloader threads...\n",
      "2022-06-03 12:07:02,052 - INFO - parser - parsing result page https://www.google.com/search?q=Echium+vulgare+L.&ijn=0&start=0&tbs=&tbm=isch\n",
      "2022-06-03 12:07:02,394 - ERROR - downloader - Response status code 404, file https://upload.wikimedia.org/wikipedia/commons/thumb/d/d4/Echium_vulgare_L.jpg\n",
      "2022-06-03 12:07:02,687 - INFO - downloader - image #1\thttps://www.infoflora.ch/assets/db_doc/taxa_images/2012/06/20/20120620003153-bd5b2f14.jpg\n",
      "2022-06-03 12:07:02,853 - INFO - downloader - downloaded images reach max num, thread downloader-001 is ready to exit\n",
      "2022-06-03 12:07:02,854 - INFO - downloader - thread downloader-001 exit\n",
      "2022-06-03 12:07:03,136 - INFO - icrawler.crawler - Crawling task done!\n"
     ]
    }
   ],
   "source": [
    "image_from_taxonKey(2925892 ,metadata)"
   ]
  },
  {
   "cell_type": "code",
   "execution_count": null,
   "id": "1863b15a",
   "metadata": {},
   "outputs": [],
   "source": []
  },
  {
   "cell_type": "code",
   "execution_count": null,
   "id": "004deb6d",
   "metadata": {},
   "outputs": [],
   "source": []
  },
  {
   "cell_type": "code",
   "execution_count": 13,
   "id": "dbee23ec",
   "metadata": {},
   "outputs": [],
   "source": [
    "#Standard\n",
    "\n",
    "import numpy as np\n",
    "import pandas as pd\n",
    "\n",
    "#API\n",
    "\n",
    "from icrawler.builtin import GoogleImageCrawler\n",
    "import requests\n",
    "\n",
    "\n",
    "\n",
    "# Returns species name from a taxonKey and metadata dataframe\n",
    "def species_name_from_taxonKey(taxonKey, metadata_df):\n",
    "\n",
    "    pdseries = metadata_df.loc[metadata_df['taxonKey'] == taxonKey]['scientificName']\n",
    "\n",
    "    return pdseries.iloc[0]\n",
    "\n",
    "# Returns image of species from a taxonKey and metadata dataframe\n",
    "def image_from_taxonKey(taxonKey, metadata_df):\n",
    "\n",
    "    species_name = species_name_from_taxonKey(taxonKey, metadata_df)\n",
    "\n",
    "    google_Crawler = GoogleImageCrawler(storage = {'root_dir': r'output_image'})\n",
    "\n",
    "    google_Crawler.crawl(keyword = species_name, max_num = 1)\n"
   ]
  },
  {
   "cell_type": "markdown",
   "id": "9c8344b9",
   "metadata": {},
   "source": [
    "# API"
   ]
  },
  {
   "cell_type": "code",
   "execution_count": 14,
   "id": "8771508e",
   "metadata": {},
   "outputs": [],
   "source": [
    "url = 'https://nominatim.openstreetmap.org/search?'\n",
    "params = {\"q\": 'Weserstrasse 18, 12045', \"format\": 'json'}\n",
    "response = requests.get(url, params= params).json()\n"
   ]
  },
  {
   "cell_type": "code",
   "execution_count": 15,
   "id": "a431edd5",
   "metadata": {},
   "outputs": [
    {
     "data": {
      "text/plain": [
       "[{'place_id': 40779572,\n",
       "  'licence': 'Data © OpenStreetMap contributors, ODbL 1.0. https://osm.org/copyright',\n",
       "  'osm_type': 'node',\n",
       "  'osm_id': 3167656567,\n",
       "  'boundingbox': ['52.4870931', '52.4871931', '13.4319591', '13.4320591'],\n",
       "  'lat': '52.4871431',\n",
       "  'lon': '13.4320091',\n",
       "  'display_name': '18, Weserstraße, Reuterkiez, Neukölln, Berlin, 12045, Deutschland',\n",
       "  'class': 'place',\n",
       "  'type': 'house',\n",
       "  'importance': 0.22100000000000003}]"
      ]
     },
     "execution_count": 15,
     "metadata": {},
     "output_type": "execute_result"
    }
   ],
   "source": [
    "response"
   ]
  },
  {
   "cell_type": "code",
   "execution_count": null,
   "id": "c1b4fc06",
   "metadata": {},
   "outputs": [],
   "source": []
  },
  {
   "cell_type": "markdown",
   "id": "8f02af57",
   "metadata": {},
   "source": [
    "# Import Model"
   ]
  },
  {
   "cell_type": "code",
   "execution_count": 22,
   "id": "b12ddc3f",
   "metadata": {},
   "outputs": [
    {
     "ename": "ImportError",
     "evalue": "cannot import name 'pickle_utils' from 'keras.saving' (/Users/samueldrewes/.pyenv/versions/lewagon/envs/the_best/lib/python3.8/site-packages/keras/saving/__init__.py)",
     "output_type": "error",
     "traceback": [
      "\u001b[0;31m---------------------------------------------------------------------------\u001b[0m",
      "\u001b[0;31mImportError\u001b[0m                               Traceback (most recent call last)",
      "\u001b[0;32m/var/folders/hk/rdjdftyd0877r286qh4d189c0000gn/T/ipykernel_13465/3356104061.py\u001b[0m in \u001b[0;36m<module>\u001b[0;34m\u001b[0m\n\u001b[1;32m     14\u001b[0m \u001b[0;32mfrom\u001b[0m \u001b[0mtensorflow\u001b[0m\u001b[0;34m.\u001b[0m\u001b[0mkeras\u001b[0m \u001b[0;32mimport\u001b[0m \u001b[0mlayers\u001b[0m\u001b[0;34m,\u001b[0m \u001b[0mSequential\u001b[0m\u001b[0;34m\u001b[0m\u001b[0;34m\u001b[0m\u001b[0m\n\u001b[1;32m     15\u001b[0m \u001b[0;34m\u001b[0m\u001b[0m\n\u001b[0;32m---> 16\u001b[0;31m \u001b[0;32mfrom\u001b[0m \u001b[0mkeras\u001b[0m\u001b[0;34m.\u001b[0m\u001b[0msaving\u001b[0m \u001b[0;32mimport\u001b[0m \u001b[0mpickle_utils\u001b[0m\u001b[0;34m\u001b[0m\u001b[0;34m\u001b[0m\u001b[0m\n\u001b[0m\u001b[1;32m     17\u001b[0m \u001b[0;34m\u001b[0m\u001b[0m\n\u001b[1;32m     18\u001b[0m \u001b[0;32mfrom\u001b[0m \u001b[0msklearn\u001b[0m\u001b[0;34m.\u001b[0m\u001b[0mmetrics\u001b[0m \u001b[0;32mimport\u001b[0m \u001b[0maccuracy_score\u001b[0m\u001b[0;34m\u001b[0m\u001b[0;34m\u001b[0m\u001b[0m\n",
      "\u001b[0;31mImportError\u001b[0m: cannot import name 'pickle_utils' from 'keras.saving' (/Users/samueldrewes/.pyenv/versions/lewagon/envs/the_best/lib/python3.8/site-packages/keras/saving/__init__.py)"
     ]
    }
   ],
   "source": [
    "import joblib\n",
    "\n",
    "\n",
    "# number stuff\n",
    "import pandas as pd\n",
    "import numpy as np\n",
    "\n",
    "# visualization\n",
    "import matplotlib.pyplot as plt\n",
    "import seaborn as sns\n",
    "\n",
    "# TF\n",
    "\n",
    "from tensorflow.keras import layers, Sequential\n",
    "\n",
    "from keras.saving import pickle_utils\n",
    "\n",
    "from sklearn.metrics import accuracy_score\n",
    "from sklearn.preprocessing import StandardScaler, MinMaxScaler, RobustScaler\n",
    "from sklearn.pipeline import Pipeline\n",
    "from sklearn.compose import ColumnTransformer\n",
    "\n",
    "from tensorflow.keras.models import Sequential\n",
    "\n",
    "from tensorflow.keras.layers import Dense,Dropout,Activation, Flatten, Conv2D, MaxPooling2D\n"
   ]
  },
  {
   "cell_type": "code",
   "execution_count": 23,
   "id": "94c202aa",
   "metadata": {},
   "outputs": [
    {
     "name": "stderr",
     "output_type": "stream",
     "text": [
      "/Users/samueldrewes/.pyenv/versions/lewagon/envs/the_best/lib/python3.8/site-packages/sklearn/base.py:329: UserWarning: Trying to unpickle estimator MinMaxScaler from version 1.1.1 when using version 1.0.2. This might lead to breaking code or invalid results. Use at your own risk. For more info please refer to:\n",
      "https://scikit-learn.org/stable/modules/model_persistence.html#security-maintainability-limitations\n",
      "  warnings.warn(\n",
      "/Users/samueldrewes/.pyenv/versions/lewagon/envs/the_best/lib/python3.8/site-packages/sklearn/base.py:329: UserWarning: Trying to unpickle estimator StandardScaler from version 1.1.1 when using version 1.0.2. This might lead to breaking code or invalid results. Use at your own risk. For more info please refer to:\n",
      "https://scikit-learn.org/stable/modules/model_persistence.html#security-maintainability-limitations\n",
      "  warnings.warn(\n",
      "/Users/samueldrewes/.pyenv/versions/lewagon/envs/the_best/lib/python3.8/site-packages/sklearn/base.py:329: UserWarning: Trying to unpickle estimator ColumnTransformer from version 1.1.1 when using version 1.0.2. This might lead to breaking code or invalid results. Use at your own risk. For more info please refer to:\n",
      "https://scikit-learn.org/stable/modules/model_persistence.html#security-maintainability-limitations\n",
      "  warnings.warn(\n"
     ]
    },
    {
     "ename": "ModuleNotFoundError",
     "evalue": "No module named 'keras.saving.pickle_utils'",
     "output_type": "error",
     "traceback": [
      "\u001b[0;31m---------------------------------------------------------------------------\u001b[0m",
      "\u001b[0;31mModuleNotFoundError\u001b[0m                       Traceback (most recent call last)",
      "\u001b[0;32m/var/folders/hk/rdjdftyd0877r286qh4d189c0000gn/T/ipykernel_13465/2001562268.py\u001b[0m in \u001b[0;36m<module>\u001b[0;34m\u001b[0m\n\u001b[0;32m----> 1\u001b[0;31m \u001b[0mloaded_model\u001b[0m \u001b[0;34m=\u001b[0m \u001b[0mjoblib\u001b[0m\u001b[0;34m.\u001b[0m\u001b[0mload\u001b[0m\u001b[0;34m(\u001b[0m\u001b[0;34m'../model.joblib'\u001b[0m\u001b[0;34m)\u001b[0m\u001b[0;34m\u001b[0m\u001b[0;34m\u001b[0m\u001b[0m\n\u001b[0m",
      "\u001b[0;32m~/.pyenv/versions/lewagon/envs/the_best/lib/python3.8/site-packages/joblib/numpy_pickle.py\u001b[0m in \u001b[0;36mload\u001b[0;34m(filename, mmap_mode)\u001b[0m\n\u001b[1;32m    583\u001b[0m                     \u001b[0;32mreturn\u001b[0m \u001b[0mload_compatibility\u001b[0m\u001b[0;34m(\u001b[0m\u001b[0mfobj\u001b[0m\u001b[0;34m)\u001b[0m\u001b[0;34m\u001b[0m\u001b[0;34m\u001b[0m\u001b[0m\n\u001b[1;32m    584\u001b[0m \u001b[0;34m\u001b[0m\u001b[0m\n\u001b[0;32m--> 585\u001b[0;31m                 \u001b[0mobj\u001b[0m \u001b[0;34m=\u001b[0m \u001b[0m_unpickle\u001b[0m\u001b[0;34m(\u001b[0m\u001b[0mfobj\u001b[0m\u001b[0;34m,\u001b[0m \u001b[0mfilename\u001b[0m\u001b[0;34m,\u001b[0m \u001b[0mmmap_mode\u001b[0m\u001b[0;34m)\u001b[0m\u001b[0;34m\u001b[0m\u001b[0;34m\u001b[0m\u001b[0m\n\u001b[0m\u001b[1;32m    586\u001b[0m     \u001b[0;32mreturn\u001b[0m \u001b[0mobj\u001b[0m\u001b[0;34m\u001b[0m\u001b[0;34m\u001b[0m\u001b[0m\n",
      "\u001b[0;32m~/.pyenv/versions/lewagon/envs/the_best/lib/python3.8/site-packages/joblib/numpy_pickle.py\u001b[0m in \u001b[0;36m_unpickle\u001b[0;34m(fobj, filename, mmap_mode)\u001b[0m\n\u001b[1;32m    502\u001b[0m     \u001b[0mobj\u001b[0m \u001b[0;34m=\u001b[0m \u001b[0;32mNone\u001b[0m\u001b[0;34m\u001b[0m\u001b[0;34m\u001b[0m\u001b[0m\n\u001b[1;32m    503\u001b[0m     \u001b[0;32mtry\u001b[0m\u001b[0;34m:\u001b[0m\u001b[0;34m\u001b[0m\u001b[0;34m\u001b[0m\u001b[0m\n\u001b[0;32m--> 504\u001b[0;31m         \u001b[0mobj\u001b[0m \u001b[0;34m=\u001b[0m \u001b[0munpickler\u001b[0m\u001b[0;34m.\u001b[0m\u001b[0mload\u001b[0m\u001b[0;34m(\u001b[0m\u001b[0;34m)\u001b[0m\u001b[0;34m\u001b[0m\u001b[0;34m\u001b[0m\u001b[0m\n\u001b[0m\u001b[1;32m    505\u001b[0m         \u001b[0;32mif\u001b[0m \u001b[0munpickler\u001b[0m\u001b[0;34m.\u001b[0m\u001b[0mcompat_mode\u001b[0m\u001b[0;34m:\u001b[0m\u001b[0;34m\u001b[0m\u001b[0;34m\u001b[0m\u001b[0m\n\u001b[1;32m    506\u001b[0m             warnings.warn(\"The file '%s' has been generated with a \"\n",
      "\u001b[0;32m~/.pyenv/versions/3.8.13/lib/python3.8/pickle.py\u001b[0m in \u001b[0;36mload\u001b[0;34m(self)\u001b[0m\n\u001b[1;32m   1210\u001b[0m                     \u001b[0;32mraise\u001b[0m \u001b[0mEOFError\u001b[0m\u001b[0;34m\u001b[0m\u001b[0;34m\u001b[0m\u001b[0m\n\u001b[1;32m   1211\u001b[0m                 \u001b[0;32massert\u001b[0m \u001b[0misinstance\u001b[0m\u001b[0;34m(\u001b[0m\u001b[0mkey\u001b[0m\u001b[0;34m,\u001b[0m \u001b[0mbytes_types\u001b[0m\u001b[0;34m)\u001b[0m\u001b[0;34m\u001b[0m\u001b[0;34m\u001b[0m\u001b[0m\n\u001b[0;32m-> 1212\u001b[0;31m                 \u001b[0mdispatch\u001b[0m\u001b[0;34m[\u001b[0m\u001b[0mkey\u001b[0m\u001b[0;34m[\u001b[0m\u001b[0;36m0\u001b[0m\u001b[0;34m]\u001b[0m\u001b[0;34m]\u001b[0m\u001b[0;34m(\u001b[0m\u001b[0mself\u001b[0m\u001b[0;34m)\u001b[0m\u001b[0;34m\u001b[0m\u001b[0;34m\u001b[0m\u001b[0m\n\u001b[0m\u001b[1;32m   1213\u001b[0m         \u001b[0;32mexcept\u001b[0m \u001b[0m_Stop\u001b[0m \u001b[0;32mas\u001b[0m \u001b[0mstopinst\u001b[0m\u001b[0;34m:\u001b[0m\u001b[0;34m\u001b[0m\u001b[0;34m\u001b[0m\u001b[0m\n\u001b[1;32m   1214\u001b[0m             \u001b[0;32mreturn\u001b[0m \u001b[0mstopinst\u001b[0m\u001b[0;34m.\u001b[0m\u001b[0mvalue\u001b[0m\u001b[0;34m\u001b[0m\u001b[0;34m\u001b[0m\u001b[0m\n",
      "\u001b[0;32m~/.pyenv/versions/3.8.13/lib/python3.8/pickle.py\u001b[0m in \u001b[0;36mload_stack_global\u001b[0;34m(self)\u001b[0m\n\u001b[1;32m   1535\u001b[0m         \u001b[0;32mif\u001b[0m \u001b[0mtype\u001b[0m\u001b[0;34m(\u001b[0m\u001b[0mname\u001b[0m\u001b[0;34m)\u001b[0m \u001b[0;32mis\u001b[0m \u001b[0;32mnot\u001b[0m \u001b[0mstr\u001b[0m \u001b[0;32mor\u001b[0m \u001b[0mtype\u001b[0m\u001b[0;34m(\u001b[0m\u001b[0mmodule\u001b[0m\u001b[0;34m)\u001b[0m \u001b[0;32mis\u001b[0m \u001b[0;32mnot\u001b[0m \u001b[0mstr\u001b[0m\u001b[0;34m:\u001b[0m\u001b[0;34m\u001b[0m\u001b[0;34m\u001b[0m\u001b[0m\n\u001b[1;32m   1536\u001b[0m             \u001b[0;32mraise\u001b[0m \u001b[0mUnpicklingError\u001b[0m\u001b[0;34m(\u001b[0m\u001b[0;34m\"STACK_GLOBAL requires str\"\u001b[0m\u001b[0;34m)\u001b[0m\u001b[0;34m\u001b[0m\u001b[0;34m\u001b[0m\u001b[0m\n\u001b[0;32m-> 1537\u001b[0;31m         \u001b[0mself\u001b[0m\u001b[0;34m.\u001b[0m\u001b[0mappend\u001b[0m\u001b[0;34m(\u001b[0m\u001b[0mself\u001b[0m\u001b[0;34m.\u001b[0m\u001b[0mfind_class\u001b[0m\u001b[0;34m(\u001b[0m\u001b[0mmodule\u001b[0m\u001b[0;34m,\u001b[0m \u001b[0mname\u001b[0m\u001b[0;34m)\u001b[0m\u001b[0;34m)\u001b[0m\u001b[0;34m\u001b[0m\u001b[0;34m\u001b[0m\u001b[0m\n\u001b[0m\u001b[1;32m   1538\u001b[0m     \u001b[0mdispatch\u001b[0m\u001b[0;34m[\u001b[0m\u001b[0mSTACK_GLOBAL\u001b[0m\u001b[0;34m[\u001b[0m\u001b[0;36m0\u001b[0m\u001b[0;34m]\u001b[0m\u001b[0;34m]\u001b[0m \u001b[0;34m=\u001b[0m \u001b[0mload_stack_global\u001b[0m\u001b[0;34m\u001b[0m\u001b[0;34m\u001b[0m\u001b[0m\n\u001b[1;32m   1539\u001b[0m \u001b[0;34m\u001b[0m\u001b[0m\n",
      "\u001b[0;32m~/.pyenv/versions/3.8.13/lib/python3.8/pickle.py\u001b[0m in \u001b[0;36mfind_class\u001b[0;34m(self, module, name)\u001b[0m\n\u001b[1;32m   1577\u001b[0m             \u001b[0;32melif\u001b[0m \u001b[0mmodule\u001b[0m \u001b[0;32min\u001b[0m \u001b[0m_compat_pickle\u001b[0m\u001b[0;34m.\u001b[0m\u001b[0mIMPORT_MAPPING\u001b[0m\u001b[0;34m:\u001b[0m\u001b[0;34m\u001b[0m\u001b[0;34m\u001b[0m\u001b[0m\n\u001b[1;32m   1578\u001b[0m                 \u001b[0mmodule\u001b[0m \u001b[0;34m=\u001b[0m \u001b[0m_compat_pickle\u001b[0m\u001b[0;34m.\u001b[0m\u001b[0mIMPORT_MAPPING\u001b[0m\u001b[0;34m[\u001b[0m\u001b[0mmodule\u001b[0m\u001b[0;34m]\u001b[0m\u001b[0;34m\u001b[0m\u001b[0;34m\u001b[0m\u001b[0m\n\u001b[0;32m-> 1579\u001b[0;31m         \u001b[0m__import__\u001b[0m\u001b[0;34m(\u001b[0m\u001b[0mmodule\u001b[0m\u001b[0;34m,\u001b[0m \u001b[0mlevel\u001b[0m\u001b[0;34m=\u001b[0m\u001b[0;36m0\u001b[0m\u001b[0;34m)\u001b[0m\u001b[0;34m\u001b[0m\u001b[0;34m\u001b[0m\u001b[0m\n\u001b[0m\u001b[1;32m   1580\u001b[0m         \u001b[0;32mif\u001b[0m \u001b[0mself\u001b[0m\u001b[0;34m.\u001b[0m\u001b[0mproto\u001b[0m \u001b[0;34m>=\u001b[0m \u001b[0;36m4\u001b[0m\u001b[0;34m:\u001b[0m\u001b[0;34m\u001b[0m\u001b[0;34m\u001b[0m\u001b[0m\n\u001b[1;32m   1581\u001b[0m             \u001b[0;32mreturn\u001b[0m \u001b[0m_getattribute\u001b[0m\u001b[0;34m(\u001b[0m\u001b[0msys\u001b[0m\u001b[0;34m.\u001b[0m\u001b[0mmodules\u001b[0m\u001b[0;34m[\u001b[0m\u001b[0mmodule\u001b[0m\u001b[0;34m]\u001b[0m\u001b[0;34m,\u001b[0m \u001b[0mname\u001b[0m\u001b[0;34m)\u001b[0m\u001b[0;34m[\u001b[0m\u001b[0;36m0\u001b[0m\u001b[0;34m]\u001b[0m\u001b[0;34m\u001b[0m\u001b[0;34m\u001b[0m\u001b[0m\n",
      "\u001b[0;31mModuleNotFoundError\u001b[0m: No module named 'keras.saving.pickle_utils'"
     ]
    }
   ],
   "source": [
    "loaded_model = joblib.load('../model.joblib')"
   ]
  },
  {
   "cell_type": "code",
   "execution_count": null,
   "id": "884cd237",
   "metadata": {},
   "outputs": [],
   "source": [
    "loaded"
   ]
  },
  {
   "cell_type": "code",
   "execution_count": null,
   "id": "42348e55",
   "metadata": {},
   "outputs": [],
   "source": []
  }
 ],
 "metadata": {
  "kernelspec": {
   "display_name": "Python 3 (ipykernel)",
   "language": "python",
   "name": "python3"
  },
  "language_info": {
   "codemirror_mode": {
    "name": "ipython",
    "version": 3
   },
   "file_extension": ".py",
   "mimetype": "text/x-python",
   "name": "python",
   "nbconvert_exporter": "python",
   "pygments_lexer": "ipython3",
   "version": "3.8.13"
  },
  "toc": {
   "base_numbering": 1,
   "nav_menu": {},
   "number_sections": true,
   "sideBar": true,
   "skip_h1_title": false,
   "title_cell": "Table of Contents",
   "title_sidebar": "Contents",
   "toc_cell": false,
   "toc_position": {},
   "toc_section_display": true,
   "toc_window_display": false
  },
  "varInspector": {
   "cols": {
    "lenName": 16,
    "lenType": 16,
    "lenVar": 40
   },
   "kernels_config": {
    "python": {
     "delete_cmd_postfix": "",
     "delete_cmd_prefix": "del ",
     "library": "var_list.py",
     "varRefreshCmd": "print(var_dic_list())"
    },
    "r": {
     "delete_cmd_postfix": ") ",
     "delete_cmd_prefix": "rm(",
     "library": "var_list.r",
     "varRefreshCmd": "cat(var_dic_list()) "
    }
   },
   "types_to_exclude": [
    "module",
    "function",
    "builtin_function_or_method",
    "instance",
    "_Feature"
   ],
   "window_display": false
  }
 },
 "nbformat": 4,
 "nbformat_minor": 5
}
