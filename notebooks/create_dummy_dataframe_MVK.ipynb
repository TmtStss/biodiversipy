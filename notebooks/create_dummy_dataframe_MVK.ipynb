{
 "cells": [
  {
   "cell_type": "code",
   "execution_count": 1,
   "id": "b551cc03",
   "metadata": {},
   "outputs": [],
   "source": [
    "import biodiversipy\n",
    "import pandas as pd"
   ]
  },
  {
   "cell_type": "code",
   "execution_count": 2,
   "id": "40b72715",
   "metadata": {},
   "outputs": [
    {
     "name": "stdout",
     "output_type": "stream",
     "text": [
      "/Users/mikkelvaldemarkoch/code/MikkelValdemar/biodiversipy/notebooks\r\n"
     ]
    }
   ],
   "source": [
    "!pwd"
   ]
  },
  {
   "cell_type": "code",
   "execution_count": 11,
   "id": "ed2904b8",
   "metadata": {},
   "outputs": [],
   "source": [
    "def mask_fn(data, coords):\n",
    "    mask = (data['lat_lower'] >= coords['lat_lower']) & \\\n",
    "           (data['lat_upper'] <= coords['lat_upper']) & \\\n",
    "           (data['lon_lower'] >= coords['lon_lower']) & \\\n",
    "           (data['lon_upper'] <= coords['lon_upper'])\n",
    "\n",
    "    data = data[mask]\n",
    "    return data"
   ]
  },
  {
   "cell_type": "code",
   "execution_count": 26,
   "id": "80f697b1",
   "metadata": {},
   "outputs": [],
   "source": [
    "lon_low, lat_low, lon_up, lat_up = (12.4665964426,52.1457991475,14.3566136029,52.8269473878)"
   ]
  },
  {
   "cell_type": "code",
   "execution_count": 31,
   "id": "b6a3e777",
   "metadata": {},
   "outputs": [],
   "source": [
    "coords_subset = {\n",
    "    'lat_lower': lat_low,\n",
    "    'lat_upper': lat_up, \n",
    "    'lon_lower': lon_low,\n",
    "    'lon_upper': lon_up\n",
    "}"
   ]
  },
  {
   "cell_type": "code",
   "execution_count": 32,
   "id": "c69f06dc",
   "metadata": {},
   "outputs": [
    {
     "data": {
      "text/plain": [
       "{'lat_lower': 52.1457991475,\n",
       " 'lat_upper': 52.8269473878,\n",
       " 'lon_lower': 12.4665964426,\n",
       " 'lon_upper': 14.3566136029}"
      ]
     },
     "execution_count": 32,
     "metadata": {},
     "output_type": "execute_result"
    }
   ],
   "source": [
    "coords_subset"
   ]
  },
  {
   "cell_type": "code",
   "execution_count": 39,
   "id": "b515fe2b",
   "metadata": {},
   "outputs": [],
   "source": [
    "# Save gee\n",
    "gee = pd.read_csv('../raw_data/output/features/USGS_SRTMGL1_003_germany.csv')\n",
    "gee_subset = mask_fn(gee, coords_subset)\n",
    "gee_subset.to_csv('../raw_data/output/features/dummies/USGS_SRTMGL1_003_germany.csv', index=False)"
   ]
  },
  {
   "cell_type": "code",
   "execution_count": 41,
   "id": "61fd37e7",
   "metadata": {},
   "outputs": [],
   "source": [
    "# Save soilgrid\n",
    "soil = pd.read_csv('../raw_data/output/features/soilgrid_tiffs_germany.csv')\n",
    "soil_subset = mask_fn(soil, coords_subset)\n",
    "soil_subset.to_csv('../raw_data/output/features/dummies/soilgrid_tiffs_germany.csv', index=False)"
   ]
  },
  {
   "cell_type": "code",
   "execution_count": 42,
   "id": "405b6435",
   "metadata": {},
   "outputs": [],
   "source": [
    "# Save worldclim\n",
    "wc = pd.read_csv('../raw_data/output/features/wc2.1_30s_bio_germany.csv')\n",
    "wc_subset = mask_fn(wc, coords_subset)\n",
    "wc_subset.to_csv('../raw_data/output/features/dummies/wc2.1_30s_bio_germany.csv', index=False)"
   ]
  },
  {
   "cell_type": "code",
   "execution_count": 36,
   "id": "5381617f",
   "metadata": {},
   "outputs": [],
   "source": [
    "tmp = pd.read_csv('../raw_data/output/features/dummies/USGS_SRTMGL1_003_germany.csv')"
   ]
  },
  {
   "cell_type": "code",
   "execution_count": 44,
   "id": "ec201e9c",
   "metadata": {},
   "outputs": [
    {
     "data": {
      "text/html": [
       "<div>\n",
       "<style scoped>\n",
       "    .dataframe tbody tr th:only-of-type {\n",
       "        vertical-align: middle;\n",
       "    }\n",
       "\n",
       "    .dataframe tbody tr th {\n",
       "        vertical-align: top;\n",
       "    }\n",
       "\n",
       "    .dataframe thead th {\n",
       "        text-align: right;\n",
       "    }\n",
       "</style>\n",
       "<table border=\"1\" class=\"dataframe\">\n",
       "  <thead>\n",
       "    <tr style=\"text-align: right;\">\n",
       "      <th></th>\n",
       "      <th>lon_lower</th>\n",
       "      <th>lon_upper</th>\n",
       "      <th>lat_lower</th>\n",
       "      <th>lat_upper</th>\n",
       "      <th>elevation</th>\n",
       "      <th>slope</th>\n",
       "    </tr>\n",
       "  </thead>\n",
       "  <tbody>\n",
       "    <tr>\n",
       "      <th>65177907</th>\n",
       "      <td>12.467055</td>\n",
       "      <td>12.467953</td>\n",
       "      <td>52.825744</td>\n",
       "      <td>52.826642</td>\n",
       "      <td>39</td>\n",
       "      <td>2.688196</td>\n",
       "    </tr>\n",
       "    <tr>\n",
       "      <th>65177908</th>\n",
       "      <td>12.467055</td>\n",
       "      <td>12.467953</td>\n",
       "      <td>52.824846</td>\n",
       "      <td>52.825744</td>\n",
       "      <td>41</td>\n",
       "      <td>1.603082</td>\n",
       "    </tr>\n",
       "    <tr>\n",
       "      <th>65177909</th>\n",
       "      <td>12.467055</td>\n",
       "      <td>12.467953</td>\n",
       "      <td>52.823947</td>\n",
       "      <td>52.824846</td>\n",
       "      <td>37</td>\n",
       "      <td>1.203670</td>\n",
       "    </tr>\n",
       "    <tr>\n",
       "      <th>65177910</th>\n",
       "      <td>12.467055</td>\n",
       "      <td>12.467953</td>\n",
       "      <td>52.823049</td>\n",
       "      <td>52.823947</td>\n",
       "      <td>43</td>\n",
       "      <td>3.331941</td>\n",
       "    </tr>\n",
       "    <tr>\n",
       "      <th>65177911</th>\n",
       "      <td>12.467055</td>\n",
       "      <td>12.467953</td>\n",
       "      <td>52.822151</td>\n",
       "      <td>52.823049</td>\n",
       "      <td>45</td>\n",
       "      <td>0.463735</td>\n",
       "    </tr>\n",
       "    <tr>\n",
       "      <th>...</th>\n",
       "      <td>...</td>\n",
       "      <td>...</td>\n",
       "      <td>...</td>\n",
       "      <td>...</td>\n",
       "      <td>...</td>\n",
       "      <td>...</td>\n",
       "    </tr>\n",
       "    <tr>\n",
       "      <th>83894867</th>\n",
       "      <td>14.355314</td>\n",
       "      <td>14.356212</td>\n",
       "      <td>52.150211</td>\n",
       "      <td>52.151109</td>\n",
       "      <td>72</td>\n",
       "      <td>2.765778</td>\n",
       "    </tr>\n",
       "    <tr>\n",
       "      <th>83894868</th>\n",
       "      <td>14.355314</td>\n",
       "      <td>14.356212</td>\n",
       "      <td>52.149312</td>\n",
       "      <td>52.150211</td>\n",
       "      <td>74</td>\n",
       "      <td>2.002226</td>\n",
       "    </tr>\n",
       "    <tr>\n",
       "      <th>83894869</th>\n",
       "      <td>14.355314</td>\n",
       "      <td>14.356212</td>\n",
       "      <td>52.148414</td>\n",
       "      <td>52.149312</td>\n",
       "      <td>73</td>\n",
       "      <td>3.163312</td>\n",
       "    </tr>\n",
       "    <tr>\n",
       "      <th>83894870</th>\n",
       "      <td>14.355314</td>\n",
       "      <td>14.356212</td>\n",
       "      <td>52.147516</td>\n",
       "      <td>52.148414</td>\n",
       "      <td>77</td>\n",
       "      <td>3.704792</td>\n",
       "    </tr>\n",
       "    <tr>\n",
       "      <th>83894871</th>\n",
       "      <td>14.355314</td>\n",
       "      <td>14.356212</td>\n",
       "      <td>52.146618</td>\n",
       "      <td>52.147516</td>\n",
       "      <td>78</td>\n",
       "      <td>1.772800</td>\n",
       "    </tr>\n",
       "  </tbody>\n",
       "</table>\n",
       "<p>1591971 rows × 6 columns</p>\n",
       "</div>"
      ],
      "text/plain": [
       "          lon_lower  lon_upper  lat_lower  lat_upper  elevation     slope\n",
       "65177907  12.467055  12.467953  52.825744  52.826642         39  2.688196\n",
       "65177908  12.467055  12.467953  52.824846  52.825744         41  1.603082\n",
       "65177909  12.467055  12.467953  52.823947  52.824846         37  1.203670\n",
       "65177910  12.467055  12.467953  52.823049  52.823947         43  3.331941\n",
       "65177911  12.467055  12.467953  52.822151  52.823049         45  0.463735\n",
       "...             ...        ...        ...        ...        ...       ...\n",
       "83894867  14.355314  14.356212  52.150211  52.151109         72  2.765778\n",
       "83894868  14.355314  14.356212  52.149312  52.150211         74  2.002226\n",
       "83894869  14.355314  14.356212  52.148414  52.149312         73  3.163312\n",
       "83894870  14.355314  14.356212  52.147516  52.148414         77  3.704792\n",
       "83894871  14.355314  14.356212  52.146618  52.147516         78  1.772800\n",
       "\n",
       "[1591971 rows x 6 columns]"
      ]
     },
     "execution_count": 44,
     "metadata": {},
     "output_type": "execute_result"
    }
   ],
   "source": [
    "gee_subset"
   ]
  },
  {
   "cell_type": "code",
   "execution_count": null,
   "id": "ca757ff6",
   "metadata": {},
   "outputs": [],
   "source": [
    "gee_subset"
   ]
  }
 ],
 "metadata": {
  "kernelspec": {
   "display_name": "Python 3 (ipykernel)",
   "language": "python",
   "name": "python3"
  },
  "language_info": {
   "codemirror_mode": {
    "name": "ipython",
    "version": 3
   },
   "file_extension": ".py",
   "mimetype": "text/x-python",
   "name": "python",
   "nbconvert_exporter": "python",
   "pygments_lexer": "ipython3",
   "version": "3.8.12"
  },
  "toc": {
   "base_numbering": 1,
   "nav_menu": {},
   "number_sections": true,
   "sideBar": true,
   "skip_h1_title": false,
   "title_cell": "Table of Contents",
   "title_sidebar": "Contents",
   "toc_cell": false,
   "toc_position": {},
   "toc_section_display": true,
   "toc_window_display": false
  }
 },
 "nbformat": 4,
 "nbformat_minor": 5
}
