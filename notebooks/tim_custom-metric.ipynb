{
 "cells": [
  {
   "cell_type": "markdown",
   "id": "ec9f2580",
   "metadata": {},
   "source": [
    "# Custom top-K accuracy metric"
   ]
  },
  {
   "cell_type": "code",
   "execution_count": 1,
   "id": "47134d32",
   "metadata": {},
   "outputs": [],
   "source": [
    "import pandas as pd\n",
    "import numpy as np\n",
    "import matplotlib.pyplot as plt"
   ]
  },
  {
   "cell_type": "code",
   "execution_count": 2,
   "id": "e57518be",
   "metadata": {},
   "outputs": [],
   "source": [
    "y_pred = pd.DataFrame([[0.3, 0.29, 0.41],\n",
    "                      [0.31, 0.59, 0.1],\n",
    "                      [0.0, 0.6, 0.4],\n",
    "                      [0.42, 0.48, 0.1],\n",
    "                      [0.4, 0.3, 0.3]],\n",
    "                      columns = [\"tree\", \"grass\", \"flower\"])\n",
    "y_true = pd.DataFrame([[0, 0, 1],\n",
    "                      [0, 1, 0],\n",
    "                      [0, 1, 1],\n",
    "                      [1, 1, 0],\n",
    "                      [1, 1, 1]],\n",
    "                      columns = [\"tree\", \"grass\", \"flower\"])"
   ]
  },
  {
   "cell_type": "code",
   "execution_count": 3,
   "id": "3b10fe64",
   "metadata": {},
   "outputs": [],
   "source": [
    "assert y_true.shape == y_pred.shape\n",
    "N, C = y_true.shape"
   ]
  },
  {
   "cell_type": "code",
   "execution_count": 4,
   "id": "244d5994",
   "metadata": {},
   "outputs": [
    {
     "data": {
      "text/html": [
       "<div>\n",
       "<style scoped>\n",
       "    .dataframe tbody tr th:only-of-type {\n",
       "        vertical-align: middle;\n",
       "    }\n",
       "\n",
       "    .dataframe tbody tr th {\n",
       "        vertical-align: top;\n",
       "    }\n",
       "\n",
       "    .dataframe thead th {\n",
       "        text-align: right;\n",
       "    }\n",
       "</style>\n",
       "<table border=\"1\" class=\"dataframe\">\n",
       "  <thead>\n",
       "    <tr style=\"text-align: right;\">\n",
       "      <th></th>\n",
       "      <th>tree</th>\n",
       "      <th>grass</th>\n",
       "      <th>flower</th>\n",
       "    </tr>\n",
       "  </thead>\n",
       "  <tbody>\n",
       "    <tr>\n",
       "      <th>0</th>\n",
       "      <td>0</td>\n",
       "      <td>0</td>\n",
       "      <td>1</td>\n",
       "    </tr>\n",
       "    <tr>\n",
       "      <th>1</th>\n",
       "      <td>0</td>\n",
       "      <td>1</td>\n",
       "      <td>0</td>\n",
       "    </tr>\n",
       "    <tr>\n",
       "      <th>2</th>\n",
       "      <td>0</td>\n",
       "      <td>1</td>\n",
       "      <td>1</td>\n",
       "    </tr>\n",
       "    <tr>\n",
       "      <th>3</th>\n",
       "      <td>1</td>\n",
       "      <td>1</td>\n",
       "      <td>0</td>\n",
       "    </tr>\n",
       "    <tr>\n",
       "      <th>4</th>\n",
       "      <td>1</td>\n",
       "      <td>1</td>\n",
       "      <td>1</td>\n",
       "    </tr>\n",
       "  </tbody>\n",
       "</table>\n",
       "</div>"
      ],
      "text/plain": [
       "   tree  grass  flower\n",
       "0     0      0       1\n",
       "1     0      1       0\n",
       "2     0      1       1\n",
       "3     1      1       0\n",
       "4     1      1       1"
      ]
     },
     "execution_count": 4,
     "metadata": {},
     "output_type": "execute_result"
    }
   ],
   "source": [
    "y_true"
   ]
  },
  {
   "cell_type": "markdown",
   "id": "94aa572c",
   "metadata": {},
   "source": [
    "## Get the s-scores"
   ]
  },
  {
   "cell_type": "code",
   "execution_count": 5,
   "id": "1bbb096a",
   "metadata": {},
   "outputs": [
    {
     "data": {
      "text/html": [
       "<div>\n",
       "<style scoped>\n",
       "    .dataframe tbody tr th:only-of-type {\n",
       "        vertical-align: middle;\n",
       "    }\n",
       "\n",
       "    .dataframe tbody tr th {\n",
       "        vertical-align: top;\n",
       "    }\n",
       "\n",
       "    .dataframe thead th {\n",
       "        text-align: right;\n",
       "    }\n",
       "</style>\n",
       "<table border=\"1\" class=\"dataframe\">\n",
       "  <thead>\n",
       "    <tr style=\"text-align: right;\">\n",
       "      <th></th>\n",
       "      <th>tree</th>\n",
       "      <th>grass</th>\n",
       "      <th>flower</th>\n",
       "    </tr>\n",
       "  </thead>\n",
       "  <tbody>\n",
       "    <tr>\n",
       "      <th>0</th>\n",
       "      <td>0.30</td>\n",
       "      <td>0.29</td>\n",
       "      <td>0.41</td>\n",
       "    </tr>\n",
       "    <tr>\n",
       "      <th>1</th>\n",
       "      <td>0.31</td>\n",
       "      <td>0.59</td>\n",
       "      <td>0.10</td>\n",
       "    </tr>\n",
       "    <tr>\n",
       "      <th>2</th>\n",
       "      <td>0.00</td>\n",
       "      <td>0.60</td>\n",
       "      <td>0.40</td>\n",
       "    </tr>\n",
       "    <tr>\n",
       "      <th>3</th>\n",
       "      <td>0.42</td>\n",
       "      <td>0.48</td>\n",
       "      <td>0.10</td>\n",
       "    </tr>\n",
       "    <tr>\n",
       "      <th>4</th>\n",
       "      <td>0.40</td>\n",
       "      <td>0.30</td>\n",
       "      <td>0.30</td>\n",
       "    </tr>\n",
       "  </tbody>\n",
       "</table>\n",
       "</div>"
      ],
      "text/plain": [
       "   tree  grass  flower\n",
       "0  0.30   0.29    0.41\n",
       "1  0.31   0.59    0.10\n",
       "2  0.00   0.60    0.40\n",
       "3  0.42   0.48    0.10\n",
       "4  0.40   0.30    0.30"
      ]
     },
     "execution_count": 5,
     "metadata": {},
     "output_type": "execute_result"
    }
   ],
   "source": [
    "y_pred"
   ]
  },
  {
   "cell_type": "markdown",
   "id": "84a0fc88",
   "metadata": {},
   "source": [
    "## Get the d-scores"
   ]
  },
  {
   "cell_type": "code",
   "execution_count": 6,
   "id": "2b3f4406",
   "metadata": {
    "scrolled": true
   },
   "outputs": [
    {
     "data": {
      "text/html": [
       "<div>\n",
       "<style scoped>\n",
       "    .dataframe tbody tr th:only-of-type {\n",
       "        vertical-align: middle;\n",
       "    }\n",
       "\n",
       "    .dataframe tbody tr th {\n",
       "        vertical-align: top;\n",
       "    }\n",
       "\n",
       "    .dataframe thead th {\n",
       "        text-align: right;\n",
       "    }\n",
       "</style>\n",
       "<table border=\"1\" class=\"dataframe\">\n",
       "  <thead>\n",
       "    <tr style=\"text-align: right;\">\n",
       "      <th></th>\n",
       "      <th>tree</th>\n",
       "      <th>grass</th>\n",
       "      <th>flower</th>\n",
       "    </tr>\n",
       "  </thead>\n",
       "  <tbody>\n",
       "    <tr>\n",
       "      <th>0</th>\n",
       "      <td>0</td>\n",
       "      <td>0</td>\n",
       "      <td>1</td>\n",
       "    </tr>\n",
       "    <tr>\n",
       "      <th>1</th>\n",
       "      <td>0</td>\n",
       "      <td>1</td>\n",
       "      <td>0</td>\n",
       "    </tr>\n",
       "    <tr>\n",
       "      <th>2</th>\n",
       "      <td>0</td>\n",
       "      <td>1</td>\n",
       "      <td>1</td>\n",
       "    </tr>\n",
       "    <tr>\n",
       "      <th>3</th>\n",
       "      <td>1</td>\n",
       "      <td>1</td>\n",
       "      <td>0</td>\n",
       "    </tr>\n",
       "    <tr>\n",
       "      <th>4</th>\n",
       "      <td>1</td>\n",
       "      <td>1</td>\n",
       "      <td>1</td>\n",
       "    </tr>\n",
       "  </tbody>\n",
       "</table>\n",
       "</div>"
      ],
      "text/plain": [
       "   tree  grass  flower\n",
       "0     0      0       1\n",
       "1     0      1       0\n",
       "2     0      1       1\n",
       "3     1      1       0\n",
       "4     1      1       1"
      ]
     },
     "execution_count": 6,
     "metadata": {},
     "output_type": "execute_result"
    }
   ],
   "source": [
    "t = 0.3\n",
    "temp = y_pred[y_true == 1].applymap(lambda x: 1 if x >= t else 0)\n",
    "temp"
   ]
  },
  {
   "cell_type": "markdown",
   "id": "19ae5da6",
   "metadata": {},
   "source": [
    "## Calculate the average number of correctly predicted species for a given threshold"
   ]
  },
  {
   "cell_type": "code",
   "execution_count": 7,
   "id": "94e4aafd",
   "metadata": {},
   "outputs": [
    {
     "data": {
      "text/plain": [
       "1.8"
      ]
     },
     "execution_count": 7,
     "metadata": {},
     "output_type": "execute_result"
    }
   ],
   "source": [
    "average = temp.values.sum()/N\n",
    "average"
   ]
  },
  {
   "cell_type": "code",
   "execution_count": 8,
   "id": "52a1f592",
   "metadata": {},
   "outputs": [
    {
     "name": "stdout",
     "output_type": "stream",
     "text": [
      "\n"
     ]
    },
    {
     "data": {
      "text/plain": [
       "<matplotlib.collections.PathCollection at 0x7f4535a0fa90>"
      ]
     },
     "execution_count": 8,
     "metadata": {},
     "output_type": "execute_result"
    },
    {
     "data": {
      "image/png": "[encoded data removed]",
      "text/plain": [
       "<Figure size 432x288 with 1 Axes>"
      ]
     },
     "metadata": {
      "needs_background": "light"
     },
     "output_type": "display_data"
    }
   ],
   "source": [
    "thresholds = []\n",
    "averages = []\n",
    "for x in np.arange(0.1, 0.9, 0.01):\n",
    "    t = round(x,2)\n",
    "    temp = y_pred[y_true == 1].applymap(lambda x: 1 if x >= t else 0)\n",
    "    average = temp.values.sum()/N\n",
    "    thresholds.append(t)\n",
    "    averages.append(average)\n",
    "\n",
    "print()\n",
    "plt.scatter(thresholds, averages)"
   ]
  },
  {
   "cell_type": "markdown",
   "id": "78bfe19b",
   "metadata": {},
   "source": [
    "## Find minimum threshold given K value"
   ]
  },
  {
   "cell_type": "code",
   "execution_count": 9,
   "id": "a4b2617f",
   "metadata": {},
   "outputs": [
    {
     "data": {
      "text/plain": [
       "0.41"
      ]
     },
     "execution_count": 9,
     "metadata": {},
     "output_type": "execute_result"
    }
   ],
   "source": [
    "K = 1\n",
    "index = min([index for index, value in enumerate(averages) if value <= K])\n",
    "t_min = thresholds[index]\n",
    "t_min"
   ]
  },
  {
   "cell_type": "markdown",
   "id": "019236f6",
   "metadata": {},
   "source": [
    "## Turning this into functions"
   ]
  },
  {
   "cell_type": "code",
   "execution_count": 10,
   "id": "6c2803ea",
   "metadata": {},
   "outputs": [],
   "source": [
    "def compute_average(y_true, y_pred, t):\n",
    "    N, C = y_pred.shape\n",
    "    temp = y_pred[y_true == 1].applymap(lambda x: 1 if x >= t else 0)\n",
    "    average = temp.values.sum()/N\n",
    "    return average\n",
    "\n",
    "def find_t_min(y_true, y_pred, K, rate, t):\n",
    "    average = compute_average(y_true, y_pred, t)\n",
    "    while average <= K:\n",
    "        t = rate*t\n",
    "        average = compute_average(y_true, y_pred, t)\n",
    "    t_min = t/rate\n",
    "    average = compute_average(y_true, y_pred, t_min)\n",
    "    return t_min, average\n",
    "\n",
    "def compute_accuracy(y_true, y_pred, t_min):\n",
    "    N, C = y_pred.shape\n",
    "    temp = y_pred[y_true == 1].applymap(lambda x: 1 if x >= t_min else 0)\n",
    "    return temp.values.sum()/(N*C)\n",
    "\n",
    "def custom_metric(y_true, y_pred, K, rate, t):\n",
    "    t_min, average = find_t_min(y_true, y_pred, K, rate, t)\n",
    "    accuracy = compute_accuracy(y_true, y_pred, t_min)\n",
    "    return t_min, average, accuracy   "
   ]
  },
  {
   "cell_type": "code",
   "execution_count": 11,
   "id": "732f5e3d",
   "metadata": {},
   "outputs": [
    {
     "data": {
      "text/plain": [
       "0.0"
      ]
     },
     "execution_count": 11,
     "metadata": {},
     "output_type": "execute_result"
    }
   ],
   "source": [
    "compute_average(y_true, y_pred, t = 0.7)"
   ]
  },
  {
   "cell_type": "code",
   "execution_count": 12,
   "id": "3ae4a147",
   "metadata": {},
   "outputs": [
    {
     "data": {
      "text/plain": [
       "(0.4028778642734252, 1.0)"
      ]
     },
     "execution_count": 12,
     "metadata": {},
     "output_type": "execute_result"
    }
   ],
   "source": [
    "find_t_min(y_true, y_pred, K = 1, rate = 0.98, t = 1)"
   ]
  },
  {
   "cell_type": "markdown",
   "id": "103f6937",
   "metadata": {},
   "source": [
    "## Test running on dummy y_pred, y_true"
   ]
  },
  {
   "cell_type": "code",
   "execution_count": 13,
   "id": "e9402a67",
   "metadata": {},
   "outputs": [
    {
     "name": "stdout",
     "output_type": "stream",
     "text": [
      "CPU times: user 101 ms, sys: 0 ns, total: 101 ms\n",
      "Wall time: 95.1 ms\n"
     ]
    },
    {
     "data": {
      "text/plain": [
       "(0.4028778642734252, 1.0, 0.3333333333333333)"
      ]
     },
     "execution_count": 13,
     "metadata": {},
     "output_type": "execute_result"
    }
   ],
   "source": [
    "%%time\n",
    "\n",
    "t_min, average = find_t_min(y_true, y_pred, K = 1, rate = 0.98, t = 1)\n",
    "accuracy = compute_accuracy(y_true, y_pred, t_min)\n",
    "t_min, average, accuracy"
   ]
  },
  {
   "cell_type": "code",
   "execution_count": 14,
   "id": "72fe8ae0",
   "metadata": {},
   "outputs": [
    {
     "name": "stdout",
     "output_type": "stream",
     "text": [
      "CPU times: user 98.2 ms, sys: 9.59 ms, total: 108 ms\n",
      "Wall time: 98.8 ms\n"
     ]
    },
    {
     "data": {
      "text/plain": [
       "(0.4028778642734252, 1.0, 0.3333333333333333)"
      ]
     },
     "execution_count": 14,
     "metadata": {},
     "output_type": "execute_result"
    }
   ],
   "source": [
    "%%time\n",
    "\n",
    "t_min, average, accuracy = custom_metric(y_true, y_pred, K = 1, rate = 0.98, t = 1)\n",
    "t_min, average, accuracy"
   ]
  }
 ],
 "metadata": {
  "kernelspec": {
   "display_name": "Python 3 (ipykernel)",
   "language": "python",
   "name": "python3"
  },
  "language_info": {
   "codemirror_mode": {
    "name": "ipython",
    "version": 3
   },
   "file_extension": ".py",
   "mimetype": "text/x-python",
   "name": "python",
   "nbconvert_exporter": "python",
   "pygments_lexer": "ipython3",
   "version": "3.8.12"
  },
  "toc": {
   "base_numbering": 1,
   "nav_menu": {},
   "number_sections": false,
   "sideBar": true,
   "skip_h1_title": false,
   "title_cell": "Table of Contents",
   "title_sidebar": "Contents",
   "toc_cell": false,
   "toc_position": {
    "height": "calc(100% - 180px)",
    "left": "10px",
    "top": "150px",
    "width": "165px"
   },
   "toc_section_display": true,
   "toc_window_display": true
  }
 },
 "nbformat": 4,
 "nbformat_minor": 5
}
