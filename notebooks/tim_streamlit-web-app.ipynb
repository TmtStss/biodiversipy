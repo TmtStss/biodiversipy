{
 "cells": [
  {
   "cell_type": "markdown",
   "id": "9203cd3b",
   "metadata": {},
   "source": [
    "# Streamlit Web-App Sandbox"
   ]
  },
  {
   "cell_type": "code",
   "execution_count": 1,
   "id": "6a163551",
   "metadata": {},
   "outputs": [],
   "source": [
    "import pandas as pd\n",
    "import numpy as np\n",
    "import requests"
   ]
  },
  {
   "cell_type": "code",
   "execution_count": 13,
   "id": "0df0e56f",
   "metadata": {},
   "outputs": [],
   "source": [
    "location = \"Rue du Culot, 2 1341 0ttignies\""
   ]
  },
  {
   "cell_type": "code",
   "execution_count": 16,
   "id": "6ef50c43",
   "metadata": {},
   "outputs": [
    {
     "name": "stdout",
     "output_type": "stream",
     "text": [
      "[]\n"
     ]
    },
    {
     "ename": "TypeError",
     "evalue": "list indices must be integers or slices, not str",
     "output_type": "error",
     "traceback": [
      "\u001b[0;31m---------------------------------------------------------------------------\u001b[0m",
      "\u001b[0;31mTypeError\u001b[0m                                 Traceback (most recent call last)",
      "Input \u001b[0;32mIn [16]\u001b[0m, in \u001b[0;36m<cell line: 8>\u001b[0;34m()\u001b[0m\n\u001b[1;32m      4\u001b[0m response \u001b[38;5;241m=\u001b[39m requests\u001b[38;5;241m.\u001b[39mget(url, params\u001b[38;5;241m=\u001b[39m params)\u001b[38;5;241m.\u001b[39mjson()\n\u001b[1;32m      6\u001b[0m \u001b[38;5;28mprint\u001b[39m(response)\n\u001b[0;32m----> 8\u001b[0m latitude \u001b[38;5;241m=\u001b[39m \u001b[43mresponse\u001b[49m\u001b[43m[\u001b[49m\u001b[38;5;124;43m'\u001b[39;49m\u001b[38;5;124;43mlat\u001b[39;49m\u001b[38;5;124;43m'\u001b[39;49m\u001b[43m]\u001b[49m\n\u001b[1;32m      9\u001b[0m longitude \u001b[38;5;241m=\u001b[39m response[\u001b[38;5;124m'\u001b[39m\u001b[38;5;124mlon\u001b[39m\u001b[38;5;124m'\u001b[39m]\n\u001b[1;32m     10\u001b[0m latitude, longitude\n",
      "\u001b[0;31mTypeError\u001b[0m: list indices must be integers or slices, not str"
     ]
    }
   ],
   "source": [
    "url = 'https://nominatim.openstreetmap.org/search?'\n",
    "params = {\"q\": location,\n",
    "         \"format\": 'json'}\n",
    "response = requests.get(url, params= params).json()\n",
    "\n",
    "print(response)"
   ]
  },
  {
   "cell_type": "code",
   "execution_count": null,
   "id": "b66acb01",
   "metadata": {},
   "outputs": [],
   "source": [
    "latitude = response['lat']\n",
    "longitude = response['lon']\n",
    "latitude, longitude"
   ]
  },
  {
   "cell_type": "code",
   "execution_count": null,
   "id": "1ae0eeef",
   "metadata": {},
   "outputs": [],
   "source": [
    "# Import Nominatim from geocoders of geopy module using the import keyword \n",
    "from geopy.geocoders import Nominatim\n",
    "# Create an object for Nominatim() class by passing some random user_agent as an argument to it.\n",
    "# Here user_agent is the app name to which it is provides services.\n",
    "location = Nominatim(user_agent= \"GetLocationdetails\")\n",
    "# Pass some random location to the geocode() function and apply it on the above location(Nominatim)\n",
    "# Here it gives geopy.location.Location object which contains the address and the coordinate\n",
    "Locationinfo = location.geocode(\"Mumbai Maharastra\")\n",
    "# Get the address of the above given location using the address attribute\n",
    "print(\"Address = \", Locationinfo.address)\n",
    "# Get the latitude of the above given location using the latitude attribute\n",
    "print(\"Latitude = \", Locationinfo.latitude)\n",
    "# Get the longitude of the above given location using the longitude attribute\n",
    "print(\"Longitude = \", Locationinfo.longitude)\n",
    "# Get the altitude of the above given location using the altitude attribute\n",
    "print(\"Altitude = \", Locationinfo.altitude)"
   ]
  }
 ],
 "metadata": {
  "kernelspec": {
   "display_name": "Python 3 (ipykernel)",
   "language": "python",
   "name": "python3"
  },
  "language_info": {
   "codemirror_mode": {
    "name": "ipython",
    "version": 3
   },
   "file_extension": ".py",
   "mimetype": "text/x-python",
   "name": "python",
   "nbconvert_exporter": "python",
   "pygments_lexer": "ipython3",
   "version": "3.8.12"
  },
  "toc": {
   "base_numbering": 1,
   "nav_menu": {},
   "number_sections": false,
   "sideBar": true,
   "skip_h1_title": false,
   "title_cell": "Table of Contents",
   "title_sidebar": "Contents",
   "toc_cell": false,
   "toc_position": {},
   "toc_section_display": true,
   "toc_window_display": true
  }
 },
 "nbformat": 4,
 "nbformat_minor": 5
}
