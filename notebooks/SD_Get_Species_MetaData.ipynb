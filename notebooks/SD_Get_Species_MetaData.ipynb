{
 "cells": [
  {
   "cell_type": "code",
   "execution_count": 1,
   "id": "58be0c3a",
   "metadata": {},
   "outputs": [
    {
     "name": "stdout",
     "output_type": "stream",
     "text": [
      "Requirement already satisfied: icrawler in /Users/samueldrewes/.pyenv/versions/3.8.13/envs/lewagon/envs/the_best/lib/python3.8/site-packages (0.6.6)\n",
      "Requirement already satisfied: six>=1.10.0 in /Users/samueldrewes/.pyenv/versions/3.8.13/envs/lewagon/envs/the_best/lib/python3.8/site-packages (from icrawler) (1.15.0)\n",
      "Requirement already satisfied: Pillow in /Users/samueldrewes/.pyenv/versions/3.8.13/envs/lewagon/envs/the_best/lib/python3.8/site-packages (from icrawler) (9.0.0)\n",
      "Requirement already satisfied: requests>=2.9.1 in /Users/samueldrewes/.pyenv/versions/3.8.13/envs/lewagon/envs/the_best/lib/python3.8/site-packages (from icrawler) (2.27.1)\n",
      "Requirement already satisfied: beautifulsoup4>=4.4.1 in /Users/samueldrewes/.pyenv/versions/3.8.13/envs/lewagon/envs/the_best/lib/python3.8/site-packages (from icrawler) (4.10.0)\n",
      "Requirement already satisfied: lxml in /Users/samueldrewes/.pyenv/versions/3.8.13/envs/lewagon/envs/the_best/lib/python3.8/site-packages (from icrawler) (4.7.1)\n",
      "Requirement already satisfied: soupsieve>1.2 in /Users/samueldrewes/.pyenv/versions/3.8.13/envs/lewagon/envs/the_best/lib/python3.8/site-packages (from beautifulsoup4>=4.4.1->icrawler) (2.3.1)\n",
      "Requirement already satisfied: urllib3<1.27,>=1.21.1 in /Users/samueldrewes/.pyenv/versions/3.8.13/envs/lewagon/envs/the_best/lib/python3.8/site-packages (from requests>=2.9.1->icrawler) (1.26.7)\n",
      "Requirement already satisfied: idna<4,>=2.5 in /Users/samueldrewes/.pyenv/versions/3.8.13/envs/lewagon/envs/the_best/lib/python3.8/site-packages (from requests>=2.9.1->icrawler) (3.3)\n",
      "Requirement already satisfied: certifi>=2017.4.17 in /Users/samueldrewes/.pyenv/versions/3.8.13/envs/lewagon/envs/the_best/lib/python3.8/site-packages (from requests>=2.9.1->icrawler) (2021.10.8)\n",
      "Requirement already satisfied: charset-normalizer~=2.0.0 in /Users/samueldrewes/.pyenv/versions/3.8.13/envs/lewagon/envs/the_best/lib/python3.8/site-packages (from requests>=2.9.1->icrawler) (2.0.10)\n",
      "\u001b[33mWARNING: You are using pip version 22.0.4; however, version 22.1.2 is available.\n",
      "You should consider upgrading via the '/Users/samueldrewes/.pyenv/versions/lewagon/envs/the_best/bin/python3 -m pip install --upgrade pip' command.\u001b[0m\u001b[33m\n",
      "\u001b[0m"
     ]
    }
   ],
   "source": [
    "!pip install icrawler\n"
   ]
  },
  {
   "cell_type": "code",
   "execution_count": 2,
   "id": "fab75969",
   "metadata": {},
   "outputs": [],
   "source": [
    "from icrawler.builtin import GoogleImageCrawler\n"
   ]
  },
  {
   "cell_type": "code",
   "execution_count": 3,
   "id": "3df89f39",
   "metadata": {},
   "outputs": [
    {
     "name": "stdout",
     "output_type": "stream",
     "text": [
      "Requirement already satisfied: pyjanitor in /Users/samueldrewes/.pyenv/versions/3.8.13/envs/lewagon/envs/the_best/lib/python3.8/site-packages (0.23.1)\n",
      "Requirement already satisfied: multipledispatch in /Users/samueldrewes/.pyenv/versions/3.8.13/envs/lewagon/envs/the_best/lib/python3.8/site-packages (from pyjanitor) (0.6.0)\n",
      "Requirement already satisfied: natsort in /Users/samueldrewes/.pyenv/versions/3.8.13/envs/lewagon/envs/the_best/lib/python3.8/site-packages (from pyjanitor) (8.1.0)\n",
      "Requirement already satisfied: scipy in /Users/samueldrewes/.pyenv/versions/3.8.13/envs/lewagon/envs/the_best/lib/python3.8/site-packages (from pyjanitor) (1.7.3)\n",
      "Requirement already satisfied: pandas-flavor in /Users/samueldrewes/.pyenv/versions/3.8.13/envs/lewagon/envs/the_best/lib/python3.8/site-packages (from pyjanitor) (0.3.0)\n",
      "Requirement already satisfied: six in /Users/samueldrewes/.pyenv/versions/3.8.13/envs/lewagon/envs/the_best/lib/python3.8/site-packages (from multipledispatch->pyjanitor) (1.15.0)\n",
      "Requirement already satisfied: pandas>=0.23 in /Users/samueldrewes/.pyenv/versions/3.8.13/envs/lewagon/envs/the_best/lib/python3.8/site-packages (from pandas-flavor->pyjanitor) (1.3.5)\n",
      "Requirement already satisfied: lazy-loader==0.1rc2 in /Users/samueldrewes/.pyenv/versions/3.8.13/envs/lewagon/envs/the_best/lib/python3.8/site-packages (from pandas-flavor->pyjanitor) (0.1rc2)\n",
      "Requirement already satisfied: xarray in /Users/samueldrewes/.pyenv/versions/3.8.13/envs/lewagon/envs/the_best/lib/python3.8/site-packages (from pandas-flavor->pyjanitor) (2022.3.0)\n",
      "Requirement already satisfied: numpy<1.23.0,>=1.16.5 in /Users/samueldrewes/.pyenv/versions/3.8.13/envs/lewagon/envs/the_best/lib/python3.8/site-packages (from scipy->pyjanitor) (1.19.5)\n",
      "Requirement already satisfied: pytz>=2017.3 in /Users/samueldrewes/.pyenv/versions/3.8.13/envs/lewagon/envs/the_best/lib/python3.8/site-packages (from pandas>=0.23->pandas-flavor->pyjanitor) (2021.3)\n",
      "Requirement already satisfied: python-dateutil>=2.7.3 in /Users/samueldrewes/.pyenv/versions/3.8.13/envs/lewagon/envs/the_best/lib/python3.8/site-packages (from pandas>=0.23->pandas-flavor->pyjanitor) (2.8.2)\n",
      "Requirement already satisfied: packaging>=20.0 in /Users/samueldrewes/.pyenv/versions/3.8.13/envs/lewagon/envs/the_best/lib/python3.8/site-packages (from xarray->pandas-flavor->pyjanitor) (21.3)\n",
      "Requirement already satisfied: pyparsing!=3.0.5,>=2.0.2 in /Users/samueldrewes/.pyenv/versions/3.8.13/envs/lewagon/envs/the_best/lib/python3.8/site-packages (from packaging>=20.0->xarray->pandas-flavor->pyjanitor) (3.0.6)\n",
      "\u001b[33mWARNING: You are using pip version 22.0.4; however, version 22.1.2 is available.\n",
      "You should consider upgrading via the '/Users/samueldrewes/.pyenv/versions/lewagon/envs/the_best/bin/python3 -m pip install --upgrade pip' command.\u001b[0m\u001b[33m\n",
      "\u001b[0mNote: you may need to restart the kernel to use updated packages.\n"
     ]
    }
   ],
   "source": [
    "pip install pyjanitor"
   ]
  },
  {
   "cell_type": "code",
   "execution_count": 4,
   "id": "2a7e9313",
   "metadata": {},
   "outputs": [],
   "source": [
    "import requests\n",
    "import janitor"
   ]
  },
  {
   "cell_type": "code",
   "execution_count": 5,
   "id": "3877adfe",
   "metadata": {},
   "outputs": [],
   "source": [
    "data_sources = {\n",
    "    'worldclim': {\n",
    "        'id': 'wc2.1_30s_bio',\n",
    "        'name': 'worldclim',\n",
    "        'file_sort_fn': lambda f: int(''.join(filter(str.isdigit, f))),\n",
    "        'column_name_extractor': lambda file: re.findall('bio_\\d+', file)[0],\n",
    "    },\n",
    "    'gee': {\n",
    "        'id': 'USGS_SRTMGL1_003',\n",
    "        'name': 'gee',\n",
    "        'file_sort_fn': None,\n",
    "        'column_name_extractor': lambda file: re.findall('germany_(\\w+).tif', file)[0],\n",
    "    },\n",
    "    'soilgrids': {\n",
    "        'id': 'soilgrid_tiffs',\n",
    "        'name': 'soilgrids',\n",
    "        'file_sort_fn': None,\n",
    "        'column_name_extractor': lambda file: re.findall('(^.*)(?=_mean\\.tif)', file)[0]\n",
    "    }\n",
    "}"
   ]
  },
  {
   "cell_type": "code",
   "execution_count": 6,
   "id": "e82ea16a",
   "metadata": {},
   "outputs": [],
   "source": [
    "\n",
    "from random import random\n",
    "import numpy as np\n",
    "import pandas as pd\n",
    "import matplotlib.pyplot as plt\n",
    "import os\n",
    "from os import path\n",
    "from time import time\n",
    "from sklearn.feature_extraction.text import CountVectorizer\n"
   ]
  },
  {
   "cell_type": "code",
   "execution_count": 7,
   "id": "8f8c5811",
   "metadata": {},
   "outputs": [],
   "source": [
    "\n",
    "# number stuff\n",
    "import pandas as pd\n",
    "import numpy as np\n",
    "\n",
    "# visualization\n",
    "import matplotlib.pyplot as plt\n",
    "import seaborn as sns"
   ]
  },
  {
   "cell_type": "code",
   "execution_count": 8,
   "id": "ca77316a",
   "metadata": {},
   "outputs": [
    {
     "name": "stdout",
     "output_type": "stream",
     "text": [
      "/Users/samueldrewes/code/ElCheckler/biodiversipy/notebooks\r\n"
     ]
    }
   ],
   "source": [
    "!pwd"
   ]
  },
  {
   "cell_type": "code",
   "execution_count": 9,
   "id": "eb23b404",
   "metadata": {},
   "outputs": [],
   "source": [
    "sample_taxonKey = 3091677"
   ]
  },
  {
   "cell_type": "code",
   "execution_count": 10,
   "id": "fd45e21f",
   "metadata": {},
   "outputs": [],
   "source": [
    "metadata = pd.read_csv('../raw_data/Experiment_data/metadata_1000.csv')"
   ]
  },
  {
   "cell_type": "code",
   "execution_count": 11,
   "id": "0fd297c3",
   "metadata": {},
   "outputs": [
    {
     "data": {
      "text/html": [
       "<div>\n",
       "<style scoped>\n",
       "    .dataframe tbody tr th:only-of-type {\n",
       "        vertical-align: middle;\n",
       "    }\n",
       "\n",
       "    .dataframe tbody tr th {\n",
       "        vertical-align: top;\n",
       "    }\n",
       "\n",
       "    .dataframe thead th {\n",
       "        text-align: right;\n",
       "    }\n",
       "</style>\n",
       "<table border=\"1\" class=\"dataframe\">\n",
       "  <thead>\n",
       "    <tr style=\"text-align: right;\">\n",
       "      <th></th>\n",
       "      <th>gbifID</th>\n",
       "      <th>datasetKey</th>\n",
       "      <th>kingdom</th>\n",
       "      <th>phylum</th>\n",
       "      <th>class</th>\n",
       "      <th>order</th>\n",
       "      <th>family</th>\n",
       "      <th>genus</th>\n",
       "      <th>species</th>\n",
       "      <th>scientificName</th>\n",
       "      <th>day</th>\n",
       "      <th>month</th>\n",
       "      <th>year</th>\n",
       "      <th>taxonKey</th>\n",
       "      <th>license</th>\n",
       "    </tr>\n",
       "  </thead>\n",
       "  <tbody>\n",
       "    <tr>\n",
       "      <th>995</th>\n",
       "      <td>2974393296</td>\n",
       "      <td>7a3679ef-5582-4aaa-81f0-8c2545cafc81</td>\n",
       "      <td>Plantae</td>\n",
       "      <td>Tracheophyta</td>\n",
       "      <td>Magnoliopsida</td>\n",
       "      <td>Asterales</td>\n",
       "      <td>Asteraceae</td>\n",
       "      <td>Cichorium</td>\n",
       "      <td>Cichorium intybus</td>\n",
       "      <td>Cichorium intybus L.</td>\n",
       "      <td>11.0</td>\n",
       "      <td>7.0</td>\n",
       "      <td>2020.0</td>\n",
       "      <td>5392252</td>\n",
       "      <td>CC_BY_4_0</td>\n",
       "    </tr>\n",
       "    <tr>\n",
       "      <th>996</th>\n",
       "      <td>2330444745</td>\n",
       "      <td>6ac3f774-d9fb-4796-b3e9-92bf6c81c084</td>\n",
       "      <td>Plantae</td>\n",
       "      <td>Tracheophyta</td>\n",
       "      <td>Magnoliopsida</td>\n",
       "      <td>Caryophyllales</td>\n",
       "      <td>Amaranthaceae</td>\n",
       "      <td>Suaeda</td>\n",
       "      <td>Suaeda maritima</td>\n",
       "      <td>Suaeda maritima (L.) Dumort.</td>\n",
       "      <td>16.0</td>\n",
       "      <td>6.0</td>\n",
       "      <td>2018.0</td>\n",
       "      <td>3083541</td>\n",
       "      <td>CC_BY_4_0</td>\n",
       "    </tr>\n",
       "    <tr>\n",
       "      <th>997</th>\n",
       "      <td>2645522615</td>\n",
       "      <td>14d5676a-2c54-4f94-9023-1e8dcd822aa0</td>\n",
       "      <td>Plantae</td>\n",
       "      <td>Tracheophyta</td>\n",
       "      <td>Magnoliopsida</td>\n",
       "      <td>Boraginales</td>\n",
       "      <td>Boraginaceae</td>\n",
       "      <td>Echium</td>\n",
       "      <td>Echium vulgare</td>\n",
       "      <td>Echium vulgare L.</td>\n",
       "      <td>12.0</td>\n",
       "      <td>6.0</td>\n",
       "      <td>2019.0</td>\n",
       "      <td>2925892</td>\n",
       "      <td>CC_BY_4_0</td>\n",
       "    </tr>\n",
       "    <tr>\n",
       "      <th>998</th>\n",
       "      <td>2978323541</td>\n",
       "      <td>14d5676a-2c54-4f94-9023-1e8dcd822aa0</td>\n",
       "      <td>Plantae</td>\n",
       "      <td>Tracheophyta</td>\n",
       "      <td>Magnoliopsida</td>\n",
       "      <td>Ericales</td>\n",
       "      <td>Balsaminaceae</td>\n",
       "      <td>Impatiens</td>\n",
       "      <td>Impatiens glandulifera</td>\n",
       "      <td>Impatiens glandulifera Royle</td>\n",
       "      <td>4.0</td>\n",
       "      <td>9.0</td>\n",
       "      <td>2020.0</td>\n",
       "      <td>2891770</td>\n",
       "      <td>CC_BY_4_0</td>\n",
       "    </tr>\n",
       "    <tr>\n",
       "      <th>999</th>\n",
       "      <td>2329828502</td>\n",
       "      <td>6ac3f774-d9fb-4796-b3e9-92bf6c81c084</td>\n",
       "      <td>Plantae</td>\n",
       "      <td>Tracheophyta</td>\n",
       "      <td>Magnoliopsida</td>\n",
       "      <td>Fabales</td>\n",
       "      <td>Fabaceae</td>\n",
       "      <td>Robinia</td>\n",
       "      <td>Robinia pseudoacacia</td>\n",
       "      <td>Robinia pseudoacacia L.</td>\n",
       "      <td>30.0</td>\n",
       "      <td>6.0</td>\n",
       "      <td>2001.0</td>\n",
       "      <td>5352251</td>\n",
       "      <td>CC_BY_4_0</td>\n",
       "    </tr>\n",
       "  </tbody>\n",
       "</table>\n",
       "</div>"
      ],
      "text/plain": [
       "         gbifID                            datasetKey  kingdom        phylum  \\\n",
       "995  2974393296  7a3679ef-5582-4aaa-81f0-8c2545cafc81  Plantae  Tracheophyta   \n",
       "996  2330444745  6ac3f774-d9fb-4796-b3e9-92bf6c81c084  Plantae  Tracheophyta   \n",
       "997  2645522615  14d5676a-2c54-4f94-9023-1e8dcd822aa0  Plantae  Tracheophyta   \n",
       "998  2978323541  14d5676a-2c54-4f94-9023-1e8dcd822aa0  Plantae  Tracheophyta   \n",
       "999  2329828502  6ac3f774-d9fb-4796-b3e9-92bf6c81c084  Plantae  Tracheophyta   \n",
       "\n",
       "             class           order         family      genus  \\\n",
       "995  Magnoliopsida       Asterales     Asteraceae  Cichorium   \n",
       "996  Magnoliopsida  Caryophyllales  Amaranthaceae     Suaeda   \n",
       "997  Magnoliopsida     Boraginales   Boraginaceae     Echium   \n",
       "998  Magnoliopsida        Ericales  Balsaminaceae  Impatiens   \n",
       "999  Magnoliopsida         Fabales       Fabaceae    Robinia   \n",
       "\n",
       "                    species                scientificName   day  month  \\\n",
       "995       Cichorium intybus          Cichorium intybus L.  11.0    7.0   \n",
       "996         Suaeda maritima  Suaeda maritima (L.) Dumort.  16.0    6.0   \n",
       "997          Echium vulgare             Echium vulgare L.  12.0    6.0   \n",
       "998  Impatiens glandulifera  Impatiens glandulifera Royle   4.0    9.0   \n",
       "999    Robinia pseudoacacia       Robinia pseudoacacia L.  30.0    6.0   \n",
       "\n",
       "       year  taxonKey    license  \n",
       "995  2020.0   5392252  CC_BY_4_0  \n",
       "996  2018.0   3083541  CC_BY_4_0  \n",
       "997  2019.0   2925892  CC_BY_4_0  \n",
       "998  2020.0   2891770  CC_BY_4_0  \n",
       "999  2001.0   5352251  CC_BY_4_0  "
      ]
     },
     "execution_count": 11,
     "metadata": {},
     "output_type": "execute_result"
    }
   ],
   "source": [
    "metadata.tail(5)"
   ]
  },
  {
   "cell_type": "code",
   "execution_count": null,
   "id": "3f139dd8",
   "metadata": {},
   "outputs": [],
   "source": []
  },
  {
   "cell_type": "code",
   "execution_count": 12,
   "id": "53af30bd",
   "metadata": {},
   "outputs": [
    {
     "data": {
      "text/plain": [
       "0      3091677\n",
       "1      5392252\n",
       "2      4118973\n",
       "3      5384676\n",
       "4      7960979\n",
       "        ...   \n",
       "995    5392252\n",
       "996    3083541\n",
       "997    2925892\n",
       "998    2891770\n",
       "999    5352251\n",
       "Name: taxonKey, Length: 1000, dtype: int64"
      ]
     },
     "execution_count": 12,
     "metadata": {},
     "output_type": "execute_result"
    }
   ],
   "source": [
    "metadata['taxonKey']"
   ]
  },
  {
   "cell_type": "markdown",
   "id": "59db1667",
   "metadata": {},
   "source": [
    "# Image from taxonKey"
   ]
  },
  {
   "cell_type": "code",
   "execution_count": 13,
   "id": "3a068c73",
   "metadata": {},
   "outputs": [
    {
     "data": {
      "text/html": [
       "<div>\n",
       "<style scoped>\n",
       "    .dataframe tbody tr th:only-of-type {\n",
       "        vertical-align: middle;\n",
       "    }\n",
       "\n",
       "    .dataframe tbody tr th {\n",
       "        vertical-align: top;\n",
       "    }\n",
       "\n",
       "    .dataframe thead th {\n",
       "        text-align: right;\n",
       "    }\n",
       "</style>\n",
       "<table border=\"1\" class=\"dataframe\">\n",
       "  <thead>\n",
       "    <tr style=\"text-align: right;\">\n",
       "      <th></th>\n",
       "      <th>gbifID</th>\n",
       "      <th>datasetKey</th>\n",
       "      <th>kingdom</th>\n",
       "      <th>phylum</th>\n",
       "      <th>class</th>\n",
       "      <th>order</th>\n",
       "      <th>family</th>\n",
       "      <th>genus</th>\n",
       "      <th>species</th>\n",
       "      <th>scientificName</th>\n",
       "      <th>day</th>\n",
       "      <th>month</th>\n",
       "      <th>year</th>\n",
       "      <th>taxonKey</th>\n",
       "      <th>license</th>\n",
       "    </tr>\n",
       "  </thead>\n",
       "  <tbody>\n",
       "    <tr>\n",
       "      <th>0</th>\n",
       "      <td>1668760846</td>\n",
       "      <td>6ac3f774-d9fb-4796-b3e9-92bf6c81c084</td>\n",
       "      <td>Plantae</td>\n",
       "      <td>Tracheophyta</td>\n",
       "      <td>Magnoliopsida</td>\n",
       "      <td>Asterales</td>\n",
       "      <td>Asteraceae</td>\n",
       "      <td>Galatella</td>\n",
       "      <td>Galatella linosyris</td>\n",
       "      <td>Galatella linosyris (L.) Rchb.fil.</td>\n",
       "      <td>25.0</td>\n",
       "      <td>9.0</td>\n",
       "      <td>2017.0</td>\n",
       "      <td>3091677</td>\n",
       "      <td>CC_BY_4_0</td>\n",
       "    </tr>\n",
       "  </tbody>\n",
       "</table>\n",
       "</div>"
      ],
      "text/plain": [
       "       gbifID                            datasetKey  kingdom        phylum  \\\n",
       "0  1668760846  6ac3f774-d9fb-4796-b3e9-92bf6c81c084  Plantae  Tracheophyta   \n",
       "\n",
       "           class      order      family      genus              species  \\\n",
       "0  Magnoliopsida  Asterales  Asteraceae  Galatella  Galatella linosyris   \n",
       "\n",
       "                       scientificName   day  month    year  taxonKey  \\\n",
       "0  Galatella linosyris (L.) Rchb.fil.  25.0    9.0  2017.0   3091677   \n",
       "\n",
       "     license  \n",
       "0  CC_BY_4_0  "
      ]
     },
     "execution_count": 13,
     "metadata": {},
     "output_type": "execute_result"
    }
   ],
   "source": [
    "metadata.loc[metadata['taxonKey'] == 3091677]"
   ]
  },
  {
   "cell_type": "code",
   "execution_count": 67,
   "id": "1d28bb29",
   "metadata": {},
   "outputs": [],
   "source": [
    "ran_tok = int(metadata.sample(1)['taxonKey'])"
   ]
  },
  {
   "cell_type": "code",
   "execution_count": 68,
   "id": "c016f20e",
   "metadata": {},
   "outputs": [
    {
     "data": {
      "text/plain": [
       "7972010"
      ]
     },
     "execution_count": 68,
     "metadata": {},
     "output_type": "execute_result"
    }
   ],
   "source": [
    "ran_tok"
   ]
  },
  {
   "cell_type": "code",
   "execution_count": 14,
   "id": "73be6872",
   "metadata": {},
   "outputs": [],
   "source": [
    "def species_name_from_taxonKey(taxonKey, metadata_df):\n",
    "    \n",
    "    pdseries = metadata_df.loc[metadata_df['taxonKey'] == taxonKey]['scientificName']\n",
    "    \n",
    "    return pdseries.iloc[0]\n",
    "    \n",
    "\n",
    "def image_from_taxonKey(taxonKey, metadata_df):\n",
    "    \n",
    "    species_name = species_name_from_taxonKey(taxonKey, metadata_df)\n",
    "    \n",
    "    google_Crawler = GoogleImageCrawler(storage = {'root_dir': r'output_image'})\n",
    "\n",
    "    google_Crawler.crawl(keyword = species_name, max_num = 20)"
   ]
  },
  {
   "cell_type": "code",
   "execution_count": 69,
   "id": "a2acbbf1",
   "metadata": {},
   "outputs": [
    {
     "name": "stderr",
     "output_type": "stream",
     "text": [
      "2022-06-03 15:56:35,919 - INFO - icrawler.crawler - start crawling...\n",
      "2022-06-03 15:56:35,936 - INFO - icrawler.crawler - starting 1 feeder threads...\n",
      "2022-06-03 15:56:35,942 - INFO - feeder - thread feeder-001 exit\n",
      "2022-06-03 15:56:35,944 - INFO - icrawler.crawler - starting 1 parser threads...\n",
      "2022-06-03 15:56:35,953 - INFO - icrawler.crawler - starting 1 downloader threads...\n",
      "2022-06-03 15:56:36,942 - INFO - parser - parsing result page https://www.google.com/search?q=Echium+vulgare+L.&ijn=0&start=0&tbs=&tbm=isch\n",
      "2022-06-03 15:56:37,757 - ERROR - downloader - Response status code 404, file https://upload.wikimedia.org/wikipedia/commons/thumb/d/d4/Echium_vulgare_L.jpg\n",
      "2022-06-03 15:56:38,054 - INFO - downloader - image #1\thttps://www.infoflora.ch/assets/db_doc/taxa_images/2012/06/20/20120620003153-bd5b2f14.jpg\n",
      "2022-06-03 15:56:38,300 - INFO - downloader - downloaded images reach max num, thread downloader-001 is ready to exit\n",
      "2022-06-03 15:56:38,300 - INFO - downloader - thread downloader-001 exit\n",
      "2022-06-03 15:56:39,022 - INFO - icrawler.crawler - Crawling task done!\n"
     ]
    }
   ],
   "source": [
    "image_from_taxonKey(2925892 ,metadata)"
   ]
  },
  {
   "cell_type": "code",
   "execution_count": null,
   "id": "683c0e68",
   "metadata": {},
   "outputs": [],
   "source": []
  },
  {
   "cell_type": "code",
   "execution_count": null,
   "id": "b5fa7356",
   "metadata": {},
   "outputs": [],
   "source": []
  },
  {
   "cell_type": "code",
   "execution_count": 16,
   "id": "eba5b98c",
   "metadata": {},
   "outputs": [],
   "source": [
    "#Standard\n",
    "\n",
    "import numpy as np\n",
    "import pandas as pd\n",
    "\n",
    "#API\n",
    "\n",
    "from icrawler.builtin import GoogleImageCrawler\n",
    "import requests\n",
    "\n",
    "\n",
    "\n",
    "# Returns species name from a taxonKey and metadata dataframe\n",
    "def species_name_from_taxonKey(taxonKey, metadata_df):\n",
    "\n",
    "    pdseries = metadata_df.loc[metadata_df['taxonKey'] == taxonKey]['scientificName']\n",
    "\n",
    "    return pdseries.iloc[0]\n",
    "\n",
    "# Returns image of species from a taxonKey and metadata dataframe\n",
    "def image_from_taxonKey(taxonKey, metadata_df):\n",
    "\n",
    "    species_name = species_name_from_taxonKey(taxonKey, metadata_df)\n",
    "\n",
    "    google_Crawler = GoogleImageCrawler(storage = {'root_dir': r'output_image'})\n",
    "\n",
    "    google_Crawler.crawl(keyword = species_name, max_num = 1)\n"
   ]
  },
  {
   "cell_type": "code",
   "execution_count": null,
   "id": "847d750c",
   "metadata": {},
   "outputs": [],
   "source": [
    "imag"
   ]
  },
  {
   "cell_type": "markdown",
   "id": "c5646738",
   "metadata": {},
   "source": [
    "# API"
   ]
  },
  {
   "cell_type": "code",
   "execution_count": 17,
   "id": "547d48d8",
   "metadata": {},
   "outputs": [],
   "source": [
    "url = 'https://nominatim.openstreetmap.org/search?'\n",
    "params = {\"q\": 'Weserstrasse 18, 12045', \"format\": 'json'}\n",
    "response = requests.get(url, params= params).json()\n"
   ]
  },
  {
   "cell_type": "code",
   "execution_count": 18,
   "id": "a37589d9",
   "metadata": {},
   "outputs": [
    {
     "data": {
      "text/plain": [
       "[{'place_id': 40779572,\n",
       "  'licence': 'Data © OpenStreetMap contributors, ODbL 1.0. https://osm.org/copyright',\n",
       "  'osm_type': 'node',\n",
       "  'osm_id': 3167656567,\n",
       "  'boundingbox': ['52.4870931', '52.4871931', '13.4319591', '13.4320591'],\n",
       "  'lat': '52.4871431',\n",
       "  'lon': '13.4320091',\n",
       "  'display_name': '18, Weserstraße, Reuterkiez, Neukölln, Berlin, 12045, Deutschland',\n",
       "  'class': 'place',\n",
       "  'type': 'house',\n",
       "  'importance': 0.22100000000000003}]"
      ]
     },
     "execution_count": 18,
     "metadata": {},
     "output_type": "execute_result"
    }
   ],
   "source": [
    "response"
   ]
  },
  {
   "cell_type": "code",
   "execution_count": null,
   "id": "517b1a45",
   "metadata": {},
   "outputs": [],
   "source": []
  },
  {
   "cell_type": "markdown",
   "id": "46c82a68",
   "metadata": {},
   "source": [
    "# Import Model"
   ]
  },
  {
   "cell_type": "code",
   "execution_count": 37,
   "id": "777d1aa6",
   "metadata": {},
   "outputs": [],
   "source": [
    "import requests\n",
    "\n",
    "#Standard\n",
    "\n",
    "import numpy as np\n",
    "import pandas as pd\n",
    "\n",
    "#API\n",
    "\n",
    "from icrawler.builtin import GoogleImageCrawler\n",
    "import requests\n",
    "\n",
    "\n",
    "# Gets coordinates from an input location\n",
    "\n",
    "def get_coordinates(location):\n",
    "    url = \"https://nominatim.openstreetmap.org/search?\"\n",
    "    params = {\"q\": location, \"format\": \"json\"}\n",
    "    response = requests.get(url, params=params).json()[0]\n",
    "    latitude = response[\"lat\"]\n",
    "    longitude = response[\"lon\"]\n",
    "\n",
    "    return float(latitude), float(longitude)\n",
    "\n",
    "# 1. Get feature data from lat and long\n",
    "\n",
    "def get_features_for_coordinates(latitude, longitude):\n",
    "    raw_data_path = path.join(path.dirname('notebooks'), '..', 'raw_data')\n",
    "    occurrences = pd.DataFrame({\"latitude\": [latitude], \"longitude\": [longitude]})\n",
    "    for collection in data_sources:\n",
    "        print(collection)\n",
    "        source_path = path.join(raw_data_path, 'output', 'features', 'dummies', data_sources[collection][\"id\"] + '_germany.csv')\n",
    "\n",
    "        features = pd.read_csv(source_path)\n",
    "        print(\"waiting for it\")\n",
    "        occurrences = occurrences.conditional_join(features,\n",
    "                                    ('latitude', 'lat_lower', '>='),\n",
    "                                    ('latitude', 'lat_upper', '<'),\n",
    "                                    ('longitude', 'lon_lower', '>='),\n",
    "                                    ('longitude', 'lon_upper', '<'),\n",
    "                                    how='inner')\n",
    "\n",
    "        occurrences = occurrences.drop(columns=['lon_lower', 'lon_upper', 'lat_lower', 'lat_upper'])\n",
    "        \n",
    "\n",
    "    return occurrences\n",
    "\n",
    "# 2. Predict most likely taxonKeys from model\n",
    "\n",
    "\n",
    "\n",
    "\n",
    "\n",
    "# Returns species name from a taxonKey and metadata dataframe\n",
    "def species_name_from_taxonKey(taxonKey, metadata_df):\n",
    "\n",
    "    pdseries = metadata_df.loc[metadata_df['taxonKey'] == taxonKey]['scientificName']\n",
    "\n",
    "    return pdseries.iloc[0]\n",
    "\n",
    "# Returns image of species from a taxonKey and metadata dataframe\n",
    "def image_from_taxonKey(taxonKey, metadata_df):\n",
    "\n",
    "    species_name = species_name_from_taxonKey(taxonKey, metadata_df)\n",
    "\n",
    "    google_Crawler = GoogleImageCrawler(storage = {'root_dir': r'output_image'})\n",
    "\n",
    "    google_Crawler.crawl(keyword = species_name, max_num = 1)\n",
    "\n",
    "# Loops through taxonKeys and prints 1 pic for each\n",
    "def list_of_species(list_of_taxonKeys, metadata_df):\n",
    "\n",
    "    for taxonKey in list_of_taxonKeys:\n",
    "        image_from_taxonKey(taxonKey, metadata_df)\n"
   ]
  },
  {
   "cell_type": "code",
   "execution_count": null,
   "id": "a11c9a5d",
   "metadata": {},
   "outputs": [],
   "source": []
  },
  {
   "cell_type": "code",
   "execution_count": null,
   "id": "440638e7",
   "metadata": {},
   "outputs": [],
   "source": []
  },
  {
   "cell_type": "code",
   "execution_count": 38,
   "id": "d5124db4",
   "metadata": {},
   "outputs": [
    {
     "name": "stdout",
     "output_type": "stream",
     "text": [
      "worldclim\n",
      "waiting for it\n",
      "gee\n",
      "waiting for it\n",
      "soilgrids\n",
      "waiting for it\n"
     ]
    },
    {
     "data": {
      "text/html": [
       "<div>\n",
       "<style scoped>\n",
       "    .dataframe tbody tr th:only-of-type {\n",
       "        vertical-align: middle;\n",
       "    }\n",
       "\n",
       "    .dataframe tbody tr th {\n",
       "        vertical-align: top;\n",
       "    }\n",
       "\n",
       "    .dataframe thead th {\n",
       "        text-align: right;\n",
       "    }\n",
       "</style>\n",
       "<table border=\"1\" class=\"dataframe\">\n",
       "  <thead>\n",
       "    <tr style=\"text-align: right;\">\n",
       "      <th></th>\n",
       "      <th>latitude</th>\n",
       "      <th>longitude</th>\n",
       "      <th>bio_1</th>\n",
       "      <th>bio_2</th>\n",
       "      <th>bio_3</th>\n",
       "      <th>bio_4</th>\n",
       "      <th>bio_5</th>\n",
       "      <th>bio_6</th>\n",
       "      <th>bio_7</th>\n",
       "      <th>bio_8</th>\n",
       "      <th>...</th>\n",
       "      <th>silt_15-30cm</th>\n",
       "      <th>silt_30-60cm</th>\n",
       "      <th>silt_5-15cm</th>\n",
       "      <th>silt_60-100cm</th>\n",
       "      <th>soc_0-5cm</th>\n",
       "      <th>soc_100-200cm</th>\n",
       "      <th>soc_15-30cm</th>\n",
       "      <th>soc_30-60cm</th>\n",
       "      <th>soc_5-15cm</th>\n",
       "      <th>soc_60-100cm</th>\n",
       "    </tr>\n",
       "  </thead>\n",
       "  <tbody>\n",
       "    <tr>\n",
       "      <th>0</th>\n",
       "      <td>52.489876</td>\n",
       "      <td>13.425102</td>\n",
       "      <td>9.766666</td>\n",
       "      <td>7.433333</td>\n",
       "      <td>28.923475</td>\n",
       "      <td>697.32715</td>\n",
       "      <td>24.0</td>\n",
       "      <td>-1.7</td>\n",
       "      <td>25.7</td>\n",
       "      <td>18.516666</td>\n",
       "      <td>...</td>\n",
       "      <td>0</td>\n",
       "      <td>0</td>\n",
       "      <td>0</td>\n",
       "      <td>0</td>\n",
       "      <td>0</td>\n",
       "      <td>0</td>\n",
       "      <td>0</td>\n",
       "      <td>0</td>\n",
       "      <td>0</td>\n",
       "      <td>0</td>\n",
       "    </tr>\n",
       "  </tbody>\n",
       "</table>\n",
       "<p>1 rows × 84 columns</p>\n",
       "</div>"
      ],
      "text/plain": [
       "    latitude  longitude     bio_1     bio_2      bio_3      bio_4  bio_5  \\\n",
       "0  52.489876  13.425102  9.766666  7.433333  28.923475  697.32715   24.0   \n",
       "\n",
       "   bio_6  bio_7      bio_8  ...  silt_15-30cm  silt_30-60cm  silt_5-15cm  \\\n",
       "0   -1.7   25.7  18.516666  ...             0             0            0   \n",
       "\n",
       "   silt_60-100cm  soc_0-5cm  soc_100-200cm  soc_15-30cm  soc_30-60cm  \\\n",
       "0              0          0              0            0            0   \n",
       "\n",
       "   soc_5-15cm  soc_60-100cm  \n",
       "0           0             0  \n",
       "\n",
       "[1 rows x 84 columns]"
      ]
     },
     "execution_count": 38,
     "metadata": {},
     "output_type": "execute_result"
    }
   ],
   "source": [
    "get_features_for_coordinates(52.489876, 13.425102)"
   ]
  }
 ],
 "metadata": {
  "kernelspec": {
   "display_name": "Python 3 (ipykernel)",
   "language": "python",
   "name": "python3"
  },
  "language_info": {
   "codemirror_mode": {
    "name": "ipython",
    "version": 3
   },
   "file_extension": ".py",
   "mimetype": "text/x-python",
   "name": "python",
   "nbconvert_exporter": "python",
   "pygments_lexer": "ipython3",
   "version": "3.8.13"
  },
  "toc": {
   "base_numbering": 1,
   "nav_menu": {},
   "number_sections": true,
   "sideBar": true,
   "skip_h1_title": false,
   "title_cell": "Table of Contents",
   "title_sidebar": "Contents",
   "toc_cell": false,
   "toc_position": {},
   "toc_section_display": true,
   "toc_window_display": false
  },
  "varInspector": {
   "cols": {
    "lenName": 16,
    "lenType": 16,
    "lenVar": 40
   },
   "kernels_config": {
    "python": {
     "delete_cmd_postfix": "",
     "delete_cmd_prefix": "del ",
     "library": "var_list.py",
     "varRefreshCmd": "print(var_dic_list())"
    },
    "r": {
     "delete_cmd_postfix": ") ",
     "delete_cmd_prefix": "rm(",
     "library": "var_list.r",
     "varRefreshCmd": "cat(var_dic_list()) "
    }
   },
   "types_to_exclude": [
    "module",
    "function",
    "builtin_function_or_method",
    "instance",
    "_Feature"
   ],
   "window_display": false
  }
 },
 "nbformat": 4,
 "nbformat_minor": 5
}
